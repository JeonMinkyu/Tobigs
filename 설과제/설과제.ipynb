{
 "cells": [
  {
   "cell_type": "code",
   "execution_count": 26,
   "metadata": {},
   "outputs": [
    {
     "name": "stdout",
     "output_type": "stream",
     "text": [
      "input : -3 -4 15 -5 10\n"
     ]
    },
    {
     "data": {
      "text/plain": [
       "\"output : ['-3', '-4', '-5', '15', '10']\""
      ]
     },
     "execution_count": 26,
     "metadata": {},
     "output_type": "execute_result"
    }
   ],
   "source": [
    "#알고리즘 1번\n",
    "\n",
    "def array(a):\n",
    "    x=[]\n",
    "    y=[]\n",
    "    z=a.split()\n",
    "\n",
    "    for i in range(len(z)):\n",
    "        if int(a.split()[i])<0:\n",
    "            x.append(z[i])\n",
    "        else:\n",
    "            y.append(z[i])\n",
    "    return(\"output : %s\" %(x+y))\n",
    "\n",
    "a=input(\"input : \")\n",
    "array(a)\n"
   ]
  },
  {
   "cell_type": "code",
   "execution_count": 2,
   "metadata": {},
   "outputs": [
    {
     "name": "stdout",
     "output_type": "stream",
     "text": [
      "1366\n"
     ]
    }
   ],
   "source": [
    "#알고리즘 2번\n",
    "\n",
    "a=2**1000\n",
    "b=str(a)\n",
    "sum=0\n",
    "\n",
    "for i in range(len(b)):\n",
    "    sum=sum+int(b[i])\n",
    "\n",
    "print(sum)"
   ]
  },
  {
   "cell_type": "code",
   "execution_count": 19,
   "metadata": {},
   "outputs": [
    {
     "name": "stdout",
     "output_type": "stream",
     "text": [
      "21\n"
     ]
    }
   ],
   "source": [
    "#알고리즘 3번\n",
    "n=0\n",
    "t=0\n",
    "\n",
    "for a in range(100, 1000):\n",
    "    rev_a=str(a)[::-1]\n",
    "    multi_a=a*int(rev_a)\n",
    "    if str(multi_a)[len(str(multi_a))-1]=='0':\n",
    "        continue\n",
    "    for i in range(len(str(multi_a))-1):\n",
    "        if int(str(multi_a)[i])<=int(str(multi_a)[i+1]):\n",
    "            t=t+1\n",
    "        else :\n",
    "            t=0\n",
    "            break\n",
    "    if t!=0:\n",
    "        n=n+1\n",
    "            \n",
    "\n",
    "print(n)"
   ]
  },
  {
   "cell_type": "code",
   "execution_count": 18,
   "metadata": {},
   "outputs": [
    {
     "name": "stdout",
     "output_type": "stream",
     "text": [
      ".... .  ... .-.. . . .--. ...  . .- .-. .-.. -.--\n",
      "he sleeps early"
     ]
    }
   ],
   "source": [
    "#알고리즘 4번\n",
    "mos={'.-':'a','-.':'n','-...':'b','---':'o','-.-.':'c','.--.':'p','-..':'d','--.-':'q','.':'e','.-.':'r','..-.':'f','...':'s','--.':'g','-':'t','....':'h','..-':'u','..':'i','...-':'v','.---':'j','.--':'w','-.-':'k','-..-':'x','.-..':'l','-.--':'y','--':'m','--..':'z'}\n",
    "\n",
    "mos_signal=input()\n",
    "a=mos_signal.split(' ')\n",
    "\n",
    "for i in range(len(a)):\n",
    "    try:\n",
    "        print(mos[a[i]],end='')\n",
    "    except KeyError:\n",
    "        print(' ',end='')"
   ]
  }
 ],
 "metadata": {
  "kernelspec": {
   "display_name": "Python 3",
   "language": "python",
   "name": "python3"
  },
  "language_info": {
   "codemirror_mode": {
    "name": "ipython",
    "version": 3
   },
   "file_extension": ".py",
   "mimetype": "text/x-python",
   "name": "python",
   "nbconvert_exporter": "python",
   "pygments_lexer": "ipython3",
   "version": "3.6.3"
  }
 },
 "nbformat": 4,
 "nbformat_minor": 2
}
