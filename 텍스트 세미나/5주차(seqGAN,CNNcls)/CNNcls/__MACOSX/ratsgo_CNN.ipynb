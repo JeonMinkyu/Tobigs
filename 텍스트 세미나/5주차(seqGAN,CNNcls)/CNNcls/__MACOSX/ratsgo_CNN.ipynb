{
 "cells": [
  {
   "cell_type": "code",
   "execution_count": 1,
   "metadata": {
    "collapsed": true
   },
   "outputs": [],
   "source": [
    "import numpy as np\n",
    "import pandas as pd\n",
    "import re\n",
    "import tensorflow as tf\n",
    "import random\n",
    "from sklearn.preprocessing import normalize"
   ]
  },
  {
   "cell_type": "code",
   "execution_count": 2,
   "metadata": {
    "collapsed": true
   },
   "outputs": [],
   "source": [
    "def cut(contents, cut=2):\n",
    "    results = []\n",
    "    for content in contents:\n",
    "        words = content.split()\n",
    "        result = []\n",
    "        for word in words:\n",
    "            result.append(word[:cut])\n",
    "        results.append(' '.join([token for token in result]))\n",
    "    return results"
   ]
  },
  {
   "cell_type": "code",
   "execution_count": 3,
   "metadata": {
    "collapsed": true
   },
   "outputs": [],
   "source": [
    "def divide(x, y, train_prop):\n",
    "    random.seed(1234)\n",
    "    x = np.array(x)\n",
    "    y = np.array(y)\n",
    "    tmp = np.random.permutation(np.arange(len(x)))\n",
    "    x_tr = x[tmp][:round(train_prop * len(x))]\n",
    "    y_tr = y[tmp][:round(train_prop * len(x))]\n",
    "    x_te = x[tmp][-(len(x)-round(train_prop * len(x))):]\n",
    "    y_te = y[tmp][-(len(x)-round(train_prop * len(x))):]\n",
    "    return x_tr, x_te, y_tr, y_te"
   ]
  },
  {
   "cell_type": "code",
   "execution_count": 4,
   "metadata": {
    "collapsed": true
   },
   "outputs": [],
   "source": [
    "def make_input(documents, max_document_length):\n",
    "    # tensorflow.contrib.learn.preprocessing 내에 VocabularyProcessor라는 클래스를 이용\n",
    "    # 모든 문서에 등장하는 단어들에 인덱스를 할당\n",
    "    # 길이가 다른 문서를 max_document_length로 맞춰주는 역할\n",
    "    vocab_processor = tf.contrib.learn.preprocessing.VocabularyProcessor(max_document_length)  # 객체 선언\n",
    "    x = np.array(list(vocab_processor.fit_transform(documents)))\n",
    "    ### 텐서플로우 vocabulary processor\n",
    "    # Extract word:id mapping from the object.\n",
    "    # word to ix 와 유사\n",
    "    vocab_dict = vocab_processor.vocabulary_._mapping\n",
    "    # Sort the vocabulary dictionary on the basis of values(id).\n",
    "    sorted_vocab = sorted(vocab_dict.items(), key=lambda x: x[1])\n",
    "    # Treat the id's as index into list and create a list of words in the ascending order of id's\n",
    "    # word with id i goes at index i of the list.\n",
    "    vocabulary = list(list(zip(*sorted_vocab))[0])\n",
    "    return x, vocabulary, len(vocab_processor.vocabulary_)"
   ]
  },
  {
   "cell_type": "code",
   "execution_count": 5,
   "metadata": {
    "collapsed": true
   },
   "outputs": [],
   "source": [
    "def make_output(points, threshold):\n",
    "    results = np.zeros((len(points),2))\n",
    "    for idx, point in enumerate(points):\n",
    "        if point > threshold:\n",
    "            results[idx,0] = 1\n",
    "        else:\n",
    "            results[idx,1] = 1\n",
    "    return results"
   ]
  },
  {
   "cell_type": "code",
   "execution_count": 6,
   "metadata": {
    "collapsed": true
   },
   "outputs": [],
   "source": [
    "def check_maxlength(contents):\n",
    "    max_document_length = 0\n",
    "    for document in contents:\n",
    "        document_length = len(document.split())\n",
    "        if document_length > max_document_length:\n",
    "            max_document_length = document_length\n",
    "    return max_document_length"
   ]
  },
  {
   "cell_type": "code",
   "execution_count": 7,
   "metadata": {
    "collapsed": true
   },
   "outputs": [],
   "source": [
    "def loading_rdata(data_path):\n",
    "    # R에서 title과 contents만 csv로 저장한걸 불러와서 제목과 컨텐츠로 분리\n",
    "    # write.csv(corpus, data_path, fileEncoding='utf-8', row.names=F)\n",
    "    corpus = pd.read_table(data_path, sep=\",\", encoding=\"utf-8\")\n",
    "    corpus = np.array(corpus)\n",
    "    contents = []\n",
    "    points = []\n",
    "    for i in range(len(corpus)):\n",
    "        contents.append(corpus[i][0])\n",
    "        points.append(corpus[i][1])\n",
    "    return contents, points"
   ]
  },
  {
   "cell_type": "code",
   "execution_count": 8,
   "metadata": {
    "collapsed": true
   },
   "outputs": [],
   "source": [
    "def isNumber(s):\n",
    "  try:\n",
    "    float(s)\n",
    "    return True\n",
    "  except ValueError:\n",
    "    return False"
   ]
  },
  {
   "cell_type": "code",
   "execution_count": 9,
   "metadata": {
    "collapsed": true
   },
   "outputs": [],
   "source": [
    "import os\n",
    "import time\n",
    "import datetime\n",
    "from tensorflow import flags\n",
    "import tensorflow as tf\n",
    "import numpy as np\n",
    "import cnn_tool as tool"
   ]
  },
  {
   "cell_type": "code",
   "execution_count": 54,
   "metadata": {
    "collapsed": true
   },
   "outputs": [],
   "source": [
    "class TextCNN(object):\n",
    "    \"\"\"\n",
    "    A CNN for text classification.\n",
    "    Uses an embedding layer, followed by a convolutional, max-pooling and softmax layer.\n",
    "    <Parameters>\n",
    "        - sequence_length: 최대 문장 길이\n",
    "        - num_classes: 클래스 개수\n",
    "        - vocab_size: 등장 단어 수\n",
    "        - embedding_size: 각 단어에 해당되는 임베디드 벡터의 차원\n",
    "        - filter_sizes: convolutional filter들의 사이즈 (= 각 filter가 몇 개의 단어를 볼 것인가?) (예: \"3, 4, 5\")\n",
    "        - num_filters: 각 filter size 별 filter 수\n",
    "        - l2_reg_lambda: 각 weights, biases에 대한 l2 regularization 정도\n",
    "    \"\"\"\n",
    "\n",
    "    def __init__(\n",
    "            self, sequence_length, num_classes, vocab_size,\n",
    "            embedding_size, filter_sizes, num_filters, l2_reg_lambda=0.0):\n",
    "        # Placeholders for input, output and dropout\n",
    "        self.input_x = tf.placeholder(tf.int32, [None, sequence_length], name=\"input_x\")\n",
    "        self.input_y = tf.placeholder(tf.float32, [None, num_classes], name=\"input_y\")\n",
    "        self.dropout_keep_prob = tf.placeholder(tf.float32, name=\"dropout_keep_prob\")\n",
    "\n",
    "        # Keeping track of l2 regularization loss (optional)\n",
    "        l2_loss = tf.constant(0.0)\n",
    "\n",
    "        # Embedding layer\n",
    "        \"\"\"\n",
    "        <Variable>\n",
    "            - W: 각 단어의 임베디드 벡터의 성분을 랜덤하게 할당\n",
    "        \"\"\"\n",
    "        with tf.device('/cpu:0'), tf.name_scope(\"embedding\"):\n",
    "        #with tf.device('/cpu:0'), tf.name_scope(\"embedding\"):\n",
    "            W = tf.Variable(\n",
    "                tf.random_uniform([vocab_size, embedding_size], -1.0, 1.0),\n",
    "                name=\"W\")\n",
    "            self.embedded_chars = tf.nn.embedding_lookup(W, self.input_x)\n",
    "            self.embedded_chars_expanded = tf.expand_dims(self.embedded_chars, -1)\n",
    "\n",
    "        # Create a convolution + maxpool layer for each filter size\n",
    "        pooled_outputs = []\n",
    "        for i, filter_size in enumerate(filter_sizes):\n",
    "            with tf.name_scope(\"conv-maxpool-%s\" % filter_size):\n",
    "                # Convolution Layer\n",
    "                filter_shape = [filter_size, embedding_size, 1, num_filters]\n",
    "                W = tf.Variable(tf.truncated_normal(filter_shape, stddev=0.1), name=\"W\")\n",
    "                b = tf.Variable(tf.constant(0.1, shape=[num_filters]), name=\"b\")\n",
    "                conv = tf.nn.conv2d(\n",
    "                    self.embedded_chars_expanded,\n",
    "                    W,\n",
    "                    strides=[1, 1, 1, 1],\n",
    "                    padding=\"VALID\",\n",
    "                    name=\"conv\")\n",
    "                # Apply nonlinearity\n",
    "                h = tf.nn.relu(tf.nn.bias_add(conv, b), name=\"relu\")\n",
    "                # Maxpooling over the outputs\n",
    "                pooled = tf.nn.max_pool(\n",
    "                    h,\n",
    "                    ksize=[1, sequence_length - filter_size + 1, 1, 1],\n",
    "                    strides=[1, 1, 1, 1],\n",
    "                    padding='VALID',\n",
    "                    name=\"pool\")\n",
    "                pooled_outputs.append(pooled)\n",
    "\n",
    "        # Combine all the pooled features\n",
    "        num_filters_total = num_filters * len(filter_sizes)\n",
    "        self.h_pool = tf.concat(pooled_outputs, 3)\n",
    "        self.h_pool_flat = tf.reshape(self.h_pool, [-1, num_filters_total])\n",
    "\n",
    "        # Add dropout\n",
    "        with tf.name_scope(\"dropout\"):\n",
    "            self.h_drop = tf.nn.dropout(self.h_pool_flat, self.dropout_keep_prob)\n",
    "\n",
    "        # Final (unnormalized) scores and predictions\n",
    "        with tf.name_scope(\"output\"):\n",
    "            W = tf.get_variable(\n",
    "                \"W\",\n",
    "                shape=[num_filters_total, num_classes],\n",
    "                initializer=tf.contrib.layers.xavier_initializer())\n",
    "            b = tf.Variable(tf.constant(0.1, shape=[num_classes]), name=\"b\")\n",
    "            l2_loss += tf.nn.l2_loss(W)\n",
    "            l2_loss += tf.nn.l2_loss(b)\n",
    "            self.scores = tf.nn.xw_plus_b(self.h_drop, W, b, name=\"scores\")\n",
    "            self.predictions = tf.argmax(self.scores, 1, name=\"predictions\")\n",
    "\n",
    "        # Calculate Mean cross-entropy loss\n",
    "        with tf.name_scope(\"loss\"):\n",
    "            losses = tf.nn.softmax_cross_entropy_with_logits(labels = self.scores, logits = self.input_y)\n",
    "            self.loss = tf.reduce_mean(losses) + l2_reg_lambda * l2_loss\n",
    "\n",
    "        # Accuracy\n",
    "        with tf.name_scope(\"accuracy\"):\n",
    "            correct_predictions = tf.equal(self.predictions, tf.argmax(self.input_y, 1))\n",
    "            self.accuracy = tf.reduce_mean(tf.cast(correct_predictions, \"float\"), name=\"accuracy\")"
   ]
  },
  {
   "cell_type": "code",
   "execution_count": 55,
   "metadata": {
    "collapsed": true
   },
   "outputs": [],
   "source": [
    "# data loading\n",
    "data_path = '/Users/Wook-Young/Downloads/0523/Practice2.csv'\n",
    "contents, points = tool.loading_rdata(data_path)\n",
    "contents = tool.cut(contents,cut=2)"
   ]
  },
  {
   "cell_type": "code",
   "execution_count": 56,
   "metadata": {},
   "outputs": [
    {
     "data": {
      "text/plain": [
       "129734"
      ]
     },
     "execution_count": 56,
     "metadata": {},
     "output_type": "execute_result"
    }
   ],
   "source": [
    "len(contents)"
   ]
  },
  {
   "cell_type": "code",
   "execution_count": 57,
   "metadata": {},
   "outputs": [
    {
     "name": "stdout",
     "output_type": "stream",
     "text": [
      "사전단어수 : 52320\n"
     ]
    }
   ],
   "source": [
    "# tranform document to vector\n",
    "max_document_length = 200\n",
    "x, vocabulary, vocab_size = tool.make_input(contents,max_document_length)\n",
    "print('사전단어수 : %s' % (vocab_size))\n",
    "y = tool.make_output(points,threshold=2.5)\n"
   ]
  },
  {
   "cell_type": "code",
   "execution_count": 14,
   "metadata": {},
   "outputs": [
    {
     "data": {
      "text/plain": [
       "list"
      ]
     },
     "execution_count": 14,
     "metadata": {},
     "output_type": "execute_result"
    }
   ],
   "source": [
    "type(vocabulary)"
   ]
  },
  {
   "cell_type": "code",
   "execution_count": 15,
   "metadata": {
    "collapsed": true
   },
   "outputs": [],
   "source": [
    "# divide dataset into train/test set\n",
    "x_train, x_test, y_train, y_test = tool.divide(x,y,train_prop=0.8)"
   ]
  },
  {
   "cell_type": "code",
   "execution_count": 16,
   "metadata": {},
   "outputs": [
    {
     "data": {
      "text/plain": [
       "array([[1., 0.]])"
      ]
     },
     "execution_count": 16,
     "metadata": {},
     "output_type": "execute_result"
    }
   ],
   "source": [
    "y_train[1:2]"
   ]
  },
  {
   "cell_type": "code",
   "execution_count": 17,
   "metadata": {
    "collapsed": true
   },
   "outputs": [],
   "source": [
    "# Model Hyperparameters\n",
    "flags.DEFINE_integer(\"embedding_dim\", 128, \"Dimensionality of embedded vector (default: 128)\")\n",
    "flags.DEFINE_string(\"filter_sizes\", \"3,4,5\", \"Comma-separated filter sizes (default: '3,4,5')\")\n",
    "flags.DEFINE_integer(\"num_filters\", 128, \"Number of filters per filter size (default: 128)\")\n",
    "flags.DEFINE_float(\"dropout_keep_prob\", 0.5, \"Dropout keep probability (default: 0.5)\")\n",
    "flags.DEFINE_float(\"l2_reg_lambda\", 0.1, \"L2 regularization lambda (default: 0.0)\")"
   ]
  },
  {
   "cell_type": "code",
   "execution_count": 18,
   "metadata": {
    "collapsed": true
   },
   "outputs": [],
   "source": [
    "# Training parameters\n",
    "flags.DEFINE_integer(\"batch_size\", 64, \"Batch Size (default: 64)\")\n",
    "flags.DEFINE_integer(\"num_epochs\", 10, \"Number of training epochs (default: 200)\")\n",
    "flags.DEFINE_integer(\"evaluate_every\", 100, \"Evaluate model on dev set after this many steps (default: 100)\")\n",
    "flags.DEFINE_integer(\"checkpoint_every\", 100, \"Save model after this many steps (default: 100)\")\n",
    "flags.DEFINE_integer(\"num_checkpoints\", 5, \"Number of checkpoints to store (default: 5)\")"
   ]
  },
  {
   "cell_type": "code",
   "execution_count": 19,
   "metadata": {
    "collapsed": true
   },
   "outputs": [],
   "source": [
    "# Misc Parameters\n",
    "flags.DEFINE_boolean(\"allow_soft_placement\", True, \"Allow device soft device placement\")\n",
    "flags.DEFINE_boolean(\"log_device_placement\", False, \"Log placement of ops on devices\")"
   ]
  },
  {
   "cell_type": "code",
   "execution_count": 43,
   "metadata": {},
   "outputs": [
    {
     "data": {
      "text/plain": [
       "dict_items([('embedding_dim', 128), ('filter_sizes', '3,4,5'), ('num_filters', 128), ('dropout_keep_prob', 0.5), ('l2_reg_lambda', 0.1), ('batch_size', 64), ('num_epochs', 10), ('evaluate_every', 100), ('checkpoint_every', 100), ('num_checkpoints', 5), ('allow_soft_placement', True), ('log_device_placement', False)])"
      ]
     },
     "execution_count": 43,
     "metadata": {},
     "output_type": "execute_result"
    }
   ],
   "source": [
    "FLAGS = tf.flags.FLAGS\n",
    "FLAGS.__flags.items()"
   ]
  },
  {
   "cell_type": "code",
   "execution_count": 44,
   "metadata": {},
   "outputs": [
    {
     "name": "stdout",
     "output_type": "stream",
     "text": [
      "\n",
      "Parameters:\n",
      "ALLOW_SOFT_PLACEMENT=True\n",
      "BATCH_SIZE=64\n",
      "CHECKPOINT_EVERY=100\n",
      "DROPOUT_KEEP_PROB=0.5\n",
      "EMBEDDING_DIM=128\n",
      "EVALUATE_EVERY=100\n",
      "FILTER_SIZES=3,4,5\n",
      "L2_REG_LAMBDA=0.1\n",
      "LOG_DEVICE_PLACEMENT=False\n",
      "NUM_CHECKPOINTS=5\n",
      "NUM_EPOCHS=10\n",
      "NUM_FILTERS=128\n",
      "\n"
     ]
    }
   ],
   "source": [
    "FLAGS = tf.flags.FLAGS\n",
    "print(\"\\nParameters:\")\n",
    "for attr, value in sorted(FLAGS.__flags.items()):\n",
    "    print(\"{}={}\".format(attr.upper(), value))\n",
    "print(\"\")"
   ]
  },
  {
   "cell_type": "code",
   "execution_count": 53,
   "metadata": {},
   "outputs": [
    {
     "data": {
      "text/plain": [
       "0.1"
      ]
     },
     "execution_count": 53,
     "metadata": {},
     "output_type": "execute_result"
    }
   ],
   "source": [
    "FLAGS.l2_reg_lambda"
   ]
  },
  {
   "cell_type": "code",
   "execution_count": 58,
   "metadata": {},
   "outputs": [
    {
     "name": "stdout",
     "output_type": "stream",
     "text": [
      "INFO:tensorflow:Summary name W:0 is illegal; using W_0 instead.\n",
      "INFO:tensorflow:Summary name W:0 is illegal; using W_0 instead.\n",
      "INFO:tensorflow:Summary name output/b:0 is illegal; using output/b_0 instead.\n",
      "INFO:tensorflow:Summary name output/b:0 is illegal; using output/b_0 instead.\n",
      "Writing to /Users/Wook-Young/Downloads/0523/runs/1527077001\n",
      "\n",
      "2018-05-23T21:03:22.340815: step 1, loss -0.609596, acc 0.421875\n",
      "2018-05-23T21:03:22.542636: step 2, loss -1.77355, acc 0.53125\n",
      "2018-05-23T21:03:22.750698: step 3, loss -1.45268, acc 0.5625\n",
      "2018-05-23T21:03:22.951758: step 4, loss -1.67036, acc 0.5\n",
      "2018-05-23T21:03:23.159426: step 5, loss -1.90896, acc 0.484375\n",
      "2018-05-23T21:03:23.359513: step 6, loss -1.77704, acc 0.578125\n",
      "2018-05-23T21:03:23.563208: step 7, loss -1.1559, acc 0.546875\n",
      "2018-05-23T21:03:23.760222: step 8, loss -2.7733, acc 0.609375\n",
      "2018-05-23T21:03:23.963689: step 9, loss -1.83758, acc 0.609375\n",
      "2018-05-23T21:03:24.160866: step 10, loss -1.73793, acc 0.65625\n",
      "2018-05-23T21:03:24.377172: step 11, loss -2.05953, acc 0.578125\n",
      "2018-05-23T21:03:24.581115: step 12, loss -2.96669, acc 0.46875\n",
      "2018-05-23T21:03:24.803452: step 13, loss -1.57548, acc 0.671875\n",
      "2018-05-23T21:03:25.040063: step 14, loss -1.69988, acc 0.53125\n",
      "2018-05-23T21:03:25.292110: step 15, loss -1.40882, acc 0.5\n",
      "2018-05-23T21:03:25.580733: step 16, loss -1.1982, acc 0.578125\n",
      "2018-05-23T21:03:25.786286: step 17, loss -1.87198, acc 0.59375\n",
      "2018-05-23T21:03:25.987570: step 18, loss -1.49803, acc 0.5\n",
      "2018-05-23T21:03:26.195241: step 19, loss -1.68143, acc 0.421875\n",
      "2018-05-23T21:03:26.423396: step 20, loss -2.06682, acc 0.6875\n",
      "2018-05-23T21:03:26.623242: step 21, loss -1.31046, acc 0.4375\n",
      "2018-05-23T21:03:26.826228: step 22, loss -1.94962, acc 0.609375\n",
      "2018-05-23T21:03:27.023591: step 23, loss -1.84436, acc 0.421875\n",
      "2018-05-23T21:03:27.226319: step 24, loss -1.72716, acc 0.59375\n",
      "2018-05-23T21:03:27.423742: step 25, loss -2.00479, acc 0.640625\n",
      "2018-05-23T21:03:27.632991: step 26, loss -1.51413, acc 0.546875\n",
      "2018-05-23T21:03:27.833284: step 27, loss -1.37503, acc 0.609375\n",
      "2018-05-23T21:03:28.091220: step 28, loss -1.81799, acc 0.609375\n",
      "2018-05-23T21:03:28.396402: step 29, loss -1.88207, acc 0.671875\n",
      "2018-05-23T21:03:28.671922: step 30, loss -1.87267, acc 0.609375\n",
      "2018-05-23T21:03:28.872429: step 31, loss -1.84387, acc 0.546875\n",
      "2018-05-23T21:03:29.078304: step 32, loss -1.53743, acc 0.609375\n",
      "2018-05-23T21:03:29.300360: step 33, loss -1.83001, acc 0.65625\n",
      "2018-05-23T21:03:29.517253: step 34, loss -1.94041, acc 0.625\n",
      "2018-05-23T21:03:29.741760: step 35, loss -1.58558, acc 0.640625\n",
      "2018-05-23T21:03:29.941550: step 36, loss -1.36261, acc 0.5\n",
      "2018-05-23T21:03:30.147117: step 37, loss -1.67903, acc 0.546875\n",
      "2018-05-23T21:03:30.343207: step 38, loss -1.58538, acc 0.5625\n",
      "2018-05-23T21:03:30.610341: step 39, loss -2.05856, acc 0.640625\n",
      "2018-05-23T21:03:30.895365: step 40, loss -1.87747, acc 0.71875\n",
      "2018-05-23T21:03:31.115837: step 41, loss -1.4942, acc 0.46875\n",
      "2018-05-23T21:03:31.316960: step 42, loss -1.95674, acc 0.640625\n",
      "2018-05-23T21:03:31.519277: step 43, loss -1.62185, acc 0.59375\n",
      "2018-05-23T21:03:31.753233: step 44, loss -1.58595, acc 0.671875\n",
      "2018-05-23T21:03:31.955200: step 45, loss -1.5277, acc 0.578125\n",
      "2018-05-23T21:03:32.157371: step 46, loss -1.33858, acc 0.484375\n",
      "2018-05-23T21:03:32.354368: step 47, loss -1.37925, acc 0.5625\n",
      "2018-05-23T21:03:32.557619: step 48, loss -1.71684, acc 0.640625\n",
      "2018-05-23T21:03:32.757750: step 49, loss -1.58835, acc 0.640625\n",
      "2018-05-23T21:03:32.959958: step 50, loss -1.96983, acc 0.65625\n",
      "2018-05-23T21:03:33.156866: step 51, loss -1.75779, acc 0.5\n",
      "2018-05-23T21:03:33.360088: step 52, loss -1.56365, acc 0.546875\n",
      "2018-05-23T21:03:33.557669: step 53, loss -1.59443, acc 0.625\n",
      "2018-05-23T21:03:33.760474: step 54, loss -1.47038, acc 0.59375\n",
      "2018-05-23T21:03:33.958116: step 55, loss -1.18162, acc 0.546875\n",
      "2018-05-23T21:03:34.160668: step 56, loss -1.29672, acc 0.6875\n",
      "2018-05-23T21:03:34.359498: step 57, loss -1.55137, acc 0.65625\n",
      "2018-05-23T21:03:34.563455: step 58, loss -1.70321, acc 0.71875\n",
      "2018-05-23T21:03:34.760661: step 59, loss -1.58706, acc 0.71875\n",
      "2018-05-23T21:03:35.030977: step 60, loss -1.25377, acc 0.609375\n",
      "2018-05-23T21:03:35.298554: step 61, loss -1.31244, acc 0.65625\n",
      "2018-05-23T21:03:35.519460: step 62, loss -1.56884, acc 0.65625\n",
      "2018-05-23T21:03:35.721519: step 63, loss -1.36325, acc 0.625\n",
      "2018-05-23T21:03:35.925366: step 64, loss -1.54325, acc 0.6875\n",
      "2018-05-23T21:03:36.158640: step 65, loss -1.39292, acc 0.640625\n",
      "2018-05-23T21:03:36.360918: step 66, loss -1.37886, acc 0.65625\n",
      "2018-05-23T21:03:36.565187: step 67, loss -1.47563, acc 0.640625\n",
      "2018-05-23T21:03:36.765111: step 68, loss -1.4377, acc 0.671875\n",
      "2018-05-23T21:03:36.969768: step 69, loss -1.20594, acc 0.578125\n",
      "2018-05-23T21:03:37.168870: step 70, loss -1.21272, acc 0.6875\n",
      "2018-05-23T21:03:37.374929: step 71, loss -1.29162, acc 0.65625\n",
      "2018-05-23T21:03:37.575448: step 72, loss -1.12219, acc 0.625\n",
      "2018-05-23T21:03:37.780435: step 73, loss -1.41132, acc 0.75\n",
      "2018-05-23T21:03:37.980890: step 74, loss -1.406, acc 0.671875\n",
      "2018-05-23T21:03:38.185860: step 75, loss -1.15324, acc 0.546875\n",
      "2018-05-23T21:03:38.383105: step 76, loss -1.01522, acc 0.65625\n",
      "2018-05-23T21:03:38.646678: step 77, loss -1.05982, acc 0.734375\n",
      "2018-05-23T21:03:38.930944: step 78, loss -1.36365, acc 0.734375\n",
      "2018-05-23T21:03:39.163729: step 79, loss -1.28935, acc 0.671875\n",
      "2018-05-23T21:03:39.373143: step 80, loss -1.28709, acc 0.65625\n",
      "2018-05-23T21:03:39.612886: step 81, loss -1.19884, acc 0.71875\n",
      "2018-05-23T21:03:39.902176: step 82, loss -0.914057, acc 0.578125\n",
      "2018-05-23T21:03:40.133935: step 83, loss -1.2923, acc 0.78125\n",
      "2018-05-23T21:03:40.332793: step 84, loss -1.07088, acc 0.671875\n",
      "2018-05-23T21:03:40.535419: step 85, loss -1.13534, acc 0.609375\n",
      "2018-05-23T21:03:40.732360: step 86, loss -1.36489, acc 0.71875\n",
      "2018-05-23T21:03:40.947612: step 87, loss -1.09215, acc 0.71875\n",
      "2018-05-23T21:03:41.149886: step 88, loss -1.20297, acc 0.734375\n",
      "2018-05-23T21:03:41.351349: step 89, loss -1.13436, acc 0.75\n",
      "2018-05-23T21:03:41.563499: step 90, loss -1.08923, acc 0.78125\n",
      "2018-05-23T21:03:41.807199: step 91, loss -1.11475, acc 0.703125\n",
      "2018-05-23T21:03:42.036913: step 92, loss -1.15553, acc 0.8125\n",
      "2018-05-23T21:03:42.249306: step 93, loss -1.09322, acc 0.765625\n",
      "2018-05-23T21:03:42.484668: step 94, loss -1.08705, acc 0.6875\n",
      "2018-05-23T21:03:42.708883: step 95, loss -1.02276, acc 0.640625\n",
      "2018-05-23T21:03:42.910742: step 96, loss -0.892227, acc 0.734375\n",
      "2018-05-23T21:03:43.187511: step 97, loss -0.943871, acc 0.796875\n",
      "2018-05-23T21:03:43.455281: step 98, loss -0.875748, acc 0.734375\n",
      "2018-05-23T21:03:43.678735: step 99, loss -0.820539, acc 0.65625\n",
      "2018-05-23T21:03:43.880293: step 100, loss -0.770588, acc 0.703125\n",
      "\n",
      "Evaluation:\n",
      "2018-05-23T21:03:44.417034: step 100, loss -0.95586, acc 0.94\n",
      "\n",
      "Saved model checkpoint to /Users/Wook-Young/Downloads/0523/runs/1527077001/checkpoints/model-100\n",
      "\n",
      "2018-05-23T21:03:44.907866: step 101, loss -1.08138, acc 0.65625\n",
      "2018-05-23T21:03:45.134343: step 102, loss -0.760664, acc 0.703125\n",
      "2018-05-23T21:03:45.341382: step 103, loss -0.830288, acc 0.65625\n",
      "2018-05-23T21:03:45.609287: step 104, loss -0.847565, acc 0.765625\n",
      "2018-05-23T21:03:45.873005: step 105, loss -0.873214, acc 0.75\n",
      "2018-05-23T21:03:46.139017: step 106, loss -0.817098, acc 0.796875\n",
      "2018-05-23T21:03:46.409156: step 107, loss -0.854772, acc 0.734375\n",
      "2018-05-23T21:03:46.635024: step 108, loss -0.807966, acc 0.671875\n",
      "2018-05-23T21:03:46.863016: step 109, loss -0.929612, acc 0.765625\n",
      "2018-05-23T21:03:47.107477: step 110, loss -0.787031, acc 0.78125\n",
      "2018-05-23T21:03:47.315811: step 111, loss -0.83441, acc 0.78125\n",
      "2018-05-23T21:03:47.518917: step 112, loss -0.686076, acc 0.65625\n",
      "2018-05-23T21:03:47.716846: step 113, loss -0.751692, acc 0.84375\n",
      "2018-05-23T21:03:47.919710: step 114, loss -0.657539, acc 0.71875\n",
      "2018-05-23T21:03:48.116892: step 115, loss -0.686698, acc 0.6875\n",
      "2018-05-23T21:03:48.321124: step 116, loss -0.554981, acc 0.640625\n",
      "2018-05-23T21:03:48.520963: step 117, loss -0.582111, acc 0.671875\n",
      "2018-05-23T21:03:48.783754: step 118, loss -0.71987, acc 0.75\n",
      "2018-05-23T21:03:48.992314: step 119, loss -0.571143, acc 0.78125\n",
      "2018-05-23T21:03:49.231471: step 120, loss -0.694302, acc 0.8125\n"
     ]
    },
    {
     "name": "stdout",
     "output_type": "stream",
     "text": [
      "2018-05-23T21:03:49.484042: step 121, loss -0.599716, acc 0.765625\n",
      "2018-05-23T21:03:49.688806: step 122, loss -0.468974, acc 0.765625\n"
     ]
    },
    {
     "ename": "KeyboardInterrupt",
     "evalue": "",
     "output_type": "error",
     "traceback": [
      "\u001b[0;31m---------------------------------------------------------------------------\u001b[0m",
      "\u001b[0;31mKeyboardInterrupt\u001b[0m                         Traceback (most recent call last)",
      "\u001b[0;32m<ipython-input-58-4e8b0e45d04e>\u001b[0m in \u001b[0;36m<module>\u001b[0;34m()\u001b[0m\n\u001b[1;32m    118\u001b[0m         \u001b[0;32mfor\u001b[0m \u001b[0mbatch\u001b[0m \u001b[0;32min\u001b[0m \u001b[0mbatches\u001b[0m\u001b[0;34m:\u001b[0m\u001b[0;34m\u001b[0m\u001b[0m\n\u001b[1;32m    119\u001b[0m             \u001b[0mx_batch\u001b[0m\u001b[0;34m,\u001b[0m \u001b[0my_batch\u001b[0m \u001b[0;34m=\u001b[0m \u001b[0mzip\u001b[0m\u001b[0;34m(\u001b[0m\u001b[0;34m*\u001b[0m\u001b[0mbatch\u001b[0m\u001b[0;34m)\u001b[0m\u001b[0;34m\u001b[0m\u001b[0m\n\u001b[0;32m--> 120\u001b[0;31m             \u001b[0mtrain_step\u001b[0m\u001b[0;34m(\u001b[0m\u001b[0mx_batch\u001b[0m\u001b[0;34m,\u001b[0m \u001b[0my_batch\u001b[0m\u001b[0;34m)\u001b[0m\u001b[0;34m\u001b[0m\u001b[0m\n\u001b[0m\u001b[1;32m    121\u001b[0m             \u001b[0mcurrent_step\u001b[0m \u001b[0;34m=\u001b[0m \u001b[0mtf\u001b[0m\u001b[0;34m.\u001b[0m\u001b[0mtrain\u001b[0m\u001b[0;34m.\u001b[0m\u001b[0mglobal_step\u001b[0m\u001b[0;34m(\u001b[0m\u001b[0msess\u001b[0m\u001b[0;34m,\u001b[0m \u001b[0mglobal_step\u001b[0m\u001b[0;34m)\u001b[0m\u001b[0;34m\u001b[0m\u001b[0m\n\u001b[1;32m    122\u001b[0m             \u001b[0;32mif\u001b[0m \u001b[0mcurrent_step\u001b[0m \u001b[0;34m%\u001b[0m \u001b[0mFLAGS\u001b[0m\u001b[0;34m.\u001b[0m\u001b[0mevaluate_every\u001b[0m \u001b[0;34m==\u001b[0m \u001b[0;36m0\u001b[0m\u001b[0;34m:\u001b[0m\u001b[0;34m\u001b[0m\u001b[0m\n",
      "\u001b[0;32m<ipython-input-58-4e8b0e45d04e>\u001b[0m in \u001b[0;36mtrain_step\u001b[0;34m(x_batch, y_batch)\u001b[0m\n\u001b[1;32m     66\u001b[0m             _, step, summaries, loss, accuracy = sess.run(\n\u001b[1;32m     67\u001b[0m                 \u001b[0;34m[\u001b[0m\u001b[0mtrain_op\u001b[0m\u001b[0;34m,\u001b[0m \u001b[0mglobal_step\u001b[0m\u001b[0;34m,\u001b[0m \u001b[0mtrain_summary_op\u001b[0m\u001b[0;34m,\u001b[0m \u001b[0mcnn\u001b[0m\u001b[0;34m.\u001b[0m\u001b[0mloss\u001b[0m\u001b[0;34m,\u001b[0m \u001b[0mcnn\u001b[0m\u001b[0;34m.\u001b[0m\u001b[0maccuracy\u001b[0m\u001b[0;34m]\u001b[0m\u001b[0;34m,\u001b[0m\u001b[0;34m\u001b[0m\u001b[0m\n\u001b[0;32m---> 68\u001b[0;31m                 feed_dict)\n\u001b[0m\u001b[1;32m     69\u001b[0m             \u001b[0mtime_str\u001b[0m \u001b[0;34m=\u001b[0m \u001b[0mdatetime\u001b[0m\u001b[0;34m.\u001b[0m\u001b[0mdatetime\u001b[0m\u001b[0;34m.\u001b[0m\u001b[0mnow\u001b[0m\u001b[0;34m(\u001b[0m\u001b[0;34m)\u001b[0m\u001b[0;34m.\u001b[0m\u001b[0misoformat\u001b[0m\u001b[0;34m(\u001b[0m\u001b[0;34m)\u001b[0m\u001b[0;34m\u001b[0m\u001b[0m\n\u001b[1;32m     70\u001b[0m             \u001b[0mprint\u001b[0m\u001b[0;34m(\u001b[0m\u001b[0;34m\"{}: step {}, loss {:g}, acc {:g}\"\u001b[0m\u001b[0;34m.\u001b[0m\u001b[0mformat\u001b[0m\u001b[0;34m(\u001b[0m\u001b[0mtime_str\u001b[0m\u001b[0;34m,\u001b[0m \u001b[0mstep\u001b[0m\u001b[0;34m,\u001b[0m \u001b[0mloss\u001b[0m\u001b[0;34m,\u001b[0m \u001b[0maccuracy\u001b[0m\u001b[0;34m)\u001b[0m\u001b[0;34m)\u001b[0m\u001b[0;34m\u001b[0m\u001b[0m\n",
      "\u001b[0;32m~/anaconda3/lib/python3.6/site-packages/tensorflow/python/client/session.py\u001b[0m in \u001b[0;36mrun\u001b[0;34m(self, fetches, feed_dict, options, run_metadata)\u001b[0m\n\u001b[1;32m    776\u001b[0m     \u001b[0;32mtry\u001b[0m\u001b[0;34m:\u001b[0m\u001b[0;34m\u001b[0m\u001b[0m\n\u001b[1;32m    777\u001b[0m       result = self._run(None, fetches, feed_dict, options_ptr,\n\u001b[0;32m--> 778\u001b[0;31m                          run_metadata_ptr)\n\u001b[0m\u001b[1;32m    779\u001b[0m       \u001b[0;32mif\u001b[0m \u001b[0mrun_metadata\u001b[0m\u001b[0;34m:\u001b[0m\u001b[0;34m\u001b[0m\u001b[0m\n\u001b[1;32m    780\u001b[0m         \u001b[0mproto_data\u001b[0m \u001b[0;34m=\u001b[0m \u001b[0mtf_session\u001b[0m\u001b[0;34m.\u001b[0m\u001b[0mTF_GetBuffer\u001b[0m\u001b[0;34m(\u001b[0m\u001b[0mrun_metadata_ptr\u001b[0m\u001b[0;34m)\u001b[0m\u001b[0;34m\u001b[0m\u001b[0m\n",
      "\u001b[0;32m~/anaconda3/lib/python3.6/site-packages/tensorflow/python/client/session.py\u001b[0m in \u001b[0;36m_run\u001b[0;34m(self, handle, fetches, feed_dict, options, run_metadata)\u001b[0m\n\u001b[1;32m    980\u001b[0m     \u001b[0;32mif\u001b[0m \u001b[0mfinal_fetches\u001b[0m \u001b[0;32mor\u001b[0m \u001b[0mfinal_targets\u001b[0m\u001b[0;34m:\u001b[0m\u001b[0;34m\u001b[0m\u001b[0m\n\u001b[1;32m    981\u001b[0m       results = self._do_run(handle, final_targets, final_fetches,\n\u001b[0;32m--> 982\u001b[0;31m                              feed_dict_string, options, run_metadata)\n\u001b[0m\u001b[1;32m    983\u001b[0m     \u001b[0;32melse\u001b[0m\u001b[0;34m:\u001b[0m\u001b[0;34m\u001b[0m\u001b[0m\n\u001b[1;32m    984\u001b[0m       \u001b[0mresults\u001b[0m \u001b[0;34m=\u001b[0m \u001b[0;34m[\u001b[0m\u001b[0;34m]\u001b[0m\u001b[0;34m\u001b[0m\u001b[0m\n",
      "\u001b[0;32m~/anaconda3/lib/python3.6/site-packages/tensorflow/python/client/session.py\u001b[0m in \u001b[0;36m_do_run\u001b[0;34m(self, handle, target_list, fetch_list, feed_dict, options, run_metadata)\u001b[0m\n\u001b[1;32m   1030\u001b[0m     \u001b[0;32mif\u001b[0m \u001b[0mhandle\u001b[0m \u001b[0;32mis\u001b[0m \u001b[0;32mNone\u001b[0m\u001b[0;34m:\u001b[0m\u001b[0;34m\u001b[0m\u001b[0m\n\u001b[1;32m   1031\u001b[0m       return self._do_call(_run_fn, self._session, feed_dict, fetch_list,\n\u001b[0;32m-> 1032\u001b[0;31m                            target_list, options, run_metadata)\n\u001b[0m\u001b[1;32m   1033\u001b[0m     \u001b[0;32melse\u001b[0m\u001b[0;34m:\u001b[0m\u001b[0;34m\u001b[0m\u001b[0m\n\u001b[1;32m   1034\u001b[0m       return self._do_call(_prun_fn, self._session, handle, feed_dict,\n",
      "\u001b[0;32m~/anaconda3/lib/python3.6/site-packages/tensorflow/python/client/session.py\u001b[0m in \u001b[0;36m_do_call\u001b[0;34m(self, fn, *args)\u001b[0m\n\u001b[1;32m   1037\u001b[0m   \u001b[0;32mdef\u001b[0m \u001b[0m_do_call\u001b[0m\u001b[0;34m(\u001b[0m\u001b[0mself\u001b[0m\u001b[0;34m,\u001b[0m \u001b[0mfn\u001b[0m\u001b[0;34m,\u001b[0m \u001b[0;34m*\u001b[0m\u001b[0margs\u001b[0m\u001b[0;34m)\u001b[0m\u001b[0;34m:\u001b[0m\u001b[0;34m\u001b[0m\u001b[0m\n\u001b[1;32m   1038\u001b[0m     \u001b[0;32mtry\u001b[0m\u001b[0;34m:\u001b[0m\u001b[0;34m\u001b[0m\u001b[0m\n\u001b[0;32m-> 1039\u001b[0;31m       \u001b[0;32mreturn\u001b[0m \u001b[0mfn\u001b[0m\u001b[0;34m(\u001b[0m\u001b[0;34m*\u001b[0m\u001b[0margs\u001b[0m\u001b[0;34m)\u001b[0m\u001b[0;34m\u001b[0m\u001b[0m\n\u001b[0m\u001b[1;32m   1040\u001b[0m     \u001b[0;32mexcept\u001b[0m \u001b[0merrors\u001b[0m\u001b[0;34m.\u001b[0m\u001b[0mOpError\u001b[0m \u001b[0;32mas\u001b[0m \u001b[0me\u001b[0m\u001b[0;34m:\u001b[0m\u001b[0;34m\u001b[0m\u001b[0m\n\u001b[1;32m   1041\u001b[0m       \u001b[0mmessage\u001b[0m \u001b[0;34m=\u001b[0m \u001b[0mcompat\u001b[0m\u001b[0;34m.\u001b[0m\u001b[0mas_text\u001b[0m\u001b[0;34m(\u001b[0m\u001b[0me\u001b[0m\u001b[0;34m.\u001b[0m\u001b[0mmessage\u001b[0m\u001b[0;34m)\u001b[0m\u001b[0;34m\u001b[0m\u001b[0m\n",
      "\u001b[0;32m~/anaconda3/lib/python3.6/site-packages/tensorflow/python/client/session.py\u001b[0m in \u001b[0;36m_run_fn\u001b[0;34m(session, feed_dict, fetch_list, target_list, options, run_metadata)\u001b[0m\n\u001b[1;32m   1019\u001b[0m         return tf_session.TF_Run(session, options,\n\u001b[1;32m   1020\u001b[0m                                  \u001b[0mfeed_dict\u001b[0m\u001b[0;34m,\u001b[0m \u001b[0mfetch_list\u001b[0m\u001b[0;34m,\u001b[0m \u001b[0mtarget_list\u001b[0m\u001b[0;34m,\u001b[0m\u001b[0;34m\u001b[0m\u001b[0m\n\u001b[0;32m-> 1021\u001b[0;31m                                  status, run_metadata)\n\u001b[0m\u001b[1;32m   1022\u001b[0m \u001b[0;34m\u001b[0m\u001b[0m\n\u001b[1;32m   1023\u001b[0m     \u001b[0;32mdef\u001b[0m \u001b[0m_prun_fn\u001b[0m\u001b[0;34m(\u001b[0m\u001b[0msession\u001b[0m\u001b[0;34m,\u001b[0m \u001b[0mhandle\u001b[0m\u001b[0;34m,\u001b[0m \u001b[0mfeed_dict\u001b[0m\u001b[0;34m,\u001b[0m \u001b[0mfetch_list\u001b[0m\u001b[0;34m)\u001b[0m\u001b[0;34m:\u001b[0m\u001b[0;34m\u001b[0m\u001b[0m\n",
      "\u001b[0;31mKeyboardInterrupt\u001b[0m: "
     ]
    }
   ],
   "source": [
    "with tf.Graph().as_default():\n",
    "    sess = tf.Session()\n",
    "    with sess.as_default():\n",
    "        cnn = TextCNN(sequence_length=x_train.shape[1],\n",
    "                      num_classes=y_train.shape[1],\n",
    "                      vocab_size=vocab_size,\n",
    "                      embedding_size=FLAGS.embedding_dim,\n",
    "                      filter_sizes=list(map(int, FLAGS.filter_sizes.split(\",\"))),\n",
    "                      num_filters=FLAGS.num_filters,\n",
    "                      l2_reg_lambda=FLAGS.l2_reg_lambda)\n",
    "        \n",
    "        # Define Training procedure\n",
    "        global_step = tf.Variable(0, name=\"global_step\", trainable=False)\n",
    "        optimizer = tf.train.AdamOptimizer(1e-3)\n",
    "        grads_and_vars = optimizer.compute_gradients(cnn.loss)\n",
    "        train_op = optimizer.apply_gradients(grads_and_vars, global_step=global_step)\n",
    "\n",
    "        # Keep track of gradient values and sparsity (optional)\n",
    "        grad_summaries = []\n",
    "        for g, v in grads_and_vars:\n",
    "            if g is not None:\n",
    "                grad_hist_summary = tf.summary.histogram(\"{}\".format(v.name), g)\n",
    "                sparsity_summary = tf.summary.scalar(\"{}\".format(v.name), tf.nn.zero_fraction(g))\n",
    "                grad_summaries.append(grad_hist_summary)\n",
    "                grad_summaries.append(sparsity_summary)\n",
    "        grad_summaries_merged = tf.summary.merge(grad_summaries)\n",
    "\n",
    "        # Output directory for models and summaries\n",
    "        timestamp = str(int(time.time()))\n",
    "        out_dir = os.path.abspath(os.path.join(os.path.curdir, \"runs\", timestamp))\n",
    "        print(\"Writing to {}\\n\".format(out_dir))\n",
    "\n",
    "        # Summaries for loss and accuracy\n",
    "        loss_summary = tf.summary.scalar(\"loss\", cnn.loss)\n",
    "        acc_summary = tf.summary.scalar(\"accuracy\", cnn.accuracy)\n",
    "\n",
    "        # Train Summaries\n",
    "        train_summary_op = tf.summary.merge([loss_summary, acc_summary, grad_summaries_merged])\n",
    "        train_summary_dir = os.path.join(out_dir, \"summaries\", \"train\")\n",
    "        train_summary_writer = tf.summary.FileWriter(train_summary_dir, sess.graph)\n",
    "\n",
    "        # Dev summaries\n",
    "        dev_summary_op = tf.summary.merge([loss_summary, acc_summary])\n",
    "        dev_summary_dir = os.path.join(out_dir, \"summaries\", \"dev\")\n",
    "        dev_summary_writer = tf.summary.FileWriter(dev_summary_dir, sess.graph)\n",
    "\n",
    "        # Checkpoint directory. Tensorflow assumes this directory already exists so we need to create it\n",
    "        checkpoint_dir = os.path.abspath(os.path.join(out_dir, \"checkpoints\"))\n",
    "        checkpoint_prefix = os.path.join(checkpoint_dir, \"model\")\n",
    "        if not os.path.exists(checkpoint_dir):\n",
    "            os.makedirs(checkpoint_dir)\n",
    "        saver = tf.train.Saver(tf.global_variables(), max_to_keep=FLAGS.num_checkpoints)\n",
    "\n",
    "        # Initialize all variables\n",
    "        sess.run(tf.global_variables_initializer())\n",
    "\n",
    "        def train_step(x_batch, y_batch):\n",
    "            \"\"\"\n",
    "            A single training step\n",
    "            \"\"\"\n",
    "            feed_dict = {\n",
    "                cnn.input_x: x_batch,\n",
    "                cnn.input_y: y_batch,\n",
    "                cnn.dropout_keep_prob: FLAGS.dropout_keep_prob\n",
    "            }\n",
    "            _, step, summaries, loss, accuracy = sess.run(\n",
    "                [train_op, global_step, train_summary_op, cnn.loss, cnn.accuracy],\n",
    "                feed_dict)\n",
    "            time_str = datetime.datetime.now().isoformat()\n",
    "            print(\"{}: step {}, loss {:g}, acc {:g}\".format(time_str, step, loss, accuracy))\n",
    "            train_summary_writer.add_summary(summaries, step)\n",
    "\n",
    "\n",
    "        def dev_step(x_batch, y_batch, writer=None):\n",
    "            \"\"\"\n",
    "            Evaluates model on a dev set\n",
    "            \"\"\"\n",
    "            feed_dict = {\n",
    "                cnn.input_x: x_batch,\n",
    "                cnn.input_y: y_batch,\n",
    "                cnn.dropout_keep_prob: 1.0\n",
    "            }\n",
    "            step, summaries, loss, accuracy = sess.run(\n",
    "                [global_step, dev_summary_op, cnn.loss, cnn.accuracy],\n",
    "                feed_dict)\n",
    "            time_str = datetime.datetime.now().isoformat()\n",
    "            print(\"{}: step {}, loss {:g}, acc {:g}\".format(time_str, step, loss, accuracy))\n",
    "            if writer:\n",
    "                writer.add_summary(summaries, step)\n",
    "\n",
    "\n",
    "        def batch_iter(data, batch_size, num_epochs, shuffle=True):\n",
    "            \"\"\"\n",
    "            Generates a batch iterator for a dataset.\n",
    "            \"\"\"\n",
    "            data = np.array(data)\n",
    "            data_size = len(data)\n",
    "            num_batches_per_epoch = int((len(data) - 1) / batch_size) + 1\n",
    "            for epoch in range(num_epochs):\n",
    "                # Shuffle the data at each epoch\n",
    "                if shuffle:\n",
    "                    shuffle_indices = np.random.permutation(np.arange(data_size))\n",
    "                    shuffled_data = data[shuffle_indices]\n",
    "                else:\n",
    "                    shuffled_data = data\n",
    "                for batch_num in range(num_batches_per_epoch):\n",
    "                    start_index = batch_num * batch_size\n",
    "                    end_index = min((batch_num + 1) * batch_size, data_size)\n",
    "                    yield shuffled_data[start_index:end_index]\n",
    "\n",
    "\n",
    "        # Generate batches\n",
    "        batches = batch_iter(\n",
    "            list(zip(x_train, y_train)), FLAGS.batch_size, FLAGS.num_epochs)\n",
    "\n",
    "        testpoint = 0\n",
    "        # Training loop. For each batch...\n",
    "        for batch in batches:\n",
    "            x_batch, y_batch = zip(*batch)\n",
    "            train_step(x_batch, y_batch)\n",
    "            current_step = tf.train.global_step(sess, global_step)\n",
    "            if current_step % FLAGS.evaluate_every == 0:\n",
    "                if testpoint + 100 < len(x_test):\n",
    "                    testpoint += 100\n",
    "                else:\n",
    "                    testpoint = 0\n",
    "                print(\"\\nEvaluation:\")\n",
    "                dev_step(x_test[testpoint:testpoint+100], y_test[testpoint:testpoint+100], writer=dev_summary_writer)\n",
    "                print(\"\")\n",
    "            if current_step % FLAGS.checkpoint_every == 0:\n",
    "                path = saver.save(sess, checkpoint_prefix, global_step=current_step)\n",
    "                print(\"Saved model checkpoint to {}\\n\".format(path))"
   ]
  },
  {
   "cell_type": "code",
   "execution_count": null,
   "metadata": {
    "collapsed": true
   },
   "outputs": [],
   "source": []
  }
 ],
 "metadata": {
  "kernelspec": {
   "display_name": "Python 3",
   "language": "python",
   "name": "python3"
  },
  "language_info": {
   "codemirror_mode": {
    "name": "ipython",
    "version": 3
   },
   "file_extension": ".py",
   "mimetype": "text/x-python",
   "name": "python",
   "nbconvert_exporter": "python",
   "pygments_lexer": "ipython3",
   "version": "3.6.3"
  }
 },
 "nbformat": 4,
 "nbformat_minor": 2
}
