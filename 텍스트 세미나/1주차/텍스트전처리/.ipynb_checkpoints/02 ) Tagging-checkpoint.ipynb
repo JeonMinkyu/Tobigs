{
 "cells": [
  {
   "cell_type": "markdown",
   "metadata": {},
   "source": [
    "# Tagging ang Chunking"
   ]
  },
  {
   "cell_type": "markdown",
   "metadata": {},
   "source": [
    "# 1. POS Tagging"
   ]
  },
  {
   "cell_type": "markdown",
   "metadata": {},
   "source": [
    "Since one document is too long to observe a parsed structure, lets use one short sentence for each language."
   ]
  },
  {
   "cell_type": "code",
   "execution_count": 23,
   "metadata": {},
   "outputs": [],
   "source": [
    "import nltk"
   ]
  },
  {
   "cell_type": "code",
   "execution_count": 24,
   "metadata": {},
   "outputs": [
    {
     "name": "stdout",
     "output_type": "stream",
     "text": [
      "['The', 'little', 'yellow', 'dog', 'barked', 'at', 'the', 'Persian', 'cat']\n"
     ]
    },
    {
     "data": {
      "text/plain": [
       "[('The', 'DT'),\n",
       " ('little', 'JJ'),\n",
       " ('yellow', 'JJ'),\n",
       " ('dog', 'NN'),\n",
       " ('barked', 'VBD'),\n",
       " ('at', 'IN'),\n",
       " ('the', 'DT'),\n",
       " ('Persian', 'JJ'),\n",
       " ('cat', 'NN')]"
      ]
     },
     "execution_count": 24,
     "metadata": {},
     "output_type": "execute_result"
    }
   ],
   "source": [
    "#E\n",
    "tokens = \"The little yellow dog barked at the Persian cat\".split()\n",
    "print(tokens)\n",
    "tags_en = nltk.pos_tag(tokens)\n",
    "tags_en"
   ]
  },
  {
   "cell_type": "code",
   "execution_count": 25,
   "metadata": {},
   "outputs": [
    {
     "name": "stdout",
     "output_type": "stream",
     "text": [
      "['작고', '노란', '강아지', '가', '페르시안', '고양이', '에게', '짖었', '다']\n"
     ]
    },
    {
     "data": {
      "text/plain": [
       "[('작고', 'Noun'),\n",
       " ('노란', 'Adjective'),\n",
       " ('강아지', 'Noun'),\n",
       " ('가', 'Josa'),\n",
       " ('페르시안', 'Noun'),\n",
       " ('고양이', 'Noun'),\n",
       " ('에게', 'Josa'),\n",
       " ('짖었', 'Noun'),\n",
       " ('다', 'Josa')]"
      ]
     },
     "execution_count": 25,
     "metadata": {},
     "output_type": "execute_result"
    }
   ],
   "source": [
    "# K 트위터\n",
    "from konlpy.tag import Twitter\n",
    "t = Twitter()\n",
    "print(t.morphs(\"작고 노란 강아지가 페르시안 고양이에게 짖었다\"))\n",
    "tags_ko = t.pos(\"작고 노란 강아지가 페르시안 고양이에게 짖었다\")\n",
    "tags_ko"
   ]
  },
  {
   "cell_type": "code",
   "execution_count": 26,
   "metadata": {},
   "outputs": [
    {
     "name": "stdout",
     "output_type": "stream",
     "text": [
      "['작고', '노', '이', '란', '강아지', '가', '페르', '시안', '고양이', '에게', '짖', '었', '다']\n"
     ]
    },
    {
     "data": {
      "text/plain": [
       "[('작고', 'NNG'),\n",
       " ('노', 'NNG'),\n",
       " ('이', 'VCP'),\n",
       " ('란', 'ETD'),\n",
       " ('강아지', 'NNG'),\n",
       " ('가', 'JKS'),\n",
       " ('페르', 'NNG'),\n",
       " ('시안', 'NNP'),\n",
       " ('고양이', 'NNG'),\n",
       " ('에게', 'JKM'),\n",
       " ('짖', 'VV'),\n",
       " ('었', 'EPT'),\n",
       " ('다', 'EFN')]"
      ]
     },
     "execution_count": 26,
     "metadata": {},
     "output_type": "execute_result"
    }
   ],
   "source": [
    "# K 꼬꼬마\n",
    "from konlpy.tag import Kkma\n",
    "import re #정규표현식 부르는 것\n",
    "kkma = Kkma()\n",
    "\n",
    "string = \"작고 노란 강아지가 페르시안 고양이에게 짖었다\"\n",
    "print(kkma.morphs(string))\n",
    "kkma.pos(string)#string에 pos tagger를 적용한다"
   ]
  },
  {
   "cell_type": "code",
   "execution_count": 30,
   "metadata": {},
   "outputs": [
    {
     "name": "stdout",
     "output_type": "stream",
     "text": [
      "['벚꽃', '의', '꽃말', '은', '중간고사']\n"
     ]
    },
    {
     "data": {
      "text/plain": [
       "[('벚꽃', 'NNG'), ('의', 'JKG'), ('꽃말', 'NNG'), ('은', 'JX'), ('중간고사', 'NNG')]"
      ]
     },
     "execution_count": 30,
     "metadata": {},
     "output_type": "execute_result"
    }
   ],
   "source": [
    "# K 꼬꼬마\n",
    "from konlpy.tag import Kkma\n",
    "import re #정규표현식 부르는 것\n",
    "kkma = Kkma()\n",
    "\n",
    "string = \"벚꽃의 꽃말은 중간고사\"\n",
    "print(kkma.morphs(string))\n",
    "kkma.pos(string)#string에 pos tagger를 적용한다"
   ]
  },
  {
   "cell_type": "code",
   "execution_count": 39,
   "metadata": {},
   "outputs": [
    {
     "data": {
      "text/plain": [
       "['벚꽃의', '꽃말은', '중간고사']"
      ]
     },
     "execution_count": 39,
     "metadata": {},
     "output_type": "execute_result"
    }
   ],
   "source": [
    "string.split(\" \")"
   ]
  },
  {
   "cell_type": "code",
   "execution_count": 35,
   "metadata": {},
   "outputs": [
    {
     "data": {
      "text/plain": [
       "[[('벚꽃', 'NNG'), ('의', 'JKG')],\n",
       " [('꽃말', 'NNG'), ('은', 'JX')],\n",
       " [('중간고사', 'NNG')]]"
      ]
     },
     "execution_count": 35,
     "metadata": {},
     "output_type": "execute_result"
    }
   ],
   "source": [
    "token = [kkma.pos(morph) for morph in string.split(\" \")] #\" \" 나 ' ' 나 같은 결과 ~\n",
    "token"
   ]
  },
  {
   "cell_type": "code",
   "execution_count": 36,
   "metadata": {},
   "outputs": [
    {
     "data": {
      "text/plain": [
       "[[('벚꽃', 'NNG'), ('의', 'JKG')],\n",
       " [('꽃말', 'NNG'), ('은', 'JX')],\n",
       " [('중간고사', 'NNG')]]"
      ]
     },
     "execution_count": 36,
     "metadata": {},
     "output_type": "execute_result"
    }
   ],
   "source": [
    "# 같은 내용 다른 코드 : 그러나 위의 방법이 파이썬스러운 방법..\n",
    "\n",
    "token_list = []\n",
    "for morph in string.split(\" \"): #string을 tokenize 한다. 반드시 \" \" 한칸 띈다.\n",
    "    token_list.append(kkma.pos(morph)) #형태소 분석 kkma.pos()\n",
    "\n",
    "token_list"
   ]
  },
  {
   "cell_type": "code",
   "execution_count": 37,
   "metadata": {},
   "outputs": [
    {
     "name": "stdout",
     "output_type": "stream",
     "text": [
      "[('벚꽃', 'NNG'), ('의', 'JKG'), ('꽃말', 'NNG'), ('은', 'JX'), ('중간고사', 'NNG')]\n",
      "최종 명사 추출\n"
     ]
    },
    {
     "data": {
      "text/plain": [
       "[('벚꽃', 'NNG'), ('꽃말', 'NNG'), ('중간고사', 'NNG')]"
      ]
     },
     "execution_count": 37,
     "metadata": {},
     "output_type": "execute_result"
    }
   ],
   "source": [
    "#Tokenizing 한 결과에서 명사만 추출\n",
    "token = sum(token, []) #따로 따로 list를 하나의 list로 묶어 준다.\n",
    "print(token)\n",
    "\n",
    "Noun_list = [morph for morph in token if morph[1].find('NN')==0]\n",
    "print(\"최종 명사 추출\")\n",
    "Noun_list"
   ]
  },
  {
   "cell_type": "code",
   "execution_count": 38,
   "metadata": {},
   "outputs": [
    {
     "name": "stdout",
     "output_type": "stream",
     "text": [
      "('의', 'JKG')\n",
      "JKG\n"
     ]
    }
   ],
   "source": [
    "print(token[1])\n",
    "print(token[1][1])"
   ]
  },
  {
   "cell_type": "markdown",
   "metadata": {},
   "source": [
    "# * 꼬꼬마, 트위터, 코모란 비교해보기"
   ]
  },
  {
   "cell_type": "code",
   "execution_count": 40,
   "metadata": {},
   "outputs": [],
   "source": [
    "import time\n",
    "from konlpy.tag import Kkma, Twitter, Komoran"
   ]
  },
  {
   "cell_type": "code",
   "execution_count": 41,
   "metadata": {},
   "outputs": [],
   "source": [
    "# 왓챠 플레이의 영화 리뷰 데이터\n",
    "texts = ['영화가 아니라 영상으로 예술을 만든 작품 이다지도 소박한 주제에 숨이 막힐 듯 한 우아함이라니',\n",
    "       '옛날 sf영화의 장점 이해하기 쉽고 단순하며 유쾌하다',\n",
    "       '내게 남는건 슈퍼맨 뿐이다 잘생긴 슈퍼맨 완벽한 로맨티스트 슈퍼맨 별에서 온 슈퍼맨 굳이 의미를 더하자면 좋은 사람이랑 처음으로 같이 본 영화라는거 그럼에도 도저히 쉴드를 칠 수 없을 정도로 노잼이었단게 아쉬울 따름이다']"
   ]
  },
  {
   "cell_type": "code",
   "execution_count": 43,
   "metadata": {},
   "outputs": [
    {
     "name": "stdout",
     "output_type": "stream",
     "text": [
      "tagger name =       kkma, 0.698 secs\n",
      "tagger name =    twitter, 0.017 secs\n",
      "tagger name =    Komoran, 6.421 secs\n"
     ]
    }
   ],
   "source": [
    "pos_taggers = [('kkma', Kkma()), ('twitter', Twitter()), ('Komoran', Komoran())]\n",
    "results = []\n",
    "for name, tagger in pos_taggers:\n",
    "    tokens = []\n",
    "    process_time = time.time()\n",
    "    for text in texts:\n",
    "        tokens.append(tagger.pos(text))\n",
    "    process_time = time.time() - process_time\n",
    "    print('tagger name = %10s, %.3f secs' % (name, process_time))\n",
    "    results.append(tokens)"
   ]
  },
  {
   "attachments": {
    "image.png": {
     "image/png": "[encoded data removed]"
    }
   },
   "cell_type": "markdown",
   "metadata": {},
   "source": [
    "![image.png](attachment:image.png)"
   ]
  },
  {
   "cell_type": "code",
   "execution_count": 47,
   "metadata": {},
   "outputs": [
    {
     "data": {
      "text/plain": [
       "[[('영화', 'NNG'),\n",
       "  ('가', 'JKC'),\n",
       "  ('아니', 'VCN'),\n",
       "  ('라', 'ECD'),\n",
       "  ('영상', 'NNG'),\n",
       "  ('으로', 'JKM'),\n",
       "  ('예술', 'NNG'),\n",
       "  ('을', 'JKO'),\n",
       "  ('만들', 'VV'),\n",
       "  ('ㄴ', 'ETD'),\n",
       "  ('작품', 'NNG'),\n",
       "  ('이', 'VCP'),\n",
       "  ('다', 'ECS'),\n",
       "  ('지도', 'NNG'),\n",
       "  ('소박', 'NNG'),\n",
       "  ('하', 'XSV'),\n",
       "  ('ㄴ', 'ETD'),\n",
       "  ('주제', 'NNG'),\n",
       "  ('에', 'JKM'),\n",
       "  ('숨', 'NNG'),\n",
       "  ('이', 'JKS'),\n",
       "  ('막히', 'VV'),\n",
       "  ('ㄹ', 'ETD'),\n",
       "  ('듯', 'NNB'),\n",
       "  ('한', 'MDN'),\n",
       "  ('우', 'NNG'),\n",
       "  ('아함', 'NNP'),\n",
       "  ('이', 'VCP'),\n",
       "  ('라니', 'EFQ')],\n",
       " [('옛날', 'NNG'),\n",
       "  ('sf', 'OL'),\n",
       "  ('영화', 'NNG'),\n",
       "  ('의', 'JKG'),\n",
       "  ('장점', 'NNG'),\n",
       "  ('이해', 'NNG'),\n",
       "  ('하', 'XSV'),\n",
       "  ('기', 'ETN'),\n",
       "  ('쉽', 'VA'),\n",
       "  ('고', 'ECE'),\n",
       "  ('단순', 'NNG'),\n",
       "  ('하', 'XSV'),\n",
       "  ('며', 'ECE'),\n",
       "  ('유쾌', 'XR'),\n",
       "  ('하', 'XSA'),\n",
       "  ('다', 'EFN')],\n",
       " [('내', 'VV'),\n",
       "  ('게', 'ECD'),\n",
       "  ('남', 'VV'),\n",
       "  ('는', 'ETD'),\n",
       "  ('것', 'NNB'),\n",
       "  ('은', 'JKS'),\n",
       "  ('슈퍼맨', 'NNG'),\n",
       "  ('뿐', 'NNB'),\n",
       "  ('이', 'VCP'),\n",
       "  ('다', 'EFN'),\n",
       "  ('잘생기', 'VV'),\n",
       "  ('ㄴ', 'ETD'),\n",
       "  ('슈퍼맨', 'NNG'),\n",
       "  ('완벽', 'NNG'),\n",
       "  ('하', 'XSV'),\n",
       "  ('ㄴ', 'ETD'),\n",
       "  ('로', 'NNG'),\n",
       "  ('맨', 'NNG'),\n",
       "  ('티', 'NNG'),\n",
       "  ('스트', 'UN'),\n",
       "  ('슈퍼맨', 'NNG'),\n",
       "  ('별', 'NNG'),\n",
       "  ('에서', 'JKM'),\n",
       "  ('오', 'VV'),\n",
       "  ('ㄴ', 'ETD'),\n",
       "  ('슈퍼맨', 'NNG'),\n",
       "  ('굳이', 'MAG'),\n",
       "  ('의미', 'NNG'),\n",
       "  ('를', 'JKO'),\n",
       "  ('더하', 'VV'),\n",
       "  ('자면', 'ECE'),\n",
       "  ('좋', 'VA'),\n",
       "  ('은', 'ETD'),\n",
       "  ('사람', 'NNG'),\n",
       "  ('이랑', 'JC'),\n",
       "  ('처음', 'NNG'),\n",
       "  ('으로', 'JKM'),\n",
       "  ('같이', 'MAG'),\n",
       "  ('보', 'VV'),\n",
       "  ('ㄴ', 'ETD'),\n",
       "  ('영화', 'NNG'),\n",
       "  ('이', 'VCP'),\n",
       "  ('라는', 'ETD'),\n",
       "  ('거', 'NNB'),\n",
       "  ('그러', 'VV'),\n",
       "  ('ㅁ에도', 'ECD'),\n",
       "  ('도저히', 'MAG'),\n",
       "  ('쉴드', 'UN'),\n",
       "  ('를', 'JKO'),\n",
       "  ('치', 'VV'),\n",
       "  ('ㄹ', 'ETD'),\n",
       "  ('수', 'NNB'),\n",
       "  ('없', 'VA'),\n",
       "  ('을', 'ETD'),\n",
       "  ('정도', 'NNG'),\n",
       "  ('로', 'JKM'),\n",
       "  ('노', 'NNG'),\n",
       "  ('잼', 'NNG'),\n",
       "  ('이', 'VCP'),\n",
       "  ('었', 'EPT'),\n",
       "  ('단', 'ETD'),\n",
       "  ('것', 'NNB'),\n",
       "  ('이', 'JKS'),\n",
       "  ('아쉽', 'VA'),\n",
       "  ('ㄹ', 'ETD'),\n",
       "  ('따름', 'NNB'),\n",
       "  ('이', 'VCP'),\n",
       "  ('다', 'EFN')]]"
      ]
     },
     "execution_count": 47,
     "metadata": {},
     "output_type": "execute_result"
    }
   ],
   "source": [
    "results[0] #kkma"
   ]
  },
  {
   "cell_type": "code",
   "execution_count": 49,
   "metadata": {},
   "outputs": [
    {
     "data": {
      "text/plain": [
       "[[('영화', 'Noun'),\n",
       "  ('가', 'Josa'),\n",
       "  ('아니', 'Adjective'),\n",
       "  ('라', 'Eomi'),\n",
       "  ('영상', 'Noun'),\n",
       "  ('으로', 'Josa'),\n",
       "  ('예술', 'Noun'),\n",
       "  ('을', 'Josa'),\n",
       "  ('만든', 'Verb'),\n",
       "  ('작품', 'Noun'),\n",
       "  ('이다지', 'Noun'),\n",
       "  ('도', 'Josa'),\n",
       "  ('소박한', 'Adjective'),\n",
       "  ('주제', 'Noun'),\n",
       "  ('에', 'Josa'),\n",
       "  ('숨', 'Noun'),\n",
       "  ('이', 'Josa'),\n",
       "  ('막힐', 'Verb'),\n",
       "  ('듯', 'Noun'),\n",
       "  ('한', 'Verb'),\n",
       "  ('우아함', 'Adjective'),\n",
       "  ('이라니', 'Eomi')],\n",
       " [('옛날', 'Noun'),\n",
       "  ('sf', 'Alpha'),\n",
       "  ('영화', 'Noun'),\n",
       "  ('의', 'Josa'),\n",
       "  ('장점', 'Noun'),\n",
       "  ('이해하기', 'Verb'),\n",
       "  ('쉽', 'Verb'),\n",
       "  ('고', 'Eomi'),\n",
       "  ('단순하며', 'Adjective'),\n",
       "  ('유쾌하', 'Noun'),\n",
       "  ('다', 'Josa')],\n",
       " [('내게', 'Verb'),\n",
       "  ('남는', 'Verb'),\n",
       "  ('건', 'Eomi'),\n",
       "  ('슈퍼맨', 'Noun'),\n",
       "  ('뿐', 'Noun'),\n",
       "  ('이다', 'Josa'),\n",
       "  ('잘생긴', 'Adjective'),\n",
       "  ('슈퍼맨', 'Noun'),\n",
       "  ('완벽한', 'Adjective'),\n",
       "  ('로맨', 'Noun'),\n",
       "  ('티스', 'Noun'),\n",
       "  ('트', 'Noun'),\n",
       "  ('슈퍼맨', 'Noun'),\n",
       "  ('별', 'Noun'),\n",
       "  ('에서', 'Josa'),\n",
       "  ('온', 'Noun'),\n",
       "  ('슈퍼맨', 'Noun'),\n",
       "  ('굳이', 'Noun'),\n",
       "  ('의미', 'Noun'),\n",
       "  ('를', 'Josa'),\n",
       "  ('더하자', 'Verb'),\n",
       "  ('면', 'Eomi'),\n",
       "  ('좋', 'Adjective'),\n",
       "  ('은', 'Eomi'),\n",
       "  ('사람', 'Noun'),\n",
       "  ('이랑', 'Josa'),\n",
       "  ('처음', 'Noun'),\n",
       "  ('으로', 'Josa'),\n",
       "  ('같이', 'Josa'),\n",
       "  ('본', 'Verb'),\n",
       "  ('영화', 'Noun'),\n",
       "  ('라는', 'Josa'),\n",
       "  ('거', 'Noun'),\n",
       "  ('그럼', 'Adjective'),\n",
       "  ('에도', 'Eomi'),\n",
       "  ('도저히', 'Noun'),\n",
       "  ('쉴드', 'Noun'),\n",
       "  ('를', 'Josa'),\n",
       "  ('칠', 'Noun'),\n",
       "  ('수', 'Noun'),\n",
       "  ('없', 'Adjective'),\n",
       "  ('을', 'Eomi'),\n",
       "  ('정도', 'Noun'),\n",
       "  ('로', 'Josa'),\n",
       "  ('노잼', 'Noun'),\n",
       "  ('이었', 'Verb'),\n",
       "  ('단', 'Noun'),\n",
       "  ('게', 'Josa'),\n",
       "  ('아쉬', 'Adjective'),\n",
       "  ('울', 'PreEomi'),\n",
       "  ('따름', 'Noun'),\n",
       "  ('이다', 'Josa')]]"
      ]
     },
     "execution_count": 49,
     "metadata": {},
     "output_type": "execute_result"
    }
   ],
   "source": [
    "results[1] # twitter"
   ]
  },
  {
   "cell_type": "code",
   "execution_count": 50,
   "metadata": {},
   "outputs": [
    {
     "data": {
      "text/plain": [
       "[[('영화', 'NNG'),\n",
       "  ('가', 'JKS'),\n",
       "  ('아니', 'VCN'),\n",
       "  ('라', 'EC'),\n",
       "  ('영상', 'NNG'),\n",
       "  ('으로', 'JKB'),\n",
       "  ('예술', 'NNG'),\n",
       "  ('을', 'JKO'),\n",
       "  ('만들', 'VV'),\n",
       "  ('ㄴ', 'ETM'),\n",
       "  ('작품', 'NNG'),\n",
       "  ('이다지', 'MAG'),\n",
       "  ('도', 'JX'),\n",
       "  ('소박', 'XR'),\n",
       "  ('하', 'XSA'),\n",
       "  ('ㄴ', 'ETM'),\n",
       "  ('주제', 'NNG'),\n",
       "  ('에', 'JKB'),\n",
       "  ('숨', 'NNG'),\n",
       "  ('이', 'JKS'),\n",
       "  ('막히', 'VV'),\n",
       "  ('ㄹ', 'ETM'),\n",
       "  ('듯', 'NNB'),\n",
       "  ('한', 'MM'),\n",
       "  ('우아', 'XR'),\n",
       "  ('하', 'XSA'),\n",
       "  ('ㅁ', 'ETN'),\n",
       "  ('이', 'VCP'),\n",
       "  ('라니', 'EC')],\n",
       " [('옛날', 'NNG'),\n",
       "  ('sf', 'SL'),\n",
       "  ('영화', 'NNG'),\n",
       "  ('의', 'JKG'),\n",
       "  ('장점', 'NNG'),\n",
       "  ('이해', 'NNG'),\n",
       "  ('하', 'XSV'),\n",
       "  ('기', 'ETN'),\n",
       "  ('쉽', 'VA'),\n",
       "  ('고', 'EC'),\n",
       "  ('단순', 'XR'),\n",
       "  ('하', 'XSA'),\n",
       "  ('며', 'EC'),\n",
       "  ('유쾌', 'XR'),\n",
       "  ('하', 'XSA'),\n",
       "  ('다', 'EC')],\n",
       " [('내', 'VV'),\n",
       "  ('게', 'EC'),\n",
       "  ('남', 'VV'),\n",
       "  ('는', 'ETM'),\n",
       "  ('건', 'NNB'),\n",
       "  ('슈퍼맨', 'NNP'),\n",
       "  ('뿐', 'NNB'),\n",
       "  ('이', 'VCP'),\n",
       "  ('다', 'EC'),\n",
       "  ('잘생기', 'VA'),\n",
       "  ('ㄴ', 'ETM'),\n",
       "  ('슈퍼맨', 'NNP'),\n",
       "  ('완벽', 'NNG'),\n",
       "  ('하', 'XSV'),\n",
       "  ('ㄴ', 'ETM'),\n",
       "  ('로', 'NNG'),\n",
       "  ('맨', 'XPN'),\n",
       "  ('티스', 'NNP'),\n",
       "  ('트', 'VV'),\n",
       "  ('슈퍼맨', 'NNP'),\n",
       "  ('별', 'NNG'),\n",
       "  ('에서', 'JKB'),\n",
       "  ('오', 'VV'),\n",
       "  ('ㄴ', 'ETM'),\n",
       "  ('슈퍼맨', 'NNP'),\n",
       "  ('굳이', 'MAG'),\n",
       "  ('의미', 'NNG'),\n",
       "  ('를', 'JKO'),\n",
       "  ('더하', 'VV'),\n",
       "  ('자면', 'EC'),\n",
       "  ('좋은 사람', 'NNP'),\n",
       "  ('이랑', 'JC'),\n",
       "  ('처음', 'NNG'),\n",
       "  ('으로', 'JKB'),\n",
       "  ('같이', 'MAG'),\n",
       "  ('보', 'VV'),\n",
       "  ('ㄴ', 'ETM'),\n",
       "  ('영화', 'NNG'),\n",
       "  ('이', 'VCP'),\n",
       "  ('라는', 'ETM'),\n",
       "  ('거', 'NNB'),\n",
       "  ('그렇', 'VA'),\n",
       "  ('ㅁ', 'ETN'),\n",
       "  ('에', 'JKB'),\n",
       "  ('도', 'JX'),\n",
       "  ('도저히', 'MAG'),\n",
       "  ('쉴드', 'NNP'),\n",
       "  ('를', 'JKO'),\n",
       "  ('치', 'VV'),\n",
       "  ('ㄹ', 'ETM'),\n",
       "  ('수', 'NNB'),\n",
       "  ('없', 'VA'),\n",
       "  ('을', 'ETM'),\n",
       "  ('정도', 'NNG'),\n",
       "  ('로', 'JKB'),\n",
       "  ('노', 'NNG'),\n",
       "  ('재', 'VV'),\n",
       "  ('ㅁ', 'ETN'),\n",
       "  ('이', 'VCP'),\n",
       "  ('었', 'EP'),\n",
       "  ('단', 'ETM'),\n",
       "  ('게', 'EC'),\n",
       "  ('아쉽', 'VA'),\n",
       "  ('ㄹ', 'ETM'),\n",
       "  ('따름', 'NNB'),\n",
       "  ('이', 'VCP'),\n",
       "  ('다', 'EC')]]"
      ]
     },
     "execution_count": 50,
     "metadata": {},
     "output_type": "execute_result"
    }
   ],
   "source": [
    "results[2] # komoran"
   ]
  },
  {
   "cell_type": "markdown",
   "metadata": {},
   "source": [
    "# 2. Noun phrase chunking(덩이짓기)"
   ]
  },
  {
   "cell_type": "markdown",
   "metadata": {},
   "source": [
    "* nltk.RegexpParser() is a great way to start chunking.\n",
    "* 같은 의미 단위를 한 덩어리로 인지하기\n",
    "* The little yellow dog barked at the Persian cat\n",
    "* 작고 노란 강아지가 페르시안 고양이에게 짖었다"
   ]
  },
  {
   "cell_type": "markdown",
   "metadata": {},
   "source": [
    "nltk.RegexpParser(grammar)\n",
    "#### Define a chunk grammar, or chunking rules, then chunk\n",
    "* grammar = \"\"\"\n",
    "* NP: {<N.*>*<Suffix>?}   # Noun phrase  # 명사가 연속적으로 등장한 후 접미사(suffix)가 선택적으로 붙은 경우 명사구(NP)\n",
    "* VP: {<V.*>*}            # Verb phrase\n",
    "* AP: {<A.*>*}            # Adjective phrase\n",
    "* \"\"\""
   ]
  },
  {
   "cell_type": "code",
   "execution_count": 51,
   "metadata": {},
   "outputs": [],
   "source": [
    "#E\n",
    "parser_en = nltk.RegexpParser(\"NP: {<DT>?<JJ>?<NN.*>*}\")\n",
    "chunks_en = parser_en.parse(tags_en)\n",
    "chunks_en.draw()"
   ]
  },
  {
   "attachments": {
    "image.png": {
     "image/png": "[encoded data removed]"
    }
   },
   "cell_type": "markdown",
   "metadata": {},
   "source": [
    "![image.png](attachment:image.png)"
   ]
  },
  {
   "cell_type": "code",
   "execution_count": 52,
   "metadata": {},
   "outputs": [],
   "source": [
    "# K\n",
    "parser_ko = nltk.RegexpParser(\"NP: {<Adjective>*<Noun>*}\")\n",
    "chunks_ko = parser_ko.parse(tags_ko)\n",
    "chunks_ko.draw()"
   ]
  },
  {
   "attachments": {
    "image.png": {
     "image/png": "[encoded data removed]"
    }
   },
   "cell_type": "markdown",
   "metadata": {},
   "source": [
    "![image.png](attachment:image.png)"
   ]
  },
  {
   "cell_type": "code",
   "execution_count": null,
   "metadata": {},
   "outputs": [],
   "source": []
  }
 ],
 "metadata": {
  "anaconda-cloud": {},
  "kernelspec": {
   "display_name": "Python [default]",
   "language": "python",
   "name": "python3"
  },
  "language_info": {
   "codemirror_mode": {
    "name": "ipython",
    "version": 3
   },
   "file_extension": ".py",
   "mimetype": "text/x-python",
   "name": "python",
   "nbconvert_exporter": "python",
   "pygments_lexer": "ipython3",
   "version": "3.5.4"
  }
 },
 "nbformat": 4,
 "nbformat_minor": 1
}
