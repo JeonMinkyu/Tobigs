{
 "cells": [
  {
   "cell_type": "code",
   "execution_count": 1,
   "metadata": {},
   "outputs": [
    {
     "name": "stderr",
     "output_type": "stream",
     "text": [
      "C:\\Users\\S9304\\Anaconda3\\lib\\site-packages\\h5py\\__init__.py:34: FutureWarning: Conversion of the second argument of issubdtype from `float` to `np.floating` is deprecated. In future, it will be treated as `np.float64 == np.dtype(float).type`.\n",
      "  from ._conv import register_converters as _register_converters\n"
     ]
    },
    {
     "name": "stdout",
     "output_type": "stream",
     "text": [
      "WARNING:tensorflow:From C:\\Users\\S9304\\Anaconda3\\lib\\site-packages\\tensorflow\\contrib\\learn\\python\\learn\\datasets\\base.py:198: retry (from tensorflow.contrib.learn.python.learn.datasets.base) is deprecated and will be removed in a future version.\n",
      "Instructions for updating:\n",
      "Use the retry module or similar alternatives.\n",
      "0 loss: 2.6933239 Prediction: yoyvuvt tvuvtvtotvyvt totvt\n",
      "1 loss: 2.361414 Prediction: yo  o t   o t  ut to t o u \n",
      "2 loss: 1.9565628 Prediction: yo loue  oout  ut  out onu \n",
      "3 loss: 1.5527928 Prediction: yoslone  Hout Hut Hout onet\n",
      "4 loss: 1.2127416 Prediction: ye lone  yout dut youtdon't\n",
      "5 loss: 0.9597146 Prediction: ye lone  Bou. du  youtdon't\n",
      "6 loss: 0.7042582 Prediction: ye love  you. But you don't\n",
      "7 loss: 0.5196396 Prediction: ye love  you. But you don't\n",
      "8 loss: 0.3828514 Prediction: ye loves you  But you don't\n",
      "9 loss: 0.2919817 Prediction: He loves you. But you don't\n",
      "10 loss: 0.19665368 Prediction: He loves you. But you don't\n",
      "11 loss: 0.12651816 Prediction: He loves you. But you don't\n",
      "12 loss: 0.098257914 Prediction: He loves you. But you don't\n",
      "13 loss: 0.06881092 Prediction: He loves you. But you don't\n",
      "14 loss: 0.049330156 Prediction: He loves you. But you don't\n",
      "15 loss: 0.033712592 Prediction: He loves you. But you don't\n",
      "16 loss: 0.023306917 Prediction: He loves you. But you don't\n",
      "17 loss: 0.016607504 Prediction: He loves you. But you don't\n",
      "18 loss: 0.012040842 Prediction: He loves you. But you don't\n",
      "19 loss: 0.008909717 Prediction: He loves you. But you don't\n",
      "20 loss: 0.006852831 Prediction: He loves you. But you don't\n",
      "21 loss: 0.005502256 Prediction: He loves you. But you don't\n",
      "22 loss: 0.00457915 Prediction: He loves you. But you don't\n",
      "23 loss: 0.0039264206 Prediction: He loves you. But you don't\n",
      "24 loss: 0.0034491892 Prediction: He loves you. But you don't\n",
      "25 loss: 0.0030748765 Prediction: He loves you. But you don't\n",
      "26 loss: 0.0027509565 Prediction: He loves you. But you don't\n",
      "27 loss: 0.0024522238 Prediction: He loves you. But you don't\n",
      "28 loss: 0.002176499 Prediction: He loves you. But you don't\n",
      "29 loss: 0.0019309326 Prediction: He loves you. But you don't\n"
     ]
    }
   ],
   "source": [
    "# Lab 12 Character Sequence RNN\n",
    "import tensorflow as tf\n",
    "import numpy as np\n",
    "tf.set_random_seed(777)  # reproducibility\n",
    "\n",
    "sample = \" i too like tobigs, too\"\n",
    "#uniqe한 것을 리스트 형태로\n",
    "idx2char = list(set(sample))  # index -> char  \n",
    "char2idx = {c: i for i, c in enumerate(idx2char)}  # char -> idex\n",
    "\n",
    "sample_idx = [char2idx[c] for c in sample]  # char to index\n",
    "x_data = [sample_idx[:-1]]  # X data sample (0 ~ n-1) hello: hell\n",
    "y_data = [sample_idx[1:]]   # Y label sample (1 ~ n) hello: ello\n",
    "\n",
    "# hyper parameters\n",
    "dic_size = len(char2idx)  # RNN input size (one hot size)\n",
    "hidden_size = len(char2idx)  # RNN output size\n",
    "num_classes = len(char2idx)  # final output size (RNN or softmax, etc.)\n",
    "batch_size = 1  # one sample data, one batch\n",
    "sequence_length = len(sample) - 1  # number of lstm rollings (unit #)\n",
    "learning_rate = 0.1\n",
    "\n",
    "X = tf.placeholder(tf.int32, [None, sequence_length])  # X data\n",
    "Y = tf.placeholder(tf.int32, [None, sequence_length])  # Y label\n",
    "\n",
    "x_one_hot = tf.one_hot(X, num_classes)  # one hot: 1 -> 0 1 0 0 0 0 0 0 0 0\n",
    "\n",
    "cell = tf.contrib.rnn.BasicLSTMCell(\n",
    "    num_units=hidden_size, state_is_tuple=True)\n",
    "initial_state = cell.zero_state(batch_size, tf.float32)\n",
    "outputs, _states = tf.nn.dynamic_rnn(\n",
    "    cell, x_one_hot, initial_state=initial_state, dtype=tf.float32)\n",
    "\n",
    "# FC layer\n",
    "X_for_fc = tf.reshape(outputs, [-1, hidden_size])\n",
    "outputs = tf.contrib.layers.fully_connected(X_for_fc, num_classes, activation_fn=None)\n",
    "\n",
    "# reshape out for sequence_loss\n",
    "outputs = tf.reshape(outputs, [batch_size, sequence_length, num_classes])\n",
    "\n",
    "weights = tf.ones([batch_size, sequence_length])\n",
    "sequence_loss = tf.contrib.seq2seq.sequence_loss(\n",
    "    logits=outputs, targets=Y, weights=weights)\n",
    "loss = tf.reduce_mean(sequence_loss)\n",
    "train = tf.train.AdamOptimizer(learning_rate=learning_rate).minimize(loss)\n",
    "\n",
    "prediction = tf.argmax(outputs, axis=2)\n",
    "\n",
    "with tf.Session() as sess:\n",
    "    sess.run(tf.global_variables_initializer())\n",
    "    for i in range(30):\n",
    "        l, _ = sess.run([loss, train], feed_dict={X: x_data, Y: y_data})\n",
    "        result = sess.run(prediction, feed_dict={X: x_data})\n",
    "\n",
    "        # print char using dic\n",
    "        result_str = [idx2char[c] for c in np.squeeze(result)]\n",
    "\n",
    "        print(i, \"loss:\", l, \"Prediction:\", ''.join(result_str))\n"
   ]
  },
  {
   "cell_type": "code",
   "execution_count": null,
   "metadata": {},
   "outputs": [],
   "source": []
  },
  {
   "cell_type": "code",
   "execution_count": 2,
   "metadata": {},
   "outputs": [
    {
     "data": {
      "text/plain": [
       "'I my me my two too like tobigs, too'"
      ]
     },
     "execution_count": 2,
     "metadata": {},
     "output_type": "execute_result"
    }
   ],
   "source": [
    "\"I my me my two too like tobigs, too\""
   ]
  },
  {
   "cell_type": "code",
   "execution_count": null,
   "metadata": {
    "collapsed": true
   },
   "outputs": [],
   "source": []
  },
  {
   "cell_type": "code",
   "execution_count": null,
   "metadata": {},
   "outputs": [],
   "source": []
  },
  {
   "cell_type": "code",
   "execution_count": null,
   "metadata": {
    "collapsed": true
   },
   "outputs": [],
   "source": []
  }
 ],
 "metadata": {
  "kernelspec": {
   "display_name": "Python 3",
   "language": "python",
   "name": "python3"
  },
  "language_info": {
   "codemirror_mode": {
    "name": "ipython",
    "version": 3
   },
   "file_extension": ".py",
   "mimetype": "text/x-python",
   "name": "python",
   "nbconvert_exporter": "python",
   "pygments_lexer": "ipython3",
   "version": "3.6.3"
  }
 },
 "nbformat": 4,
 "nbformat_minor": 2
}
