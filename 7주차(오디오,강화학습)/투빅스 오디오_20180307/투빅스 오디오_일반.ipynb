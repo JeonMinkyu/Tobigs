{
 "cells": [
  {
   "cell_type": "code",
   "execution_count": 1,
   "metadata": {
    "collapsed": true
   },
   "outputs": [],
   "source": [
    "import os\n",
    "import re"
   ]
  },
  {
   "cell_type": "markdown",
   "metadata": {},
   "source": [
    "# 파일 불러오기"
   ]
  },
  {
   "cell_type": "code",
   "execution_count": 2,
   "metadata": {},
   "outputs": [
    {
     "data": {
      "text/plain": [
       "{'계단': 80, '과제': 80, '구름': 80}"
      ]
     },
     "execution_count": 2,
     "metadata": {},
     "output_type": "execute_result"
    }
   ],
   "source": [
    "main_path = 'D:\\\\kaggle\\\\version2\\\\투빅스 오디오\\\\audio_word'\n",
    "classnames=os.listdir(main_path)\n",
    "train_count_dict = {}\n",
    "for d in classnames:\n",
    "    people = os.listdir(os.path.join(main_path, d))\n",
    "    temp = []\n",
    "    length = len(people)\n",
    "    temp.append(length)\n",
    "\n",
    "    train_count_dict[d] = sum(temp)\n",
    "train_count_dict    "
   ]
  },
  {
   "cell_type": "markdown",
   "metadata": {},
   "source": [
    "# Spectrogram 추출\n",
    "\n",
    "1. 단어 구분을 위해 save_path에 스펙트로그램을 저장함\n",
    "2. save_path는 이미지만 저장됨"
   ]
  },
  {
   "cell_type": "code",
   "execution_count": 3,
   "metadata": {
    "collapsed": true
   },
   "outputs": [],
   "source": [
    "import librosa\n",
    "import matplotlib.pyplot as plt\n",
    "import librosa.display\n",
    "import numpy as np"
   ]
  },
  {
   "cell_type": "code",
   "execution_count": 5,
   "metadata": {
    "collapsed": true
   },
   "outputs": [],
   "source": [
    "train_image_path = \"D:\\\\kaggle\\\\version2\\\\투빅스 오디오\\\\train_image_일반\"\n",
    "val_image_path  = \"D:\\\\kaggle\\\\version2\\\\투빅스 오디오\\\\val_image_일반\"\n",
    "\n",
    "os.mkdir(train_image_path)\n",
    "os.mkdir(val_image_path)\n",
    "for m in classnames:\n",
    "    target = os.path.join(train_image_path,m)\n",
    "    os.mkdir(target)\n",
    "    \n",
    "    target = os.path.join(val_image_path,m)\n",
    "    os.mkdir(target) "
   ]
  },
  {
   "cell_type": "code",
   "execution_count": 6,
   "metadata": {
    "collapsed": true
   },
   "outputs": [],
   "source": [
    "# 화자별로 따로 나눌 new_train, val_train폴더 및 클래스 폴더 생성\n",
    "new_train_path = \"D:\\\\kaggle\\\\version2\\\\투빅스 오디오\\\\train_audio\"\n",
    "val_train_path  = \"D:\\\\kaggle\\\\version2\\\\투빅스 오디오\\\\val_audio\""
   ]
  },
  {
   "cell_type": "code",
   "execution_count": 7,
   "metadata": {},
   "outputs": [
    {
     "name": "stdout",
     "output_type": "stream",
     "text": [
      "계단\n",
      "과제\n",
      "구름\n"
     ]
    }
   ],
   "source": [
    "for name in classnames:\n",
    "    print(name)\n",
    "    path = os.path.join(new_train_path,name)\n",
    "    audio_list = os.listdir(path)\n",
    "    \n",
    "    for audio in audio_list:\n",
    "        audio_dir = os.path.join(path,audio)\n",
    "        y, sr = librosa.load(audio_dir)\n",
    "        save_dir = os.path.join(train_image_path,name,audio.split(\".\")[0]+\".png\")\n",
    "        \n",
    "        D = librosa.stft(y)\n",
    "        librosa.display.specshow(librosa.amplitude_to_db(D,ref=np.max))\n",
    "        plt.savefig(train_image_path +'\\\\'+name +'\\\\' + audio.split(\".\")[0]+\".png\", bbox_inches='tight', pad_inches=0)\n",
    "        plt.close('all') # 너무 많이 쌓이면 에러가 난다."
   ]
  },
  {
   "cell_type": "code",
   "execution_count": 8,
   "metadata": {},
   "outputs": [
    {
     "name": "stdout",
     "output_type": "stream",
     "text": [
      "계단\n",
      "과제\n",
      "구름\n"
     ]
    }
   ],
   "source": [
    "for name in classnames:\n",
    "    print(name)\n",
    "    path = os.path.join(val_train_path,name)\n",
    "    audio_list = os.listdir(path)\n",
    "    \n",
    "    for audio in audio_list:\n",
    "        audio_dir = os.path.join(path,audio)\n",
    "        y, sr = librosa.load(audio_dir)\n",
    "        save_dir = os.path.join(train_image_path,name,audio.split(\".\")[0]+\".png\")\n",
    "        \n",
    "        D = librosa.stft(y)\n",
    "        librosa.display.specshow(librosa.amplitude_to_db(D,ref=np.max))\n",
    "        plt.savefig(val_image_path +'\\\\'+name +'\\\\' + audio.split(\".\")[0]+\".png\", bbox_inches='tight', pad_inches=0)\n",
    "        plt.close('all') # 너무 많이 쌓이면 에러가 난다."
   ]
  },
  {
   "cell_type": "code",
   "execution_count": 1,
   "metadata": {},
   "outputs": [
    {
     "name": "stderr",
     "output_type": "stream",
     "text": [
      "Using TensorFlow backend.\n"
     ]
    }
   ],
   "source": [
    "from keras.models import Sequential\n",
    "from keras.layers import Dense\n",
    "from keras.layers import Flatten\n",
    "from keras.layers import Dropout\n",
    "from keras.layers.convolutional import Conv2D\n",
    "from keras.layers.convolutional import MaxPooling2D\n",
    "from keras.preprocessing.image import ImageDataGenerator\n",
    "from keras.callbacks import EarlyStopping, ReduceLROnPlateau\n",
    "from keras.models import load_model\n",
    "from keras import optimizers\n",
    "\n",
    "import matplotlib.pyplot as plt\n",
    "%matplotlib inline\n",
    "\n",
    "import numpy as np"
   ]
  },
  {
   "cell_type": "code",
   "execution_count": 2,
   "metadata": {
    "collapsed": true
   },
   "outputs": [],
   "source": [
    "raw_path = \"D:\\\\kaggle\\\\version2\\\\투빅스 오디오\"\n",
    "train_image_path = \"D:\\\\kaggle\\\\version2\\\\투빅스 오디오\\\\train_image_일반\"\n",
    "val_image_path  = \"D:\\\\kaggle\\\\version2\\\\투빅스 오디오\\\\val_image_일반\""
   ]
  },
  {
   "cell_type": "code",
   "execution_count": 3,
   "metadata": {},
   "outputs": [
    {
     "name": "stdout",
     "output_type": "stream",
     "text": [
      "Found 180 images belonging to 3 classes.\n"
     ]
    }
   ],
   "source": [
    "train_datagen = ImageDataGenerator(rescale=1./255)\n",
    "\n",
    "train_generator = train_datagen.flow_from_directory(\n",
    "        train_image_path,\n",
    "        target_size=(286, 278),\n",
    "        #batch_size=64,\n",
    "        class_mode='categorical')"
   ]
  },
  {
   "cell_type": "code",
   "execution_count": 4,
   "metadata": {},
   "outputs": [
    {
     "name": "stdout",
     "output_type": "stream",
     "text": [
      "Found 60 images belonging to 3 classes.\n"
     ]
    }
   ],
   "source": [
    "val_datagen = ImageDataGenerator(rescale=1./255)\n",
    "\n",
    "val_generator = val_datagen.flow_from_directory(\n",
    "        val_image_path,\n",
    "        target_size=(286, 278),    \n",
    "        batch_size=60,\n",
    "        class_mode='categorical',\n",
    "shuffle=False)"
   ]
  },
  {
   "cell_type": "code",
   "execution_count": 5,
   "metadata": {},
   "outputs": [
    {
     "name": "stdout",
     "output_type": "stream",
     "text": [
      "_________________________________________________________________\n",
      "Layer (type)                 Output Shape              Param #   \n",
      "=================================================================\n",
      "conv2d_1 (Conv2D)            (None, 284, 276, 8)       224       \n",
      "_________________________________________________________________\n",
      "conv2d_2 (Conv2D)            (None, 282, 274, 16)      1168      \n",
      "_________________________________________________________________\n",
      "max_pooling2d_1 (MaxPooling2 (None, 94, 91, 16)        0         \n",
      "_________________________________________________________________\n",
      "conv2d_3 (Conv2D)            (None, 92, 89, 32)        4640      \n",
      "_________________________________________________________________\n",
      "max_pooling2d_2 (MaxPooling2 (None, 30, 29, 32)        0         \n",
      "_________________________________________________________________\n",
      "conv2d_4 (Conv2D)            (None, 28, 27, 64)        18496     \n",
      "_________________________________________________________________\n",
      "max_pooling2d_3 (MaxPooling2 (None, 9, 9, 64)          0         \n",
      "_________________________________________________________________\n",
      "flatten_1 (Flatten)          (None, 5184)              0         \n",
      "_________________________________________________________________\n",
      "dense_1 (Dense)              (None, 128)               663680    \n",
      "_________________________________________________________________\n",
      "dropout_1 (Dropout)          (None, 128)               0         \n",
      "_________________________________________________________________\n",
      "dense_2 (Dense)              (None, 64)                8256      \n",
      "_________________________________________________________________\n",
      "dense_3 (Dense)              (None, 3)                 195       \n",
      "=================================================================\n",
      "Total params: 696,659\n",
      "Trainable params: 696,659\n",
      "Non-trainable params: 0\n",
      "_________________________________________________________________\n"
     ]
    }
   ],
   "source": [
    "model1 = Sequential()\n",
    "\n",
    "model1.add(Conv2D(8, kernel_size=(3, 3), activation='elu',input_shape=(286,278,3),kernel_initializer= 'glorot_normal' ))\n",
    "\n",
    "model1.add(Conv2D(filters = 16, kernel_size = (3, 3), strides=1,activation='elu',kernel_initializer= 'glorot_normal'))\n",
    "model1.add(MaxPooling2D(pool_size=(3, 3)))\n",
    "\n",
    "model1.add(Conv2D(32, (3, 3), activation='elu', strides=1,kernel_initializer= 'glorot_normal'))\n",
    "model1.add(MaxPooling2D(pool_size=(3, 3)))\n",
    "\n",
    "model1.add(Conv2D(64, (3, 3), activation='elu', strides=1,kernel_initializer= 'glorot_normal'))\n",
    "model1.add(MaxPooling2D(pool_size=(3, 3)))\n",
    "\n",
    "model1.add(Flatten())\n",
    "model1.add(Dense(128, activation='elu',kernel_initializer= 'glorot_normal'))\n",
    "model1.add(Dropout(0.5))\n",
    "model1.add(Dense(64, activation='elu',kernel_initializer= 'glorot_normal'))\n",
    "\n",
    "model1.add(Dense(len(train_generator.class_indices) , activation='softmax'))\n",
    "model1.summary()"
   ]
  },
  {
   "cell_type": "code",
   "execution_count": 6,
   "metadata": {},
   "outputs": [
    {
     "name": "stdout",
     "output_type": "stream",
     "text": [
      "_________________________________________________________________\n",
      "Layer (type)                 Output Shape              Param #   \n",
      "=================================================================\n",
      "conv2d_5 (Conv2D)            (None, 282, 274, 8)       608       \n",
      "_________________________________________________________________\n",
      "conv2d_6 (Conv2D)            (None, 278, 270, 16)      3216      \n",
      "_________________________________________________________________\n",
      "max_pooling2d_4 (MaxPooling2 (None, 92, 90, 16)        0         \n",
      "_________________________________________________________________\n",
      "conv2d_7 (Conv2D)            (None, 88, 86, 32)        12832     \n",
      "_________________________________________________________________\n",
      "max_pooling2d_5 (MaxPooling2 (None, 29, 28, 32)        0         \n",
      "_________________________________________________________________\n",
      "conv2d_8 (Conv2D)            (None, 25, 24, 64)        51264     \n",
      "_________________________________________________________________\n",
      "max_pooling2d_6 (MaxPooling2 (None, 8, 8, 64)          0         \n",
      "_________________________________________________________________\n",
      "flatten_2 (Flatten)          (None, 4096)              0         \n",
      "_________________________________________________________________\n",
      "dense_4 (Dense)              (None, 128)               524416    \n",
      "_________________________________________________________________\n",
      "dropout_2 (Dropout)          (None, 128)               0         \n",
      "_________________________________________________________________\n",
      "dense_5 (Dense)              (None, 64)                8256      \n",
      "_________________________________________________________________\n",
      "dense_6 (Dense)              (None, 3)                 195       \n",
      "=================================================================\n",
      "Total params: 600,787\n",
      "Trainable params: 600,787\n",
      "Non-trainable params: 0\n",
      "_________________________________________________________________\n"
     ]
    }
   ],
   "source": [
    "model2 = Sequential()\n",
    "model2.add(Conv2D(8, kernel_size=(5, 5),\n",
    "                 activation='relu',\n",
    "                 input_shape=(286,278,3),kernel_initializer= 'glorot_normal'))\n",
    "\n",
    "model2.add(Conv2D(filters = 16, kernel_size = (5, 5), strides=1,activation='relu',kernel_initializer= 'glorot_normal'))\n",
    "model2.add(MaxPooling2D(pool_size=(3, 3)))\n",
    "\n",
    "model2.add(Conv2D(32, (5, 5), activation='relu',kernel_initializer= 'glorot_normal'))\n",
    "model2.add(MaxPooling2D(pool_size=(3, 3)))\n",
    "\n",
    "model2.add(Conv2D(64, (5, 5), activation='relu',kernel_initializer= 'glorot_normal'))\n",
    "model2.add(MaxPooling2D(pool_size=(3, 3)))\n",
    "\n",
    "model2.add(Flatten())\n",
    "model2.add(Dense(128, activation='relu',kernel_initializer= 'glorot_normal'))\n",
    "model2.add(Dropout(0.5))\n",
    "model2.add(Dense(64, activation='relu',kernel_initializer= 'glorot_normal'))\n",
    "\n",
    "model2.add(Dense(len(train_generator.class_indices), activation='softmax'))\n",
    "model2.summary()"
   ]
  },
  {
   "cell_type": "code",
   "execution_count": 7,
   "metadata": {},
   "outputs": [
    {
     "name": "stdout",
     "output_type": "stream",
     "text": [
      "_________________________________________________________________\n",
      "Layer (type)                 Output Shape              Param #   \n",
      "=================================================================\n",
      "conv2d_9 (Conv2D)            (None, 282, 274, 8)       608       \n",
      "_________________________________________________________________\n",
      "max_pooling2d_7 (MaxPooling2 (None, 94, 91, 8)         0         \n",
      "_________________________________________________________________\n",
      "conv2d_10 (Conv2D)           (None, 90, 87, 16)        3216      \n",
      "_________________________________________________________________\n",
      "max_pooling2d_8 (MaxPooling2 (None, 30, 29, 16)        0         \n",
      "_________________________________________________________________\n",
      "conv2d_11 (Conv2D)           (None, 26, 25, 32)        12832     \n",
      "_________________________________________________________________\n",
      "max_pooling2d_9 (MaxPooling2 (None, 8, 8, 32)          0         \n",
      "_________________________________________________________________\n",
      "conv2d_12 (Conv2D)           (None, 4, 4, 64)          51264     \n",
      "_________________________________________________________________\n",
      "flatten_3 (Flatten)          (None, 1024)              0         \n",
      "_________________________________________________________________\n",
      "dense_7 (Dense)              (None, 128)               131200    \n",
      "_________________________________________________________________\n",
      "dropout_3 (Dropout)          (None, 128)               0         \n",
      "_________________________________________________________________\n",
      "dense_8 (Dense)              (None, 64)                8256      \n",
      "_________________________________________________________________\n",
      "dense_9 (Dense)              (None, 3)                 195       \n",
      "=================================================================\n",
      "Total params: 207,571\n",
      "Trainable params: 207,571\n",
      "Non-trainable params: 0\n",
      "_________________________________________________________________\n"
     ]
    }
   ],
   "source": [
    "model3 = Sequential()\n",
    "model3.add(Conv2D(8, kernel_size=(5, 5),\n",
    "                 activation='relu',\n",
    "                 input_shape=(286,278,3),kernel_initializer= 'glorot_normal'))\n",
    "model3.add(MaxPooling2D(pool_size=(3, 3)))\n",
    "\n",
    "model3.add(Conv2D(filters = 16, kernel_size = (5, 5), strides=1,activation='relu',kernel_initializer= 'glorot_normal'))\n",
    "model3.add(MaxPooling2D(pool_size=(3, 3)))\n",
    "\n",
    "model3.add(Conv2D(32, (5, 5), activation='relu',kernel_initializer= 'glorot_normal'))\n",
    "model3.add(MaxPooling2D(pool_size=(3, 3)))\n",
    "\n",
    "model3.add(Conv2D(64, (5, 5), activation='relu',kernel_initializer= 'glorot_normal'))\n",
    "\n",
    "\n",
    "model3.add(Flatten())\n",
    "model3.add(Dense(128, activation='relu',kernel_initializer= 'glorot_normal'))\n",
    "model3.add(Dropout(0.3))\n",
    "model3.add(Dense(64, activation='relu',kernel_initializer= 'glorot_normal'))\n",
    "\n",
    "model3.add(Dense(len(train_generator.class_indices), activation='softmax'))\n",
    "model3.summary()"
   ]
  },
  {
   "cell_type": "code",
   "execution_count": 8,
   "metadata": {},
   "outputs": [
    {
     "name": "stdout",
     "output_type": "stream",
     "text": [
      "_________________________________________________________________\n",
      "Layer (type)                 Output Shape              Param #   \n",
      "=================================================================\n",
      "conv2d_13 (Conv2D)           (None, 282, 274, 8)       608       \n",
      "_________________________________________________________________\n",
      "conv2d_14 (Conv2D)           (None, 278, 270, 16)      3216      \n",
      "_________________________________________________________________\n",
      "max_pooling2d_10 (MaxPooling (None, 92, 90, 16)        0         \n",
      "_________________________________________________________________\n",
      "conv2d_15 (Conv2D)           (None, 88, 86, 32)        12832     \n",
      "_________________________________________________________________\n",
      "max_pooling2d_11 (MaxPooling (None, 29, 28, 32)        0         \n",
      "_________________________________________________________________\n",
      "conv2d_16 (Conv2D)           (None, 25, 24, 64)        51264     \n",
      "_________________________________________________________________\n",
      "max_pooling2d_12 (MaxPooling (None, 8, 8, 64)          0         \n",
      "_________________________________________________________________\n",
      "conv2d_17 (Conv2D)           (None, 4, 4, 128)         204928    \n",
      "_________________________________________________________________\n",
      "flatten_4 (Flatten)          (None, 2048)              0         \n",
      "_________________________________________________________________\n",
      "dense_10 (Dense)             (None, 128)               262272    \n",
      "_________________________________________________________________\n",
      "dropout_4 (Dropout)          (None, 128)               0         \n",
      "_________________________________________________________________\n",
      "dense_11 (Dense)             (None, 64)                8256      \n",
      "_________________________________________________________________\n",
      "dense_12 (Dense)             (None, 3)                 195       \n",
      "=================================================================\n",
      "Total params: 543,571\n",
      "Trainable params: 543,571\n",
      "Non-trainable params: 0\n",
      "_________________________________________________________________\n"
     ]
    }
   ],
   "source": [
    "model4 = Sequential()\n",
    "model4.add(Conv2D(8, kernel_size=(5, 5),\n",
    "                 activation='relu',\n",
    "                 input_shape=(286,278,3),kernel_initializer= 'glorot_normal'))\n",
    "\n",
    "model4.add(Conv2D(filters = 16, kernel_size = (5, 5), strides=1,activation='relu',kernel_initializer= 'glorot_normal'))\n",
    "model4.add(MaxPooling2D(pool_size=(3, 3)))\n",
    "\n",
    "model4.add(Conv2D(32, (5, 5), activation='relu',kernel_initializer= 'glorot_normal'))\n",
    "model4.add(MaxPooling2D(pool_size=(3, 3)))\n",
    "\n",
    "model4.add(Conv2D(64, (5, 5), activation='relu',kernel_initializer= 'glorot_normal'))\n",
    "model4.add(MaxPooling2D(pool_size=(3, 3)))\n",
    "\n",
    "model4.add(Conv2D(128, (5, 5), activation='relu',kernel_initializer= 'glorot_normal'))\n",
    "\n",
    "\n",
    "model4.add(Flatten())\n",
    "model4.add(Dense(128, activation='relu',kernel_initializer= 'glorot_normal'))\n",
    "model4.add(Dropout(0.5))\n",
    "model4.add(Dense(64, activation='relu',kernel_initializer= 'glorot_normal'))\n",
    "\n",
    "model4.add(Dense(len(train_generator.class_indices), activation='softmax'))\n",
    "model4.summary()"
   ]
  },
  {
   "cell_type": "code",
   "execution_count": 9,
   "metadata": {
    "collapsed": true
   },
   "outputs": [],
   "source": [
    "sgd = optimizers.SGD(lr=0.01, decay=1e-5, momentum=0.9, nesterov=True)"
   ]
  },
  {
   "cell_type": "code",
   "execution_count": 10,
   "metadata": {
    "collapsed": true
   },
   "outputs": [],
   "source": [
    "model1.compile(loss='categorical_crossentropy', optimizer='sgd', metrics=['accuracy'])\n",
    "model2.compile(loss='categorical_crossentropy', optimizer='sgd', metrics=['accuracy'])\n",
    "model3.compile(loss='categorical_crossentropy', optimizer='sgd', metrics=['accuracy'])\n",
    "model4.compile(loss='categorical_crossentropy', optimizer='sgd', metrics=['accuracy'])"
   ]
  },
  {
   "cell_type": "code",
   "execution_count": 11,
   "metadata": {},
   "outputs": [
    {
     "name": "stdout",
     "output_type": "stream",
     "text": [
      "Epoch 1/80\n",
      "10/10 [==============================] - 12s 1s/step - loss: 1.1102 - acc: 0.2922 - val_loss: 1.0932 - val_acc: 0.3333\n",
      "Epoch 2/80\n",
      "10/10 [==============================] - 9s 940ms/step - loss: 1.0495 - acc: 0.4477 - val_loss: 1.0884 - val_acc: 0.3333\n",
      "Epoch 3/80\n",
      "10/10 [==============================] - 9s 893ms/step - loss: 0.9692 - acc: 0.5584 - val_loss: 1.0983 - val_acc: 0.3333\n",
      "Epoch 4/80\n",
      "10/10 [==============================] - 9s 921ms/step - loss: 0.8935 - acc: 0.5687 - val_loss: 1.1132 - val_acc: 0.3333\n",
      "Epoch 5/80\n",
      "10/10 [==============================] - 9s 911ms/step - loss: 0.8544 - acc: 0.5574 - val_loss: 1.2593 - val_acc: 0.3333\n",
      "Epoch 6/80\n",
      "10/10 [==============================] - 9s 855ms/step - loss: 0.7688 - acc: 0.6479 - val_loss: 1.3593 - val_acc: 0.3333\n",
      "Epoch 7/80\n",
      "10/10 [==============================] - 9s 875ms/step - loss: 0.7418 - acc: 0.6616 - val_loss: 1.3169 - val_acc: 0.3333\n",
      "Epoch 8/80\n",
      "10/10 [==============================] - 10s 954ms/step - loss: 0.6993 - acc: 0.6708 - val_loss: 1.4545 - val_acc: 0.3333\n",
      "Epoch 9/80\n",
      "10/10 [==============================] - 9s 883ms/step - loss: 0.6610 - acc: 0.6856 - val_loss: 1.6611 - val_acc: 0.3333\n",
      "Epoch 10/80\n",
      "10/10 [==============================] - 9s 911ms/step - loss: 0.6604 - acc: 0.7137 - val_loss: 1.6682 - val_acc: 0.3333\n",
      "Epoch 11/80\n",
      "10/10 [==============================] - 10s 1s/step - loss: 0.5966 - acc: 0.7685 - val_loss: 1.5758 - val_acc: 0.3333\n",
      "Epoch 12/80\n",
      "10/10 [==============================] - 9s 940ms/step - loss: 0.5552 - acc: 0.7880 - val_loss: 1.4060 - val_acc: 0.3500\n",
      "Epoch 13/80\n",
      "10/10 [==============================] - 9s 866ms/step - loss: 0.5241 - acc: 0.8147 - val_loss: 1.7420 - val_acc: 0.3500\n",
      "Epoch 14/80\n",
      "10/10 [==============================] - 8s 839ms/step - loss: 0.4846 - acc: 0.8190 - val_loss: 1.5603 - val_acc: 0.3500\n",
      "Epoch 15/80\n",
      "10/10 [==============================] - 9s 850ms/step - loss: 0.4745 - acc: 0.8118 - val_loss: 2.0591 - val_acc: 0.3333\n",
      "Epoch 16/80\n",
      "10/10 [==============================] - 9s 863ms/step - loss: 0.4236 - acc: 0.8586 - val_loss: 2.0426 - val_acc: 0.3333\n",
      "Epoch 17/80\n",
      "10/10 [==============================] - 8s 839ms/step - loss: 0.5292 - acc: 0.7686 - val_loss: 1.7786 - val_acc: 0.3833\n",
      "Epoch 18/80\n",
      "10/10 [==============================] - 8s 820ms/step - loss: 0.3910 - acc: 0.8496 - val_loss: 2.1244 - val_acc: 0.3500\n",
      "Epoch 19/80\n",
      "10/10 [==============================] - 8s 808ms/step - loss: 0.3586 - acc: 0.8816 - val_loss: 2.6430 - val_acc: 0.3333\n",
      "Epoch 20/80\n",
      "10/10 [==============================] - 9s 900ms/step - loss: 0.3030 - acc: 0.8900 - val_loss: 2.2406 - val_acc: 0.5000\n",
      "Epoch 21/80\n",
      "10/10 [==============================] - 9s 864ms/step - loss: 0.4155 - acc: 0.8261 - val_loss: 1.9746 - val_acc: 0.3500\n",
      "Epoch 22/80\n",
      "10/10 [==============================] - 8s 836ms/step - loss: 0.2688 - acc: 0.9227 - val_loss: 2.3963 - val_acc: 0.3833\n",
      "Epoch 23/80\n",
      "10/10 [==============================] - 9s 894ms/step - loss: 0.2352 - acc: 0.9230 - val_loss: 2.2942 - val_acc: 0.3833\n",
      "Epoch 24/80\n",
      "10/10 [==============================] - 9s 862ms/step - loss: 0.2439 - acc: 0.9067 - val_loss: 2.1557 - val_acc: 0.5167\n",
      "Epoch 25/80\n",
      "10/10 [==============================] - 9s 921ms/step - loss: 0.2042 - acc: 0.9227 - val_loss: 2.2963 - val_acc: 0.5167\n",
      "Epoch 26/80\n",
      "10/10 [==============================] - 8s 842ms/step - loss: 0.2156 - acc: 0.9247 - val_loss: 2.6991 - val_acc: 0.3667\n",
      "Epoch 27/80\n",
      "10/10 [==============================] - 9s 905ms/step - loss: 0.1734 - acc: 0.9637 - val_loss: 2.0689 - val_acc: 0.5000\n",
      "Epoch 28/80\n",
      "10/10 [==============================] - 9s 853ms/step - loss: 0.3363 - acc: 0.8879 - val_loss: 2.2999 - val_acc: 0.4667\n",
      "Epoch 29/80\n",
      "10/10 [==============================] - 9s 898ms/step - loss: 0.1282 - acc: 0.9715 - val_loss: 2.3321 - val_acc: 0.4333\n",
      "Epoch 30/80\n",
      "10/10 [==============================] - 8s 813ms/step - loss: 0.1942 - acc: 0.9336 - val_loss: 2.4389 - val_acc: 0.4000\n",
      "Epoch 31/80\n",
      "10/10 [==============================] - 9s 923ms/step - loss: 0.2388 - acc: 0.9153 - val_loss: 2.2253 - val_acc: 0.5167\n",
      "Epoch 32/80\n",
      "10/10 [==============================] - 9s 923ms/step - loss: 0.2040 - acc: 0.9288 - val_loss: 2.0535 - val_acc: 0.4000\n",
      "Epoch 33/80\n",
      "10/10 [==============================] - 9s 877ms/step - loss: 0.2815 - acc: 0.8924 - val_loss: 2.5988 - val_acc: 0.4167\n",
      "Epoch 34/80\n",
      "10/10 [==============================] - 9s 865ms/step - loss: 0.1133 - acc: 0.9686 - val_loss: 2.5331 - val_acc: 0.4000\n",
      "Epoch 35/80\n",
      "10/10 [==============================] - 8s 762ms/step - loss: 0.1180 - acc: 0.9696 - val_loss: 2.8074 - val_acc: 0.5000\n",
      "Epoch 36/80\n",
      "10/10 [==============================] - 9s 889ms/step - loss: 0.0965 - acc: 0.9729 - val_loss: 3.3741 - val_acc: 0.3333\n",
      "Epoch 37/80\n",
      "10/10 [==============================] - 9s 869ms/step - loss: 0.0871 - acc: 0.9731 - val_loss: 2.4321 - val_acc: 0.5167\n",
      "Epoch 38/80\n",
      "10/10 [==============================] - 8s 824ms/step - loss: 0.0837 - acc: 0.9812 - val_loss: 2.1507 - val_acc: 0.6500\n",
      "Epoch 39/80\n",
      "10/10 [==============================] - 8s 805ms/step - loss: 0.0588 - acc: 0.9906 - val_loss: 2.1254 - val_acc: 0.5333\n",
      "Epoch 40/80\n",
      "10/10 [==============================] - 9s 884ms/step - loss: 0.0748 - acc: 0.9749 - val_loss: 2.6603 - val_acc: 0.6333\n",
      "Epoch 41/80\n",
      "10/10 [==============================] - 9s 918ms/step - loss: 0.0612 - acc: 0.9843 - val_loss: 2.4912 - val_acc: 0.6167\n",
      "Epoch 42/80\n",
      "10/10 [==============================] - 9s 861ms/step - loss: 0.0762 - acc: 0.9746 - val_loss: 2.9925 - val_acc: 0.5833\n",
      "Epoch 43/80\n",
      "10/10 [==============================] - 8s 842ms/step - loss: 0.0549 - acc: 0.9843 - val_loss: 2.6427 - val_acc: 0.5333\n",
      "Epoch 44/80\n",
      "10/10 [==============================] - 9s 896ms/step - loss: 0.0314 - acc: 1.0000 - val_loss: 2.9600 - val_acc: 0.5833\n",
      "Epoch 45/80\n",
      "10/10 [==============================] - 9s 897ms/step - loss: 0.0536 - acc: 0.9780 - val_loss: 2.9202 - val_acc: 0.6333\n",
      "Epoch 46/80\n",
      "10/10 [==============================] - 9s 883ms/step - loss: 0.0310 - acc: 0.9937 - val_loss: 2.9132 - val_acc: 0.6333\n",
      "Epoch 47/80\n",
      "10/10 [==============================] - 9s 876ms/step - loss: 0.0326 - acc: 0.9969 - val_loss: 3.1517 - val_acc: 0.5333\n",
      "Epoch 48/80\n",
      "10/10 [==============================] - 8s 835ms/step - loss: 0.0304 - acc: 0.9937 - val_loss: 3.3259 - val_acc: 0.5667\n",
      "Epoch 49/80\n",
      "10/10 [==============================] - 9s 878ms/step - loss: 0.0262 - acc: 0.9969 - val_loss: 3.0761 - val_acc: 0.5667\n",
      "Epoch 50/80\n",
      "10/10 [==============================] - 9s 900ms/step - loss: 0.0380 - acc: 0.9906 - val_loss: 3.2270 - val_acc: 0.5333\n",
      "Epoch 51/80\n",
      "10/10 [==============================] - 8s 812ms/step - loss: 0.0285 - acc: 0.9906 - val_loss: 2.8941 - val_acc: 0.5667\n",
      "Epoch 52/80\n",
      "10/10 [==============================] - 9s 908ms/step - loss: 0.0265 - acc: 0.9969 - val_loss: 3.1446 - val_acc: 0.6333\n",
      "Epoch 53/80\n",
      "10/10 [==============================] - 9s 910ms/step - loss: 0.0225 - acc: 0.9969 - val_loss: 3.3683 - val_acc: 0.6333\n",
      "Epoch 54/80\n",
      "10/10 [==============================] - 8s 817ms/step - loss: 0.0259 - acc: 0.9906 - val_loss: 3.4399 - val_acc: 0.5167\n",
      "Epoch 55/80\n",
      "10/10 [==============================] - 8s 812ms/step - loss: 0.0265 - acc: 0.9969 - val_loss: 3.4195 - val_acc: 0.5333\n",
      "Epoch 56/80\n",
      "10/10 [==============================] - 9s 940ms/step - loss: 0.0139 - acc: 1.0000 - val_loss: 3.4968 - val_acc: 0.6000\n",
      "Epoch 57/80\n",
      "10/10 [==============================] - 8s 809ms/step - loss: 0.0139 - acc: 1.0000 - val_loss: 3.3958 - val_acc: 0.5667\n",
      "Epoch 58/80\n",
      "10/10 [==============================] - 9s 854ms/step - loss: 0.0200 - acc: 0.9937 - val_loss: 3.6950 - val_acc: 0.6333\n",
      "Epoch 59/80\n",
      "10/10 [==============================] - 9s 918ms/step - loss: 0.0158 - acc: 0.9969 - val_loss: 3.3276 - val_acc: 0.6333\n",
      "Epoch 60/80\n",
      "10/10 [==============================] - 9s 887ms/step - loss: 0.0258 - acc: 0.9969 - val_loss: 3.5720 - val_acc: 0.6167\n",
      "Epoch 61/80\n",
      "10/10 [==============================] - 9s 852ms/step - loss: 0.0130 - acc: 1.0000 - val_loss: 3.7488 - val_acc: 0.5167\n",
      "Epoch 62/80\n",
      "10/10 [==============================] - 8s 804ms/step - loss: 0.0181 - acc: 0.9951 - val_loss: 3.4457 - val_acc: 0.5667\n"
     ]
    },
    {
     "name": "stdout",
     "output_type": "stream",
     "text": [
      "Epoch 63/80\n",
      "10/10 [==============================] - 9s 882ms/step - loss: 0.0122 - acc: 1.0000 - val_loss: 3.6346 - val_acc: 0.5333\n",
      "Epoch 64/80\n",
      "10/10 [==============================] - 9s 897ms/step - loss: 0.0276 - acc: 0.9906 - val_loss: 3.5394 - val_acc: 0.5667\n",
      "Epoch 65/80\n",
      "10/10 [==============================] - 9s 893ms/step - loss: 0.0113 - acc: 1.0000 - val_loss: 3.7814 - val_acc: 0.5667\n",
      "Epoch 66/80\n",
      "10/10 [==============================] - 8s 759ms/step - loss: 0.0206 - acc: 0.9969 - val_loss: 3.7162 - val_acc: 0.5667\n",
      "Epoch 67/80\n",
      "10/10 [==============================] - 9s 868ms/step - loss: 0.0108 - acc: 1.0000 - val_loss: 3.7596 - val_acc: 0.5667\n",
      "Epoch 68/80\n",
      "10/10 [==============================] - 8s 826ms/step - loss: 0.0074 - acc: 1.0000 - val_loss: 3.7545 - val_acc: 0.5667\n",
      "Epoch 69/80\n",
      "10/10 [==============================] - 9s 862ms/step - loss: 0.0086 - acc: 1.0000 - val_loss: 3.7922 - val_acc: 0.5667\n",
      "Epoch 70/80\n",
      "10/10 [==============================] - 8s 785ms/step - loss: 0.0085 - acc: 1.0000 - val_loss: 4.0521 - val_acc: 0.5333\n",
      "Epoch 71/80\n",
      "10/10 [==============================] - 8s 820ms/step - loss: 0.0116 - acc: 0.9968 - val_loss: 3.8936 - val_acc: 0.5667\n",
      "Epoch 72/80\n",
      "10/10 [==============================] - 8s 850ms/step - loss: 0.0075 - acc: 1.0000 - val_loss: 3.9107 - val_acc: 0.5333\n",
      "Epoch 73/80\n",
      "10/10 [==============================] - 9s 876ms/step - loss: 0.0054 - acc: 1.0000 - val_loss: 3.7678 - val_acc: 0.5667\n",
      "Epoch 74/80\n",
      "10/10 [==============================] - 8s 842ms/step - loss: 0.0079 - acc: 1.0000 - val_loss: 3.9971 - val_acc: 0.5667\n",
      "Epoch 75/80\n",
      "10/10 [==============================] - 9s 897ms/step - loss: 0.0036 - acc: 1.0000 - val_loss: 3.7906 - val_acc: 0.5667\n",
      "Epoch 76/80\n",
      "10/10 [==============================] - 8s 812ms/step - loss: 0.0052 - acc: 1.0000 - val_loss: 4.0256 - val_acc: 0.5500\n",
      "Epoch 77/80\n",
      "10/10 [==============================] - 9s 881ms/step - loss: 0.0063 - acc: 1.0000 - val_loss: 4.0335 - val_acc: 0.5167\n",
      "Epoch 78/80\n",
      "10/10 [==============================] - 8s 797ms/step - loss: 0.0090 - acc: 1.0000 - val_loss: 3.9931 - val_acc: 0.5667\n",
      "Epoch 79/80\n",
      "10/10 [==============================] - 8s 815ms/step - loss: 0.0049 - acc: 1.0000 - val_loss: 4.1949 - val_acc: 0.5667\n",
      "Epoch 80/80\n",
      "10/10 [==============================] - 9s 916ms/step - loss: 0.0050 - acc: 1.0000 - val_loss: 4.1559 - val_acc: 0.5667\n"
     ]
    }
   ],
   "source": [
    "hist = model1.fit_generator(\n",
    "        train_generator,\n",
    "        steps_per_epoch=10,\n",
    "        epochs=80,\n",
    "        validation_data=val_generator,\n",
    "        validation_steps=25)#,\n",
    "        #callbacks=[early, reduce])"
   ]
  },
  {
   "cell_type": "code",
   "execution_count": 12,
   "metadata": {},
   "outputs": [
    {
     "name": "stdout",
     "output_type": "stream",
     "text": [
      "Epoch 1/80\n",
      "10/10 [==============================] - 10s 1s/step - loss: 1.0935 - acc: 0.3395 - val_loss: 1.0988 - val_acc: 0.3333\n",
      "Epoch 2/80\n",
      "10/10 [==============================] - 9s 922ms/step - loss: 1.0871 - acc: 0.3576 - val_loss: 1.0974 - val_acc: 0.3333\n",
      "Epoch 3/80\n",
      "10/10 [==============================] - 9s 872ms/step - loss: 1.0747 - acc: 0.3973 - val_loss: 1.0959 - val_acc: 0.3333\n",
      "Epoch 4/80\n",
      "10/10 [==============================] - 9s 872ms/step - loss: 1.0538 - acc: 0.4031 - val_loss: 1.0923 - val_acc: 0.3333\n",
      "Epoch 5/80\n",
      "10/10 [==============================] - 9s 919ms/step - loss: 1.0364 - acc: 0.3999 - val_loss: 1.0814 - val_acc: 0.3333\n",
      "Epoch 6/80\n",
      "10/10 [==============================] - 9s 887ms/step - loss: 0.9712 - acc: 0.4983 - val_loss: 1.0678 - val_acc: 0.3333\n",
      "Epoch 7/80\n",
      "10/10 [==============================] - 9s 904ms/step - loss: 0.9030 - acc: 0.5260 - val_loss: 1.0664 - val_acc: 0.3500\n",
      "Epoch 8/80\n",
      "10/10 [==============================] - 9s 898ms/step - loss: 0.9196 - acc: 0.5344 - val_loss: 0.9487 - val_acc: 0.4667\n",
      "Epoch 9/80\n",
      "10/10 [==============================] - 9s 861ms/step - loss: 0.8457 - acc: 0.5676 - val_loss: 0.9376 - val_acc: 0.4667\n",
      "Epoch 10/80\n",
      "10/10 [==============================] - 8s 847ms/step - loss: 0.8363 - acc: 0.5830 - val_loss: 0.8752 - val_acc: 0.5500\n",
      "Epoch 11/80\n",
      "10/10 [==============================] - 9s 884ms/step - loss: 0.7902 - acc: 0.5666 - val_loss: 0.8865 - val_acc: 0.5000\n",
      "Epoch 12/80\n",
      "10/10 [==============================] - 9s 937ms/step - loss: 0.8089 - acc: 0.6151 - val_loss: 0.9541 - val_acc: 0.4333\n",
      "Epoch 13/80\n",
      "10/10 [==============================] - 9s 864ms/step - loss: 0.7719 - acc: 0.5809 - val_loss: 0.9208 - val_acc: 0.4667\n",
      "Epoch 14/80\n",
      "10/10 [==============================] - 9s 901ms/step - loss: 0.7884 - acc: 0.6132 - val_loss: 0.7794 - val_acc: 0.5833\n",
      "Epoch 15/80\n",
      "10/10 [==============================] - 8s 844ms/step - loss: 0.7480 - acc: 0.6167 - val_loss: 0.9927 - val_acc: 0.4667\n",
      "Epoch 16/80\n",
      "10/10 [==============================] - 10s 975ms/step - loss: 0.7244 - acc: 0.6448 - val_loss: 0.7946 - val_acc: 0.5333\n",
      "Epoch 17/80\n",
      "10/10 [==============================] - 8s 831ms/step - loss: 0.6964 - acc: 0.6407 - val_loss: 0.7667 - val_acc: 0.5833\n",
      "Epoch 18/80\n",
      "10/10 [==============================] - 10s 983ms/step - loss: 0.6900 - acc: 0.6756 - val_loss: 0.9033 - val_acc: 0.4667\n",
      "Epoch 19/80\n",
      "10/10 [==============================] - 9s 912ms/step - loss: 0.6608 - acc: 0.6887 - val_loss: 0.8919 - val_acc: 0.4833\n",
      "Epoch 20/80\n",
      "10/10 [==============================] - 9s 946ms/step - loss: 0.6410 - acc: 0.6960 - val_loss: 1.3817 - val_acc: 0.4167\n",
      "Epoch 21/80\n",
      "10/10 [==============================] - 9s 881ms/step - loss: 0.6131 - acc: 0.7568 - val_loss: 1.0848 - val_acc: 0.4667\n",
      "Epoch 22/80\n",
      "10/10 [==============================] - 9s 861ms/step - loss: 0.5700 - acc: 0.7621 - val_loss: 0.7800 - val_acc: 0.5500\n",
      "Epoch 23/80\n",
      "10/10 [==============================] - 9s 856ms/step - loss: 0.5803 - acc: 0.7406 - val_loss: 1.6445 - val_acc: 0.4167\n",
      "Epoch 24/80\n",
      "10/10 [==============================] - 9s 855ms/step - loss: 0.5628 - acc: 0.7852 - val_loss: 1.1052 - val_acc: 0.4833\n",
      "Epoch 25/80\n",
      "10/10 [==============================] - 9s 852ms/step - loss: 0.4678 - acc: 0.8084 - val_loss: 1.2889 - val_acc: 0.4167\n",
      "Epoch 26/80\n",
      "10/10 [==============================] - 9s 904ms/step - loss: 0.4907 - acc: 0.8036 - val_loss: 1.1826 - val_acc: 0.4667\n",
      "Epoch 27/80\n",
      "10/10 [==============================] - 9s 866ms/step - loss: 0.4560 - acc: 0.8273 - val_loss: 0.9019 - val_acc: 0.5167\n",
      "Epoch 28/80\n",
      "10/10 [==============================] - 9s 879ms/step - loss: 0.3902 - acc: 0.8615 - val_loss: 0.9584 - val_acc: 0.6167\n",
      "Epoch 29/80\n",
      "10/10 [==============================] - 10s 962ms/step - loss: 0.4109 - acc: 0.8433 - val_loss: 0.8102 - val_acc: 0.6500\n",
      "Epoch 30/80\n",
      "10/10 [==============================] - 9s 903ms/step - loss: 0.3324 - acc: 0.8956 - val_loss: 2.1040 - val_acc: 0.4000\n",
      "Epoch 31/80\n",
      "10/10 [==============================] - 9s 907ms/step - loss: 0.2474 - acc: 0.9262 - val_loss: 2.5757 - val_acc: 0.4167\n",
      "Epoch 32/80\n",
      "10/10 [==============================] - 9s 948ms/step - loss: 0.3649 - acc: 0.8627 - val_loss: 2.0819 - val_acc: 0.4167\n",
      "Epoch 33/80\n",
      "10/10 [==============================] - 8s 806ms/step - loss: 0.2288 - acc: 0.9208 - val_loss: 3.4880 - val_acc: 0.3500\n",
      "Epoch 34/80\n",
      "10/10 [==============================] - 9s 912ms/step - loss: 0.1641 - acc: 0.9491 - val_loss: 3.0008 - val_acc: 0.3667\n",
      "Epoch 35/80\n",
      "10/10 [==============================] - 9s 919ms/step - loss: 0.5696 - acc: 0.8193 - val_loss: 1.8428 - val_acc: 0.4167\n",
      "Epoch 36/80\n",
      "10/10 [==============================] - 10s 990ms/step - loss: 0.2610 - acc: 0.9222 - val_loss: 1.7606 - val_acc: 0.4167\n",
      "Epoch 37/80\n",
      "10/10 [==============================] - 9s 887ms/step - loss: 0.1935 - acc: 0.9462 - val_loss: 2.1426 - val_acc: 0.4167\n",
      "Epoch 38/80\n",
      "10/10 [==============================] - 8s 838ms/step - loss: 0.1865 - acc: 0.9418 - val_loss: 1.2929 - val_acc: 0.5333\n",
      "Epoch 39/80\n",
      "10/10 [==============================] - 9s 896ms/step - loss: 0.1860 - acc: 0.9319 - val_loss: 2.3037 - val_acc: 0.4167\n",
      "Epoch 40/80\n",
      "10/10 [==============================] - 9s 886ms/step - loss: 0.1543 - acc: 0.9414 - val_loss: 2.6409 - val_acc: 0.4833\n",
      "Epoch 41/80\n",
      "10/10 [==============================] - 9s 888ms/step - loss: 0.1442 - acc: 0.9530 - val_loss: 3.1775 - val_acc: 0.4167\n",
      "Epoch 42/80\n",
      "10/10 [==============================] - 8s 850ms/step - loss: 0.2111 - acc: 0.9254 - val_loss: 2.1654 - val_acc: 0.4000\n",
      "Epoch 43/80\n",
      "10/10 [==============================] - 9s 916ms/step - loss: 0.1654 - acc: 0.9450 - val_loss: 2.5498 - val_acc: 0.4167\n",
      "Epoch 44/80\n",
      "10/10 [==============================] - 9s 900ms/step - loss: 0.0969 - acc: 0.9654 - val_loss: 1.9422 - val_acc: 0.5000\n",
      "Epoch 45/80\n",
      "10/10 [==============================] - 9s 909ms/step - loss: 0.0628 - acc: 0.9951 - val_loss: 3.0282 - val_acc: 0.4167\n",
      "Epoch 46/80\n",
      "10/10 [==============================] - 9s 947ms/step - loss: 0.0701 - acc: 0.9778 - val_loss: 2.5904 - val_acc: 0.4667\n",
      "Epoch 47/80\n",
      "10/10 [==============================] - 9s 920ms/step - loss: 0.1120 - acc: 0.9477 - val_loss: 2.2557 - val_acc: 0.5000\n",
      "Epoch 48/80\n",
      "10/10 [==============================] - 9s 859ms/step - loss: 0.0693 - acc: 0.9748 - val_loss: 3.5341 - val_acc: 0.4667\n",
      "Epoch 49/80\n",
      "10/10 [==============================] - 9s 895ms/step - loss: 0.0596 - acc: 0.9843 - val_loss: 3.9522 - val_acc: 0.4167\n",
      "Epoch 50/80\n",
      "10/10 [==============================] - 9s 878ms/step - loss: 0.0694 - acc: 0.9795 - val_loss: 4.1277 - val_acc: 0.4167\n",
      "Epoch 51/80\n",
      "10/10 [==============================] - 9s 870ms/step - loss: 0.0555 - acc: 0.9763 - val_loss: 3.8658 - val_acc: 0.4167\n",
      "Epoch 52/80\n",
      "10/10 [==============================] - 9s 921ms/step - loss: 0.0673 - acc: 0.9826 - val_loss: 4.4757 - val_acc: 0.4167\n",
      "Epoch 53/80\n",
      "10/10 [==============================] - 9s 940ms/step - loss: 0.0318 - acc: 0.9969 - val_loss: 4.1003 - val_acc: 0.4333\n",
      "Epoch 54/80\n",
      "10/10 [==============================] - 9s 860ms/step - loss: 0.0409 - acc: 0.9811 - val_loss: 3.8294 - val_acc: 0.4500\n",
      "Epoch 55/80\n",
      "10/10 [==============================] - 9s 878ms/step - loss: 0.0467 - acc: 0.9874 - val_loss: 4.7907 - val_acc: 0.4167\n",
      "Epoch 56/80\n",
      "10/10 [==============================] - 9s 936ms/step - loss: 0.0598 - acc: 0.9812 - val_loss: 4.1018 - val_acc: 0.4000\n",
      "Epoch 57/80\n",
      "10/10 [==============================] - 8s 841ms/step - loss: 0.0377 - acc: 0.9906 - val_loss: 4.9657 - val_acc: 0.4167\n",
      "Epoch 58/80\n",
      "10/10 [==============================] - 9s 861ms/step - loss: 0.0296 - acc: 0.9937 - val_loss: 4.7947 - val_acc: 0.4000\n",
      "Epoch 59/80\n",
      "10/10 [==============================] - 9s 887ms/step - loss: 0.0179 - acc: 0.9969 - val_loss: 4.4525 - val_acc: 0.4167\n",
      "Epoch 60/80\n",
      "10/10 [==============================] - 9s 913ms/step - loss: 0.0236 - acc: 0.9906 - val_loss: 5.2228 - val_acc: 0.4000\n",
      "Epoch 61/80\n",
      "10/10 [==============================] - 9s 885ms/step - loss: 0.0281 - acc: 0.9937 - val_loss: 5.1094 - val_acc: 0.4000\n",
      "Epoch 62/80\n"
     ]
    },
    {
     "name": "stdout",
     "output_type": "stream",
     "text": [
      "10/10 [==============================] - 9s 905ms/step - loss: 0.0117 - acc: 1.0000 - val_loss: 5.1954 - val_acc: 0.4167\n",
      "Epoch 63/80\n",
      "10/10 [==============================] - 8s 826ms/step - loss: 0.0829 - acc: 0.9717 - val_loss: 3.4358 - val_acc: 0.4667\n",
      "Epoch 64/80\n",
      "10/10 [==============================] - 9s 917ms/step - loss: 0.0174 - acc: 1.0000 - val_loss: 4.2736 - val_acc: 0.4167\n",
      "Epoch 65/80\n",
      "10/10 [==============================] - 9s 878ms/step - loss: 0.0378 - acc: 0.9906 - val_loss: 2.9682 - val_acc: 0.4667\n",
      "Epoch 66/80\n",
      "10/10 [==============================] - 8s 844ms/step - loss: 0.0168 - acc: 0.9969 - val_loss: 4.0553 - val_acc: 0.4333\n",
      "Epoch 67/80\n",
      "10/10 [==============================] - 9s 896ms/step - loss: 0.0387 - acc: 0.9843 - val_loss: 5.0072 - val_acc: 0.4167\n",
      "Epoch 68/80\n",
      "10/10 [==============================] - 9s 861ms/step - loss: 0.0123 - acc: 1.0000 - val_loss: 5.5339 - val_acc: 0.4000\n",
      "Epoch 69/80\n",
      "10/10 [==============================] - 8s 820ms/step - loss: 0.0171 - acc: 0.9969 - val_loss: 5.4143 - val_acc: 0.4167\n",
      "Epoch 70/80\n",
      "10/10 [==============================] - 8s 847ms/step - loss: 0.0129 - acc: 0.9969 - val_loss: 5.8038 - val_acc: 0.4167\n",
      "Epoch 71/80\n",
      "10/10 [==============================] - 9s 894ms/step - loss: 0.0274 - acc: 0.9906 - val_loss: 4.7489 - val_acc: 0.4667\n",
      "Epoch 72/80\n",
      "10/10 [==============================] - 10s 958ms/step - loss: 0.0125 - acc: 0.9969 - val_loss: 5.0305 - val_acc: 0.4167\n",
      "Epoch 73/80\n",
      "10/10 [==============================] - 9s 880ms/step - loss: 0.0125 - acc: 1.0000 - val_loss: 5.3369 - val_acc: 0.4167\n",
      "Epoch 74/80\n",
      "10/10 [==============================] - 9s 915ms/step - loss: 0.0228 - acc: 0.9937 - val_loss: 5.0167 - val_acc: 0.4167\n",
      "Epoch 75/80\n",
      "10/10 [==============================] - 8s 825ms/step - loss: 0.0557 - acc: 0.9857 - val_loss: 5.0480 - val_acc: 0.4167\n",
      "Epoch 76/80\n",
      "10/10 [==============================] - 9s 855ms/step - loss: 0.0193 - acc: 0.9969 - val_loss: 4.6589 - val_acc: 0.4500\n",
      "Epoch 77/80\n",
      "10/10 [==============================] - 9s 862ms/step - loss: 0.0060 - acc: 1.0000 - val_loss: 4.0855 - val_acc: 0.4833\n",
      "Epoch 78/80\n",
      "10/10 [==============================] - 9s 919ms/step - loss: 0.0151 - acc: 0.9937 - val_loss: 4.7263 - val_acc: 0.4667\n",
      "Epoch 79/80\n",
      "10/10 [==============================] - 8s 836ms/step - loss: 0.0047 - acc: 1.0000 - val_loss: 4.8131 - val_acc: 0.4667\n",
      "Epoch 80/80\n",
      "10/10 [==============================] - 9s 857ms/step - loss: 0.0100 - acc: 0.9969 - val_loss: 4.8956 - val_acc: 0.4500\n"
     ]
    }
   ],
   "source": [
    "hist2 = model2.fit_generator(\n",
    "        train_generator,\n",
    "        steps_per_epoch=10,\n",
    "        epochs=80,\n",
    "        validation_data=val_generator,\n",
    "        validation_steps=25)#,\n",
    "        #callbacks=[early, reduce])"
   ]
  },
  {
   "cell_type": "code",
   "execution_count": 13,
   "metadata": {},
   "outputs": [
    {
     "name": "stdout",
     "output_type": "stream",
     "text": [
      "Epoch 1/80\n",
      "10/10 [==============================] - 8s 834ms/step - loss: 1.0978 - acc: 0.3660 - val_loss: 1.0975 - val_acc: 0.3333\n",
      "Epoch 2/80\n",
      "10/10 [==============================] - 8s 824ms/step - loss: 1.0963 - acc: 0.4296 - val_loss: 1.0970 - val_acc: 0.4000\n",
      "Epoch 3/80\n",
      "10/10 [==============================] - 8s 824ms/step - loss: 1.0949 - acc: 0.3893 - val_loss: 1.0966 - val_acc: 0.3833\n",
      "Epoch 4/80\n",
      "10/10 [==============================] - 8s 771ms/step - loss: 1.0949 - acc: 0.4199 - val_loss: 1.0964 - val_acc: 0.3667\n",
      "Epoch 5/80\n",
      "10/10 [==============================] - 8s 813ms/step - loss: 1.0937 - acc: 0.4246 - val_loss: 1.0960 - val_acc: 0.3333\n",
      "Epoch 6/80\n",
      "10/10 [==============================] - 8s 772ms/step - loss: 1.0930 - acc: 0.4418 - val_loss: 1.0956 - val_acc: 0.4500\n",
      "Epoch 7/80\n",
      "10/10 [==============================] - 9s 879ms/step - loss: 1.0901 - acc: 0.5014 - val_loss: 1.0952 - val_acc: 0.3333\n",
      "Epoch 8/80\n",
      "10/10 [==============================] - 7s 733ms/step - loss: 1.0901 - acc: 0.4639 - val_loss: 1.0945 - val_acc: 0.4333\n",
      "Epoch 9/80\n",
      "10/10 [==============================] - 8s 821ms/step - loss: 1.0893 - acc: 0.4871 - val_loss: 1.0940 - val_acc: 0.5167\n",
      "Epoch 10/80\n",
      "10/10 [==============================] - 8s 795ms/step - loss: 1.0863 - acc: 0.5189 - val_loss: 1.0933 - val_acc: 0.4000\n",
      "Epoch 11/80\n",
      "10/10 [==============================] - 10s 966ms/step - loss: 1.0869 - acc: 0.4685 - val_loss: 1.0925 - val_acc: 0.3667\n",
      "Epoch 12/80\n",
      "10/10 [==============================] - 8s 766ms/step - loss: 1.0811 - acc: 0.5017 - val_loss: 1.0916 - val_acc: 0.3833\n",
      "Epoch 13/80\n",
      "10/10 [==============================] - 7s 690ms/step - loss: 1.0795 - acc: 0.5378 - val_loss: 1.0904 - val_acc: 0.4667\n",
      "Epoch 14/80\n",
      "10/10 [==============================] - 9s 882ms/step - loss: 1.0758 - acc: 0.4624 - val_loss: 1.0887 - val_acc: 0.4000\n",
      "Epoch 15/80\n",
      "10/10 [==============================] - 9s 915ms/step - loss: 1.0715 - acc: 0.5289 - val_loss: 1.0871 - val_acc: 0.3500\n",
      "Epoch 16/80\n",
      "10/10 [==============================] - 8s 818ms/step - loss: 1.0668 - acc: 0.5265 - val_loss: 1.0845 - val_acc: 0.3500\n",
      "Epoch 17/80\n",
      "10/10 [==============================] - 8s 765ms/step - loss: 1.0588 - acc: 0.4983 - val_loss: 1.0838 - val_acc: 0.3333\n",
      "Epoch 18/80\n",
      "10/10 [==============================] - 8s 820ms/step - loss: 1.0478 - acc: 0.5177 - val_loss: 1.0819 - val_acc: 0.3333\n",
      "Epoch 19/80\n",
      "10/10 [==============================] - 8s 801ms/step - loss: 1.0355 - acc: 0.5379 - val_loss: 1.0826 - val_acc: 0.3333\n",
      "Epoch 20/80\n",
      "10/10 [==============================] - 8s 835ms/step - loss: 1.0031 - acc: 0.5715 - val_loss: 1.1005 - val_acc: 0.3333\n",
      "Epoch 21/80\n",
      "10/10 [==============================] - 8s 783ms/step - loss: 0.9915 - acc: 0.5426 - val_loss: 1.0944 - val_acc: 0.3333\n",
      "Epoch 22/80\n",
      "10/10 [==============================] - 9s 895ms/step - loss: 0.9381 - acc: 0.5921 - val_loss: 1.2415 - val_acc: 0.3333\n",
      "Epoch 23/80\n",
      "10/10 [==============================] - 10s 955ms/step - loss: 0.9015 - acc: 0.5332 - val_loss: 1.1332 - val_acc: 0.3333\n",
      "Epoch 24/80\n",
      "10/10 [==============================] - 9s 868ms/step - loss: 0.8829 - acc: 0.6040 - val_loss: 1.3012 - val_acc: 0.3333\n",
      "Epoch 25/80\n",
      "10/10 [==============================] - 8s 805ms/step - loss: 0.8502 - acc: 0.6069 - val_loss: 1.0712 - val_acc: 0.3500\n",
      "Epoch 26/80\n",
      "10/10 [==============================] - 8s 827ms/step - loss: 0.8451 - acc: 0.6179 - val_loss: 1.1534 - val_acc: 0.3500\n",
      "Epoch 27/80\n",
      "10/10 [==============================] - 8s 807ms/step - loss: 0.8260 - acc: 0.6038 - val_loss: 1.1455 - val_acc: 0.3500\n",
      "Epoch 28/80\n",
      "10/10 [==============================] - 9s 938ms/step - loss: 0.8400 - acc: 0.6284 - val_loss: 1.3057 - val_acc: 0.3333\n",
      "Epoch 29/80\n",
      "10/10 [==============================] - 8s 822ms/step - loss: 0.7888 - acc: 0.6619 - val_loss: 1.0467 - val_acc: 0.5333\n",
      "Epoch 30/80\n",
      "10/10 [==============================] - 8s 828ms/step - loss: 0.8127 - acc: 0.6299 - val_loss: 1.2133 - val_acc: 0.3500\n",
      "Epoch 31/80\n",
      "10/10 [==============================] - 8s 836ms/step - loss: 0.7668 - acc: 0.6996 - val_loss: 1.4259 - val_acc: 0.3333\n",
      "Epoch 32/80\n",
      "10/10 [==============================] - 8s 809ms/step - loss: 0.7595 - acc: 0.6742 - val_loss: 1.1132 - val_acc: 0.4333\n",
      "Epoch 33/80\n",
      "10/10 [==============================] - 8s 790ms/step - loss: 0.7629 - acc: 0.6622 - val_loss: 1.4271 - val_acc: 0.3333\n",
      "Epoch 34/80\n",
      "10/10 [==============================] - 8s 758ms/step - loss: 0.6990 - acc: 0.7155 - val_loss: 1.8002 - val_acc: 0.3333\n",
      "Epoch 35/80\n",
      "10/10 [==============================] - 9s 924ms/step - loss: 0.7333 - acc: 0.6911 - val_loss: 1.2625 - val_acc: 0.3500\n",
      "Epoch 36/80\n",
      "10/10 [==============================] - 8s 783ms/step - loss: 0.7076 - acc: 0.6916 - val_loss: 1.1653 - val_acc: 0.3500\n",
      "Epoch 37/80\n",
      "10/10 [==============================] - 8s 791ms/step - loss: 0.6925 - acc: 0.6894 - val_loss: 1.4789 - val_acc: 0.3500\n",
      "Epoch 38/80\n",
      "10/10 [==============================] - 9s 929ms/step - loss: 0.6092 - acc: 0.7702 - val_loss: 1.2192 - val_acc: 0.3833\n",
      "Epoch 39/80\n",
      "10/10 [==============================] - 8s 804ms/step - loss: 0.6456 - acc: 0.7437 - val_loss: 1.7237 - val_acc: 0.3333\n",
      "Epoch 40/80\n",
      "10/10 [==============================] - 7s 743ms/step - loss: 0.6968 - acc: 0.7168 - val_loss: 1.7328 - val_acc: 0.4333\n",
      "Epoch 41/80\n",
      "10/10 [==============================] - 8s 796ms/step - loss: 0.5724 - acc: 0.7849 - val_loss: 1.3987 - val_acc: 0.3833\n",
      "Epoch 42/80\n",
      "10/10 [==============================] - 8s 818ms/step - loss: 0.5280 - acc: 0.7702 - val_loss: 2.4191 - val_acc: 0.3333\n",
      "Epoch 43/80\n",
      "10/10 [==============================] - 9s 928ms/step - loss: 0.5774 - acc: 0.7592 - val_loss: 2.0573 - val_acc: 0.3500\n",
      "Epoch 44/80\n",
      "10/10 [==============================] - 9s 871ms/step - loss: 0.5915 - acc: 0.7802 - val_loss: 1.6585 - val_acc: 0.4000\n",
      "Epoch 45/80\n",
      "10/10 [==============================] - 8s 815ms/step - loss: 0.5047 - acc: 0.7946 - val_loss: 1.9274 - val_acc: 0.3833\n",
      "Epoch 46/80\n",
      "10/10 [==============================] - 9s 884ms/step - loss: 0.4424 - acc: 0.8492 - val_loss: 2.1949 - val_acc: 0.3500\n",
      "Epoch 47/80\n",
      "10/10 [==============================] - 9s 851ms/step - loss: 0.4979 - acc: 0.8067 - val_loss: 1.2883 - val_acc: 0.6333\n",
      "Epoch 48/80\n",
      "10/10 [==============================] - 8s 769ms/step - loss: 0.4671 - acc: 0.8263 - val_loss: 1.0720 - val_acc: 0.6500\n",
      "Epoch 49/80\n",
      "10/10 [==============================] - 8s 785ms/step - loss: 0.3720 - acc: 0.8730 - val_loss: 1.9677 - val_acc: 0.6000\n",
      "Epoch 50/80\n",
      "10/10 [==============================] - 8s 838ms/step - loss: 0.3431 - acc: 0.8666 - val_loss: 2.0993 - val_acc: 0.6500\n",
      "Epoch 51/80\n",
      "10/10 [==============================] - 8s 777ms/step - loss: 0.4257 - acc: 0.8355 - val_loss: 1.2821 - val_acc: 0.6333\n",
      "Epoch 52/80\n",
      "10/10 [==============================] - 8s 824ms/step - loss: 0.3082 - acc: 0.9130 - val_loss: 2.0350 - val_acc: 0.5833\n",
      "Epoch 53/80\n",
      "10/10 [==============================] - 8s 793ms/step - loss: 0.3292 - acc: 0.8928 - val_loss: 2.5663 - val_acc: 0.3833\n",
      "Epoch 54/80\n",
      "10/10 [==============================] - 8s 847ms/step - loss: 0.2543 - acc: 0.9099 - val_loss: 2.8224 - val_acc: 0.3667\n",
      "Epoch 55/80\n",
      "10/10 [==============================] - 7s 726ms/step - loss: 0.4237 - acc: 0.8410 - val_loss: 1.3950 - val_acc: 0.6500\n",
      "Epoch 56/80\n",
      "10/10 [==============================] - 9s 857ms/step - loss: 0.2795 - acc: 0.9225 - val_loss: 2.4373 - val_acc: 0.4000\n",
      "Epoch 57/80\n",
      "10/10 [==============================] - 8s 848ms/step - loss: 0.1906 - acc: 0.9575 - val_loss: 2.3585 - val_acc: 0.6333\n",
      "Epoch 58/80\n",
      "10/10 [==============================] - 7s 731ms/step - loss: 0.4835 - acc: 0.8364 - val_loss: 1.4582 - val_acc: 0.5833\n",
      "Epoch 59/80\n",
      "10/10 [==============================] - 9s 884ms/step - loss: 0.3121 - acc: 0.9433 - val_loss: 2.1289 - val_acc: 0.4167\n",
      "Epoch 60/80\n",
      "10/10 [==============================] - 8s 795ms/step - loss: 0.1787 - acc: 0.9530 - val_loss: 2.6233 - val_acc: 0.5167\n",
      "Epoch 61/80\n",
      "10/10 [==============================] - 8s 789ms/step - loss: 0.2190 - acc: 0.9368 - val_loss: 2.4022 - val_acc: 0.6500\n",
      "Epoch 62/80\n"
     ]
    },
    {
     "name": "stdout",
     "output_type": "stream",
     "text": [
      "10/10 [==============================] - 9s 934ms/step - loss: 0.1970 - acc: 0.9404 - val_loss: 2.5624 - val_acc: 0.4833\n",
      "Epoch 63/80\n",
      "10/10 [==============================] - 9s 850ms/step - loss: 0.1448 - acc: 0.9540 - val_loss: 2.2340 - val_acc: 0.6167\n",
      "Epoch 64/80\n",
      "10/10 [==============================] - 8s 834ms/step - loss: 0.1331 - acc: 0.9575 - val_loss: 2.5279 - val_acc: 0.6500\n",
      "Epoch 65/80\n",
      "10/10 [==============================] - 8s 833ms/step - loss: 0.1834 - acc: 0.9431 - val_loss: 3.0525 - val_acc: 0.6667\n",
      "Epoch 66/80\n",
      "10/10 [==============================] - 8s 823ms/step - loss: 0.1318 - acc: 0.9591 - val_loss: 2.9691 - val_acc: 0.6667\n",
      "Epoch 67/80\n",
      "10/10 [==============================] - 7s 740ms/step - loss: 0.0733 - acc: 0.9811 - val_loss: 3.3876 - val_acc: 0.6167\n",
      "Epoch 68/80\n",
      "10/10 [==============================] - 9s 877ms/step - loss: 0.0817 - acc: 0.9749 - val_loss: 2.7937 - val_acc: 0.6500\n",
      "Epoch 69/80\n",
      "10/10 [==============================] - 8s 833ms/step - loss: 0.0691 - acc: 0.9874 - val_loss: 3.5021 - val_acc: 0.6500\n",
      "Epoch 70/80\n",
      "10/10 [==============================] - 8s 774ms/step - loss: 0.0818 - acc: 0.9780 - val_loss: 3.3267 - val_acc: 0.6333\n",
      "Epoch 71/80\n",
      "10/10 [==============================] - 9s 869ms/step - loss: 0.0717 - acc: 0.9762 - val_loss: 3.1125 - val_acc: 0.6667\n",
      "Epoch 72/80\n",
      "10/10 [==============================] - 8s 825ms/step - loss: 0.0642 - acc: 0.9875 - val_loss: 3.2198 - val_acc: 0.6667\n",
      "Epoch 73/80\n",
      "10/10 [==============================] - 9s 878ms/step - loss: 0.0570 - acc: 0.9843 - val_loss: 2.8353 - val_acc: 0.6667\n",
      "Epoch 74/80\n",
      "10/10 [==============================] - 9s 910ms/step - loss: 0.0651 - acc: 0.9888 - val_loss: 3.6643 - val_acc: 0.6500\n",
      "Epoch 75/80\n",
      "10/10 [==============================] - 9s 860ms/step - loss: 0.0426 - acc: 0.9920 - val_loss: 3.5853 - val_acc: 0.5833\n",
      "Epoch 76/80\n",
      "10/10 [==============================] - 9s 869ms/step - loss: 0.1068 - acc: 0.9638 - val_loss: 3.1814 - val_acc: 0.6500\n",
      "Epoch 77/80\n",
      "10/10 [==============================] - 9s 903ms/step - loss: 0.0479 - acc: 0.9969 - val_loss: 3.4567 - val_acc: 0.6500\n",
      "Epoch 78/80\n",
      "10/10 [==============================] - 8s 827ms/step - loss: 0.0293 - acc: 0.9969 - val_loss: 3.5812 - val_acc: 0.6667\n",
      "Epoch 79/80\n",
      "10/10 [==============================] - 8s 827ms/step - loss: 0.0350 - acc: 0.9906 - val_loss: 3.4868 - val_acc: 0.6500\n",
      "Epoch 80/80\n",
      "10/10 [==============================] - 9s 892ms/step - loss: 0.0458 - acc: 0.9874 - val_loss: 3.3307 - val_acc: 0.5833\n"
     ]
    }
   ],
   "source": [
    "hist3 = model3.fit_generator(\n",
    "        train_generator,\n",
    "        steps_per_epoch=10, #20개 이미지를 300번 학습시키는 것이 1 epoch로 정의.\n",
    "        epochs=80,\n",
    "        validation_data=val_generator,\n",
    "        validation_steps=25)#,\n",
    "        #callbacks=[early, reduce])"
   ]
  },
  {
   "cell_type": "code",
   "execution_count": 14,
   "metadata": {},
   "outputs": [
    {
     "name": "stdout",
     "output_type": "stream",
     "text": [
      "Epoch 1/80\n",
      "10/10 [==============================] - 10s 965ms/step - loss: 1.0982 - acc: 0.3738 - val_loss: 1.0987 - val_acc: 0.3333\n",
      "Epoch 2/80\n",
      "10/10 [==============================] - 9s 948ms/step - loss: 1.0961 - acc: 0.4515 - val_loss: 1.0985 - val_acc: 0.3333\n",
      "Epoch 3/80\n",
      "10/10 [==============================] - 9s 940ms/step - loss: 1.0969 - acc: 0.4113 - val_loss: 1.0982 - val_acc: 0.3333\n",
      "Epoch 4/80\n",
      "10/10 [==============================] - 9s 913ms/step - loss: 1.0959 - acc: 0.4145 - val_loss: 1.0979 - val_acc: 0.3333\n",
      "Epoch 5/80\n",
      "10/10 [==============================] - 9s 890ms/step - loss: 1.0949 - acc: 0.4399 - val_loss: 1.0975 - val_acc: 0.3333\n",
      "Epoch 6/80\n",
      "10/10 [==============================] - 9s 862ms/step - loss: 1.0920 - acc: 0.5252 - val_loss: 1.0971 - val_acc: 0.3333\n",
      "Epoch 7/80\n",
      "10/10 [==============================] - 9s 905ms/step - loss: 1.0916 - acc: 0.5034 - val_loss: 1.0966 - val_acc: 0.3333\n",
      "Epoch 8/80\n",
      "10/10 [==============================] - 9s 879ms/step - loss: 1.0896 - acc: 0.4889 - val_loss: 1.0956 - val_acc: 0.3333\n",
      "Epoch 9/80\n",
      "10/10 [==============================] - 9s 889ms/step - loss: 1.0871 - acc: 0.5286 - val_loss: 1.0943 - val_acc: 0.3333\n",
      "Epoch 10/80\n",
      "10/10 [==============================] - 10s 987ms/step - loss: 1.0852 - acc: 0.5014 - val_loss: 1.0943 - val_acc: 0.3333\n",
      "Epoch 11/80\n",
      "10/10 [==============================] - 9s 949ms/step - loss: 1.0837 - acc: 0.4949 - val_loss: 1.0921 - val_acc: 0.3500\n",
      "Epoch 12/80\n",
      "10/10 [==============================] - 9s 908ms/step - loss: 1.0804 - acc: 0.5667 - val_loss: 1.0912 - val_acc: 0.3333\n",
      "Epoch 13/80\n",
      "10/10 [==============================] - 9s 909ms/step - loss: 1.0769 - acc: 0.5397 - val_loss: 1.0903 - val_acc: 0.3333\n",
      "Epoch 14/80\n",
      "10/10 [==============================] - 10s 967ms/step - loss: 1.0691 - acc: 0.5693 - val_loss: 1.0870 - val_acc: 0.3333\n",
      "Epoch 15/80\n",
      "10/10 [==============================] - 9s 910ms/step - loss: 1.0558 - acc: 0.5881 - val_loss: 1.0829 - val_acc: 0.3333\n",
      "Epoch 16/80\n",
      "10/10 [==============================] - 8s 797ms/step - loss: 1.0367 - acc: 0.5767 - val_loss: 1.0845 - val_acc: 0.3333\n",
      "Epoch 17/80\n",
      "10/10 [==============================] - 9s 892ms/step - loss: 1.0224 - acc: 0.5226 - val_loss: 1.0718 - val_acc: 0.3333\n",
      "Epoch 18/80\n",
      "10/10 [==============================] - 9s 881ms/step - loss: 0.9691 - acc: 0.5502 - val_loss: 1.0898 - val_acc: 0.3500\n",
      "Epoch 19/80\n",
      "10/10 [==============================] - 9s 932ms/step - loss: 0.9190 - acc: 0.5660 - val_loss: 1.1355 - val_acc: 0.3500\n",
      "Epoch 20/80\n",
      "10/10 [==============================] - 10s 986ms/step - loss: 0.9253 - acc: 0.5408 - val_loss: 1.0397 - val_acc: 0.3667\n",
      "Epoch 21/80\n",
      "10/10 [==============================] - 9s 875ms/step - loss: 0.8463 - acc: 0.6170 - val_loss: 1.0702 - val_acc: 0.4333\n",
      "Epoch 22/80\n",
      "10/10 [==============================] - 9s 880ms/step - loss: 0.8172 - acc: 0.6064 - val_loss: 1.2154 - val_acc: 0.3500\n",
      "Epoch 23/80\n",
      "10/10 [==============================] - 9s 855ms/step - loss: 0.7917 - acc: 0.6089 - val_loss: 1.5644 - val_acc: 0.3333\n",
      "Epoch 24/80\n",
      "10/10 [==============================] - 8s 839ms/step - loss: 0.8091 - acc: 0.6281 - val_loss: 1.3933 - val_acc: 0.3333\n",
      "Epoch 25/80\n",
      "10/10 [==============================] - 10s 952ms/step - loss: 0.7563 - acc: 0.6456 - val_loss: 1.2173 - val_acc: 0.3500\n",
      "Epoch 26/80\n",
      "10/10 [==============================] - 8s 845ms/step - loss: 0.7600 - acc: 0.6793 - val_loss: 1.7500 - val_acc: 0.3333\n",
      "Epoch 27/80\n",
      "10/10 [==============================] - 10s 958ms/step - loss: 0.7212 - acc: 0.6779 - val_loss: 1.3106 - val_acc: 0.3833\n",
      "Epoch 28/80\n",
      "10/10 [==============================] - 9s 875ms/step - loss: 0.7286 - acc: 0.6756 - val_loss: 0.8276 - val_acc: 0.6333\n",
      "Epoch 29/80\n",
      "10/10 [==============================] - 9s 885ms/step - loss: 0.6709 - acc: 0.7177 - val_loss: 1.3549 - val_acc: 0.6167\n",
      "Epoch 30/80\n",
      "10/10 [==============================] - 9s 903ms/step - loss: 0.7019 - acc: 0.7277 - val_loss: 1.3102 - val_acc: 0.4167\n",
      "Epoch 31/80\n",
      "10/10 [==============================] - 9s 866ms/step - loss: 0.6917 - acc: 0.7568 - val_loss: 1.3978 - val_acc: 0.3833\n",
      "Epoch 32/80\n",
      "10/10 [==============================] - 8s 843ms/step - loss: 0.5978 - acc: 0.7594 - val_loss: 1.5798 - val_acc: 0.3500\n",
      "Epoch 33/80\n",
      "10/10 [==============================] - 8s 835ms/step - loss: 0.6415 - acc: 0.7500 - val_loss: 0.9101 - val_acc: 0.6333\n",
      "Epoch 34/80\n",
      "10/10 [==============================] - 8s 844ms/step - loss: 0.5961 - acc: 0.8006 - val_loss: 1.3900 - val_acc: 0.4167\n",
      "Epoch 35/80\n",
      "10/10 [==============================] - 9s 865ms/step - loss: 0.5223 - acc: 0.8352 - val_loss: 0.9117 - val_acc: 0.6167\n",
      "Epoch 36/80\n",
      "10/10 [==============================] - 9s 887ms/step - loss: 0.5390 - acc: 0.7863 - val_loss: 1.3203 - val_acc: 0.3833\n",
      "Epoch 37/80\n",
      "10/10 [==============================] - 8s 847ms/step - loss: 0.4238 - acc: 0.8617 - val_loss: 1.1839 - val_acc: 0.4167\n",
      "Epoch 38/80\n",
      "10/10 [==============================] - 9s 880ms/step - loss: 0.4804 - acc: 0.8067 - val_loss: 1.3568 - val_acc: 0.3833\n",
      "Epoch 39/80\n",
      "10/10 [==============================] - 9s 866ms/step - loss: 0.3497 - acc: 0.8764 - val_loss: 1.5566 - val_acc: 0.4167\n",
      "Epoch 40/80\n",
      "10/10 [==============================] - 8s 826ms/step - loss: 0.3429 - acc: 0.8711 - val_loss: 2.1823 - val_acc: 0.3333\n",
      "Epoch 41/80\n",
      "10/10 [==============================] - 9s 906ms/step - loss: 0.3875 - acc: 0.8658 - val_loss: 1.4333 - val_acc: 0.3833\n",
      "Epoch 42/80\n",
      "10/10 [==============================] - 8s 820ms/step - loss: 0.4969 - acc: 0.8379 - val_loss: 0.9568 - val_acc: 0.4667\n",
      "Epoch 43/80\n",
      "10/10 [==============================] - 9s 895ms/step - loss: 0.2850 - acc: 0.9116 - val_loss: 1.8760 - val_acc: 0.4000\n",
      "Epoch 44/80\n",
      "10/10 [==============================] - 9s 901ms/step - loss: 0.1966 - acc: 0.9310 - val_loss: 2.2056 - val_acc: 0.3833\n",
      "Epoch 45/80\n",
      "10/10 [==============================] - 9s 887ms/step - loss: 0.2067 - acc: 0.9242 - val_loss: 1.9255 - val_acc: 0.3833\n",
      "Epoch 46/80\n",
      "10/10 [==============================] - 9s 921ms/step - loss: 0.1331 - acc: 0.9637 - val_loss: 1.5938 - val_acc: 0.5167\n",
      "Epoch 47/80\n",
      "10/10 [==============================] - 9s 901ms/step - loss: 0.1905 - acc: 0.9230 - val_loss: 3.1138 - val_acc: 0.4167\n",
      "Epoch 48/80\n",
      "10/10 [==============================] - 9s 884ms/step - loss: 0.1927 - acc: 0.9319 - val_loss: 2.2559 - val_acc: 0.3667\n",
      "Epoch 49/80\n",
      "10/10 [==============================] - 9s 938ms/step - loss: 0.1171 - acc: 0.9669 - val_loss: 3.1024 - val_acc: 0.3667\n",
      "Epoch 50/80\n",
      "10/10 [==============================] - 9s 910ms/step - loss: 0.0989 - acc: 0.9635 - val_loss: 2.4312 - val_acc: 0.4167\n",
      "Epoch 51/80\n",
      "10/10 [==============================] - 8s 850ms/step - loss: 0.0884 - acc: 0.9624 - val_loss: 2.2617 - val_acc: 0.4167\n",
      "Epoch 52/80\n",
      "10/10 [==============================] - 9s 866ms/step - loss: 0.0629 - acc: 0.9874 - val_loss: 2.7339 - val_acc: 0.4167\n",
      "Epoch 53/80\n",
      "10/10 [==============================] - 9s 895ms/step - loss: 0.0911 - acc: 0.9624 - val_loss: 2.0217 - val_acc: 0.6167\n",
      "Epoch 54/80\n",
      "10/10 [==============================] - 9s 897ms/step - loss: 0.0848 - acc: 0.9700 - val_loss: 2.1120 - val_acc: 0.6500\n",
      "Epoch 55/80\n",
      "10/10 [==============================] - 9s 885ms/step - loss: 0.0966 - acc: 0.9668 - val_loss: 2.2874 - val_acc: 0.6000\n",
      "Epoch 56/80\n",
      "10/10 [==============================] - 8s 847ms/step - loss: 0.0531 - acc: 0.9826 - val_loss: 2.8220 - val_acc: 0.4167\n",
      "Epoch 57/80\n",
      "10/10 [==============================] - 9s 913ms/step - loss: 0.0379 - acc: 0.9906 - val_loss: 2.8239 - val_acc: 0.5500\n",
      "Epoch 58/80\n",
      "10/10 [==============================] - 10s 1s/step - loss: 0.0414 - acc: 0.9874 - val_loss: 2.6786 - val_acc: 0.5500\n",
      "Epoch 59/80\n",
      "10/10 [==============================] - 9s 897ms/step - loss: 0.0349 - acc: 0.9875 - val_loss: 2.7668 - val_acc: 0.5167\n",
      "Epoch 60/80\n",
      "10/10 [==============================] - 9s 876ms/step - loss: 0.0433 - acc: 0.9843 - val_loss: 3.0313 - val_acc: 0.4167\n",
      "Epoch 61/80\n",
      "10/10 [==============================] - 9s 932ms/step - loss: 0.0259 - acc: 0.9937 - val_loss: 2.9683 - val_acc: 0.5000\n",
      "Epoch 62/80\n"
     ]
    },
    {
     "name": "stdout",
     "output_type": "stream",
     "text": [
      "10/10 [==============================] - 9s 854ms/step - loss: 0.0503 - acc: 0.9749 - val_loss: 3.3759 - val_acc: 0.4333\n",
      "Epoch 63/80\n",
      "10/10 [==============================] - 9s 901ms/step - loss: 0.0291 - acc: 0.9906 - val_loss: 3.7358 - val_acc: 0.4167\n",
      "Epoch 64/80\n",
      "10/10 [==============================] - 10s 967ms/step - loss: 0.0201 - acc: 0.9937 - val_loss: 3.7037 - val_acc: 0.4167\n",
      "Epoch 65/80\n",
      "10/10 [==============================] - 9s 888ms/step - loss: 0.0437 - acc: 0.9780 - val_loss: 4.2390 - val_acc: 0.3833\n",
      "Epoch 66/80\n",
      "10/10 [==============================] - 9s 875ms/step - loss: 0.0241 - acc: 0.9937 - val_loss: 3.0498 - val_acc: 0.5500\n",
      "Epoch 67/80\n",
      "10/10 [==============================] - 9s 860ms/step - loss: 0.0354 - acc: 0.9780 - val_loss: 3.3535 - val_acc: 0.4333\n",
      "Epoch 68/80\n",
      "10/10 [==============================] - 9s 944ms/step - loss: 0.0233 - acc: 0.9906 - val_loss: 3.2653 - val_acc: 0.5500\n",
      "Epoch 69/80\n",
      "10/10 [==============================] - 8s 836ms/step - loss: 0.0463 - acc: 0.9857 - val_loss: 2.2831 - val_acc: 0.6333\n",
      "Epoch 70/80\n",
      "10/10 [==============================] - 9s 865ms/step - loss: 0.0278 - acc: 0.9937 - val_loss: 3.0656 - val_acc: 0.5167\n",
      "Epoch 71/80\n",
      "10/10 [==============================] - 9s 852ms/step - loss: 0.0311 - acc: 0.9905 - val_loss: 3.4429 - val_acc: 0.5167\n",
      "Epoch 72/80\n",
      "10/10 [==============================] - 9s 894ms/step - loss: 0.0283 - acc: 0.9906 - val_loss: 2.7888 - val_acc: 0.6000\n",
      "Epoch 73/80\n",
      "10/10 [==============================] - 9s 871ms/step - loss: 0.0251 - acc: 0.9906 - val_loss: 3.4675 - val_acc: 0.4333\n",
      "Epoch 74/80\n",
      "10/10 [==============================] - 10s 956ms/step - loss: 0.0218 - acc: 0.9920 - val_loss: 2.7825 - val_acc: 0.6167\n",
      "Epoch 75/80\n",
      "10/10 [==============================] - 9s 902ms/step - loss: 0.0120 - acc: 1.0000 - val_loss: 2.9648 - val_acc: 0.5167\n",
      "Epoch 76/80\n",
      "10/10 [==============================] - 9s 895ms/step - loss: 0.0048 - acc: 1.0000 - val_loss: 3.1095 - val_acc: 0.5167\n",
      "Epoch 77/80\n",
      "10/10 [==============================] - 9s 915ms/step - loss: 0.0130 - acc: 0.9937 - val_loss: 3.2299 - val_acc: 0.5333\n",
      "Epoch 78/80\n",
      "10/10 [==============================] - 9s 885ms/step - loss: 0.0143 - acc: 0.9969 - val_loss: 3.2895 - val_acc: 0.6000\n",
      "Epoch 79/80\n",
      "10/10 [==============================] - 9s 880ms/step - loss: 0.0088 - acc: 1.0000 - val_loss: 3.6407 - val_acc: 0.6000\n",
      "Epoch 80/80\n",
      "10/10 [==============================] - 9s 882ms/step - loss: 0.0071 - acc: 1.0000 - val_loss: 3.7144 - val_acc: 0.5333\n"
     ]
    }
   ],
   "source": [
    "hist4 = model4.fit_generator(\n",
    "        train_generator,\n",
    "        steps_per_epoch=10, #20개 이미지를 300번 학습시키는 것이 1 epoch로 정의.\n",
    "        epochs=80,\n",
    "        validation_data=val_generator,\n",
    "        validation_steps=25)#,\n",
    "        #callbacks=[early, reduce])"
   ]
  },
  {
   "cell_type": "code",
   "execution_count": 15,
   "metadata": {
    "collapsed": true
   },
   "outputs": [],
   "source": [
    "model1.save('tobigs_CNN1_high_v2.h5')\n",
    "model2.save('tobigs_CNN2_high_v2.h5')\n",
    "model3.save('tobigs_CNN3_high_v2.h5')\n",
    "model4.save('tobigs_CNN4_high_v2.h5')"
   ]
  },
  {
   "cell_type": "code",
   "execution_count": 16,
   "metadata": {
    "collapsed": true
   },
   "outputs": [],
   "source": [
    "model1 = load_model('tobigs_CNN1_high_v2.h5')\n",
    "model2 = load_model('tobigs_CNN2_high_v2.h5')\n",
    "model3 = load_model('tobigs_CNN3_high_v2.h5')\n",
    "model4 = load_model('tobigs_CNN4_high_v2.h5')"
   ]
  },
  {
   "cell_type": "code",
   "execution_count": 17,
   "metadata": {
    "collapsed": true
   },
   "outputs": [],
   "source": [
    "def loss_and_acc_plot(hist):\n",
    "    fig, loss_ax = plt.subplots()\n",
    "\n",
    "    acc_ax = loss_ax.twinx()\n",
    "\n",
    "    loss_ax.plot(hist.history['loss'], 'y', label='train loss')\n",
    "    loss_ax.plot(hist.history['val_loss'], 'r', label='val loss')\n",
    "\n",
    "    acc_ax.plot(hist.history['acc'], 'b', label='train acc')\n",
    "    acc_ax.plot(hist.history['val_acc'], 'g', label='val acc')\n",
    "\n",
    "    loss_ax.set_xlabel('epoch')\n",
    "    loss_ax.set_ylabel('loss')\n",
    "    acc_ax.set_ylabel('accuray')\n",
    "\n",
    "    loss_ax.legend(loc='upper left')\n",
    "    acc_ax.legend(loc='lower left')\n",
    "\n",
    "    return plt.show()"
   ]
  },
  {
   "cell_type": "code",
   "execution_count": 18,
   "metadata": {},
   "outputs": [
    {
     "data": {
      "image/png": "[encoded data removed]",
      "text/plain": [
       "<matplotlib.figure.Figure at 0x2832bb5cdd8>"
      ]
     },
     "metadata": {},
     "output_type": "display_data"
    }
   ],
   "source": [
    "loss_and_acc_plot(hist)"
   ]
  },
  {
   "cell_type": "code",
   "execution_count": 19,
   "metadata": {},
   "outputs": [
    {
     "data": {
      "image/png": "[encoded data removed]",
      "text/plain": [
       "<matplotlib.figure.Figure at 0x2832001ceb8>"
      ]
     },
     "metadata": {},
     "output_type": "display_data"
    }
   ],
   "source": [
    "loss_and_acc_plot(hist2)"
   ]
  },
  {
   "cell_type": "code",
   "execution_count": 20,
   "metadata": {},
   "outputs": [
    {
     "data": {
      "image/png": "[encoded data removed]",
      "text/plain": [
       "<matplotlib.figure.Figure at 0x2832bbc3358>"
      ]
     },
     "metadata": {},
     "output_type": "display_data"
    }
   ],
   "source": [
    "loss_and_acc_plot(hist3)"
   ]
  },
  {
   "cell_type": "code",
   "execution_count": 21,
   "metadata": {},
   "outputs": [
    {
     "data": {
      "image/png": "[encoded data removed]",
      "text/plain": [
       "<matplotlib.figure.Figure at 0x2832be30080>"
      ]
     },
     "metadata": {},
     "output_type": "display_data"
    }
   ],
   "source": [
    "loss_and_acc_plot(hist4)"
   ]
  },
  {
   "cell_type": "code",
   "execution_count": 22,
   "metadata": {},
   "outputs": [
    {
     "name": "stdout",
     "output_type": "stream",
     "text": [
      "-- Evaluate --\n",
      "model1 acc: 56.67%\n",
      "-- Evaluate --\n",
      "model2 acc: 45.00%\n",
      "-- Evaluate --\n",
      "model3 acc: 58.33%\n",
      "-- Evaluate --\n",
      "model1 acc: 56.67%\n"
     ]
    }
   ],
   "source": [
    "print(\"-- Evaluate --\")\n",
    "scores1 = model1.evaluate_generator(val_generator, steps=10)\n",
    "print(\"model1 %s: %.2f%%\" %(model1.metrics_names[1], scores1[1]*100))\n",
    "\n",
    "print(\"-- Evaluate --\")\n",
    "scores2 = model2.evaluate_generator(val_generator, steps=10)\n",
    "print(\"model2 %s: %.2f%%\" %(model2.metrics_names[1], scores2[1]*100))\n",
    "\n",
    "print(\"-- Evaluate --\")\n",
    "scores3 = model3.evaluate_generator(val_generator, steps=10)\n",
    "print(\"model3 %s: %.2f%%\" %(model3.metrics_names[1], scores3[1]*100))\n",
    "\n",
    "print(\"-- Evaluate --\")\n",
    "scores4 = model4.evaluate_generator(val_generator, steps=10)\n",
    "print(\"model1 %s: %.2f%%\" %(model4.metrics_names[1], scores1[1]*100))\n",
    "\n",
    "acc1 = scores1[1]\n",
    "acc2 = scores2[1]\n",
    "acc3 = scores3[1]\n",
    "acc4 = scores4[1]"
   ]
  },
  {
   "cell_type": "code",
   "execution_count": 23,
   "metadata": {
    "collapsed": true
   },
   "outputs": [],
   "source": [
    "# ensemble(prob1,prob2,acc_list = [1,2] )\n",
    "def model_ensemble(*prob, acc_list):\n",
    "    prob_list = [p for p in prob]\n",
    "\n",
    "    idx_acc_list = {idx: acc for idx, acc in enumerate(acc_list)}\n",
    "    sorted_acc_list = [idx for idx, _ in sorted(idx_acc_list.items(),\n",
    "                                                key=lambda value: (value[1], value[0]), reverse=True)]\n",
    "    output = []\n",
    "    for i in sorted_acc_list:\n",
    "        temp = [x * (i + 1) for x in prob_list[i]]\n",
    "        output.append(temp)\n",
    "    final_prob = np.sum(output, axis=0)  # class갯수만큼 확률값 지금은 1*2\n",
    "\n",
    "    final_score = np.mean(np.equal(np.argmax(final_prob, axis=1), val_generator.classes))\n",
    "    print('Final val accuracy : %4f' % final_score)\n",
    "\n",
    "    return final_prob"
   ]
  },
  {
   "cell_type": "code",
   "execution_count": 24,
   "metadata": {
    "collapsed": true
   },
   "outputs": [],
   "source": [
    "prob1 = model1.predict_generator(val_generator, steps=1)\n",
    "prob2 = model2.predict_generator(val_generator, steps=1)\n",
    "prob3 = model3.predict_generator(val_generator, steps=1)\n",
    "prob4 = model4.predict_generator(val_generator, steps=1)"
   ]
  },
  {
   "cell_type": "code",
   "execution_count": 25,
   "metadata": {},
   "outputs": [
    {
     "name": "stdout",
     "output_type": "stream",
     "text": [
      "Final val accuracy : 0.550000\n"
     ]
    }
   ],
   "source": [
    "final_prob = model_ensemble(prob1,prob2,prob3,prob4, acc_list =[acc1,acc2,acc3,acc4] )\n",
    "val_label = val_generator.class_indices\n",
    "val_label_temp = list(val_label.keys())\n",
    "\n",
    "pred = [val_label_temp[np.argmax(x)] for x in final_prob ]"
   ]
  },
  {
   "cell_type": "code",
   "execution_count": 26,
   "metadata": {
    "collapsed": true
   },
   "outputs": [],
   "source": [
    "pred2 = [val_label_temp[np.argmax(x)] for x in prob3 ]"
   ]
  },
  {
   "cell_type": "code",
   "execution_count": 27,
   "metadata": {
    "collapsed": true
   },
   "outputs": [],
   "source": [
    "label = val_generator.class_indices\n",
    "label_temp = list(label.keys())\n",
    "\n",
    "actual = []\n",
    "for x in val_generator.index_array:\n",
    "    temp = val_generator.classes[x]\n",
    "    actual.append(label_temp[temp])"
   ]
  },
  {
   "cell_type": "code",
   "execution_count": 28,
   "metadata": {},
   "outputs": [
    {
     "data": {
      "text/plain": [
       "<matplotlib.axes._subplots.AxesSubplot at 0x2832c12f3c8>"
      ]
     },
     "execution_count": 28,
     "metadata": {},
     "output_type": "execute_result"
    },
    {
     "data": {
      "image/png": "[encoded data removed]",
      "text/plain": [
       "<matplotlib.figure.Figure at 0x2832c12f240>"
      ]
     },
     "metadata": {},
     "output_type": "display_data"
    }
   ],
   "source": [
    "from sklearn.metrics import confusion_matrix\n",
    "import seaborn as sn\n",
    "import pandas as pd\n",
    "\n",
    "confusion_mtx = confusion_matrix(actual, pred) #pred2 \n",
    "\n",
    "df_cm = pd.DataFrame(confusion_mtx, index = [i for i in label_temp],\n",
    "                  columns = [i for i in label_temp])\n",
    "plt.figure(figsize = (10,7))\n",
    "sn.heatmap(df_cm, annot=True)"
   ]
  },
  {
   "cell_type": "code",
   "execution_count": 29,
   "metadata": {},
   "outputs": [
    {
     "data": {
      "text/html": [
       "<div>\n",
       "<style>\n",
       "    .dataframe thead tr:only-child th {\n",
       "        text-align: right;\n",
       "    }\n",
       "\n",
       "    .dataframe thead th {\n",
       "        text-align: left;\n",
       "    }\n",
       "\n",
       "    .dataframe tbody tr th {\n",
       "        vertical-align: top;\n",
       "    }\n",
       "</style>\n",
       "<table border=\"1\" class=\"dataframe\">\n",
       "  <thead>\n",
       "    <tr style=\"text-align: right;\">\n",
       "      <th></th>\n",
       "      <th>계단</th>\n",
       "      <th>과제</th>\n",
       "      <th>구름</th>\n",
       "    </tr>\n",
       "  </thead>\n",
       "  <tbody>\n",
       "    <tr>\n",
       "      <th>계단</th>\n",
       "      <td>13</td>\n",
       "      <td>7</td>\n",
       "      <td>0</td>\n",
       "    </tr>\n",
       "    <tr>\n",
       "      <th>과제</th>\n",
       "      <td>0</td>\n",
       "      <td>20</td>\n",
       "      <td>0</td>\n",
       "    </tr>\n",
       "    <tr>\n",
       "      <th>구름</th>\n",
       "      <td>3</td>\n",
       "      <td>17</td>\n",
       "      <td>0</td>\n",
       "    </tr>\n",
       "  </tbody>\n",
       "</table>\n",
       "</div>"
      ],
      "text/plain": [
       "    계단  과제  구름\n",
       "계단  13   7   0\n",
       "과제   0  20   0\n",
       "구름   3  17   0"
      ]
     },
     "execution_count": 29,
     "metadata": {},
     "output_type": "execute_result"
    }
   ],
   "source": [
    "df_cm "
   ]
  }
 ],
 "metadata": {
  "kernelspec": {
   "display_name": "Python 3",
   "language": "python",
   "name": "python3"
  },
  "language_info": {
   "codemirror_mode": {
    "name": "ipython",
    "version": 3
   },
   "file_extension": ".py",
   "mimetype": "text/x-python",
   "name": "python",
   "nbconvert_exporter": "python",
   "pygments_lexer": "ipython3",
   "version": "3.6.3"
  }
 },
 "nbformat": 4,
 "nbformat_minor": 2
}
