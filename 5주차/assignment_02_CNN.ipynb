{
 "cells": [
  {
   "cell_type": "code",
   "execution_count": null,
   "metadata": {
    "collapsed": true
   },
   "outputs": [],
   "source": [
    "import numpy as np\n",
    "from scipy.misc import imread, imresize\n",
    "import matplotlib.pyplot as plt"
   ]
  },
  {
   "cell_type": "code",
   "execution_count": null,
   "metadata": {
    "collapsed": false
   },
   "outputs": [],
   "source": [
    "# 에러 발생 시 : 지금 이 주피터 노트북 directory와 같은 곳에 A.jpg가 있어야 합니다!\n",
    "my_img = imread('A.jpg')"
   ]
  },
  {
   "cell_type": "code",
   "execution_count": null,
   "metadata": {
    "collapsed": false
   },
   "outputs": [],
   "source": [
    "plt.imshow(my_img)\n",
    "plt.show()"
   ]
  },
  {
   "cell_type": "markdown",
   "metadata": {},
   "source": [
    "#### 이미지를 보면 아래와 같이 integer로 이루어진 matrix입니다."
   ]
  },
  {
   "cell_type": "code",
   "execution_count": null,
   "metadata": {
    "collapsed": false
   },
   "outputs": [],
   "source": [
    "my_img"
   ]
  },
  {
   "cell_type": "markdown",
   "metadata": {},
   "source": [
    "Matrix의 shape을 보면 (Height, Width, Depth(RGB Channel))로 나오는 것을 확인할 수 있습니다."
   ]
  },
  {
   "cell_type": "code",
   "execution_count": null,
   "metadata": {
    "collapsed": false
   },
   "outputs": [],
   "source": [
    "my_img.shape"
   ]
  },
  {
   "cell_type": "markdown",
   "metadata": {},
   "source": [
    "### CNN 설명 PDF에서 MOTIVATION부분 뒤에 있는 CNN 연산 부분을 꼭 직접 복습하세요. <br> 하셨다면 아래 5문제는 금방 풀 수 있습니다 ㅎㅎ"
   ]
  },
  {
   "cell_type": "markdown",
   "metadata": {},
   "source": [
    "#### Q. 이번 문제는 위에서 불러온 my_img파일에 여러 CNN 연산을 했을 때, OUTPUT ACTIVATION MAP의 shape을 쓰는 것입니다. 항상 input은 위의 (720, 1280, 3)모양의 my_img입니다."
   ]
  },
  {
   "cell_type": "markdown",
   "metadata": {},
   "source": [
    "Q1. input에 3 x 3 convolution filter 6개를 돌렸을 때  (stride=1, padding적용 x) Activation Map의 dimension은? 그리고 이때 filter 6개들의 depth는 몇 일까요?"
   ]
  },
  {
   "cell_type": "markdown",
   "metadata": {},
   "source": [
    "ANS : "
   ]
  },
  {
   "cell_type": "markdown",
   "metadata": {},
   "source": [
    "Q2. input에 3x3 convolution filter 10개를 돌렸을 때 (stride=1, padding 적용 O) Activatiom Map의 dimension은? 그리고 이때 학습하는 총 weight의 갯수는?(bias제외)"
   ]
  },
  {
   "cell_type": "markdown",
   "metadata": {},
   "source": [
    "ANS : "
   ]
  },
  {
   "cell_type": "markdown",
   "metadata": {},
   "source": [
    "Q3. Q2의 결과인 activation map에 1x1 convolution filter 5개를 돌렸을 때 (stride=1, padding 적용 X) Activation Map의 dimension은? 이때 1x1 convolution filter들의 depth는 몇 일까요?"
   ]
  },
  {
   "cell_type": "markdown",
   "metadata": {},
   "source": [
    "ANS : "
   ]
  },
  {
   "cell_type": "markdown",
   "metadata": {},
   "source": [
    "Q4. Q2의 결과인 activation map에 2x2 max pooling을 적용할 때(stride=2) Activation Map의 dimension은?"
   ]
  },
  {
   "cell_type": "markdown",
   "metadata": {},
   "source": [
    "ANS : "
   ]
  },
  {
   "cell_type": "markdown",
   "metadata": {},
   "source": [
    "Q5. Q3와 Q4에서 각각의 결과 activation map을 구하셨는데요. 그럼 두 activation map을 비교했을 때, Q3과 Q4 중 어떤 activation map이 더 많은 숫자를 갖고 있나요?"
   ]
  },
  {
   "cell_type": "markdown",
   "metadata": {},
   "source": [
    "ANS : "
   ]
  }
 ],
 "metadata": {
  "anaconda-cloud": {},
  "kernelspec": {
   "display_name": "Python [conda root]",
   "language": "python",
   "name": "conda-root-py"
  },
  "language_info": {
   "codemirror_mode": {
    "name": "ipython",
    "version": 3
   },
   "file_extension": ".py",
   "mimetype": "text/x-python",
   "name": "python",
   "nbconvert_exporter": "python",
   "pygments_lexer": "ipython3",
   "version": "3.5.4"
  }
 },
 "nbformat": 4,
 "nbformat_minor": 1
}
