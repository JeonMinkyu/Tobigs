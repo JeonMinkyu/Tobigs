{
 "cells": [
  {
   "cell_type": "markdown",
   "metadata": {},
   "source": [
    "### 이번 assignment를 통해서 RNN을 같이 이해해 봅시다! <br><br> 예시에 사용 될 task는 수업 때 했던 것 처럼 you can do it   /  can you do it   에 뒤에 오는 부분을 예측하는 것입니다."
   ]
  },
  {
   "cell_type": "code",
   "execution_count": null,
   "metadata": {
    "collapsed": true
   },
   "outputs": [],
   "source": [
    "x1 = 'you can do it'\n",
    "y1 = '!'"
   ]
  },
  {
   "cell_type": "code",
   "execution_count": null,
   "metadata": {
    "collapsed": false
   },
   "outputs": [],
   "source": [
    "x2 = 'can you do it'\n",
    "y2 = '?'"
   ]
  },
  {
   "cell_type": "code",
   "execution_count": null,
   "metadata": {
    "collapsed": false
   },
   "outputs": [],
   "source": [
    "print(x1)\n",
    "print(x2)\n",
    "print(y1)\n",
    "print(y2)"
   ]
  },
  {
   "cell_type": "markdown",
   "metadata": {},
   "source": [
    "#### 데이터를 변환하겠습니다!"
   ]
  },
  {
   "cell_type": "code",
   "execution_count": null,
   "metadata": {
    "collapsed": true
   },
   "outputs": [],
   "source": [
    "x1 = [['you'], ['can'], ['do'], ['it']]\n",
    "y1 = [['!']]\n",
    "x2 = [['can'], ['you'], ['do'], ['it']]\n",
    "y2 = [['?']]"
   ]
  },
  {
   "cell_type": "code",
   "execution_count": null,
   "metadata": {
    "collapsed": false
   },
   "outputs": [],
   "source": [
    "print(x1)\n",
    "print(x2)\n",
    "print(y1)\n",
    "print(y2)"
   ]
  },
  {
   "cell_type": "markdown",
   "metadata": {},
   "source": [
    "#### One-hot vector 형태로 다시 바꾸겠습니다. 이때 index 순서는 알파벳 순서로 [can, do, it, you, !, ?]입니다."
   ]
  },
  {
   "cell_type": "code",
   "execution_count": null,
   "metadata": {
    "collapsed": true
   },
   "outputs": [],
   "source": [
    "import numpy as np\n",
    "np.random.seed(77)\n",
    "x1 = np.array([[0, 0, 0, 1, 0, 0], [1, 0, 0, 0, 0, 0], [0, 1, 0, 0, 0, 0], [0, 0, 1, 0, 0, 0]])\n",
    "y1 = np.array([[0, 0, 0, 0, 1, 0]])\n",
    "x2 = np.array([[1, 0, 0, 0, 0, 0], [0, 0, 0, 1, 0, 0], [0, 1, 0, 0, 0, 0], [0, 0, 1, 0, 0, 0]])\n",
    "y2 = np.array([[0, 0, 0, 0, 0, 1]])"
   ]
  },
  {
   "cell_type": "code",
   "execution_count": null,
   "metadata": {
    "collapsed": false
   },
   "outputs": [],
   "source": [
    "print(x1)\n",
    "print(x2)\n",
    "print(y1)\n",
    "print(y2)"
   ]
  },
  {
   "cell_type": "markdown",
   "metadata": {},
   "source": [
    "수업때 썼던 04-RNN.pdf와 함께 진행해주세요. <br>\n",
    "저희는 7페이지 모델을 하고 있는거에요. <br>\n",
    "즉 13페이지에 있는 many to one 모델입니다. <br>\n",
    "즉 각 시점 마다 단어 하나가 들어가고 마지막 단어인 'it'이 들어갔을 때 output이 '!'나 '?'로 나옵니다.<br>\n",
    "즉 t=1일때 'you'가 들어가고, t=2일때 'can'이 들어가고 이런식인거죠. <br>\n",
    "그러니까 저희 예제의 x1 x2 모두 sequence의 length는 4입니다. <br><br><br>\n",
    "21페이지를 보고 계속 진행하겠습니다. time step마다 사용하는 weight는 고정입니다. <br>\n",
    "이때 weight matrix는 h -> h 부분 하나, x -> h 부분 하나, h -> y 부분 하나로 총 3개의 weight matrix가 있습니다. <br> \n",
    "25페이지를 보시면 이해가 쉬울거에요! <br><br><br>\n",
    "그럼 계산을 해보겠습니다. <br> 이때 우리가 가지고 있는 데이터에서 각 timestep마다 input과 마지막의 output은 6차원짜리 vector입니다. EX) [0, 0, 0, 1, 0, 0] <br>\n",
    "그리고 hidden state의 차원도 지정을 해줘야 합니다. 여기서는 hidden state의 차원을 10으로 가정할게요!"
   ]
  },
  {
   "cell_type": "code",
   "execution_count": null,
   "metadata": {
    "collapsed": true
   },
   "outputs": [],
   "source": [
    "# weight 초기화를 해줍니다. 0.01은 무시하세요, 더 작게해주려고 붙인거 뿐입니다.\n",
    "import numpy as np\n",
    "W_xh = np.random.rand(10, 6)\n",
    "W_hh = np.random.rand(10, 10)\n",
    "W_hy = np.random.rand(10, 6)"
   ]
  },
  {
   "cell_type": "code",
   "execution_count": null,
   "metadata": {
    "collapsed": false
   },
   "outputs": [],
   "source": [
    "# 그리고 hidden state를 초기화 시키겠습니다.\n",
    "\n",
    "h0 = np.random.rand(1, 10)\n",
    "print(h0)"
   ]
  },
  {
   "cell_type": "code",
   "execution_count": null,
   "metadata": {
    "collapsed": false
   },
   "outputs": [],
   "source": [
    "def softmax(x):\n",
    "    temp = np.exp(x)\n",
    "    return temp / np.sum(temp)"
   ]
  },
  {
   "cell_type": "code",
   "execution_count": null,
   "metadata": {
    "collapsed": false,
    "scrolled": true
   },
   "outputs": [],
   "source": [
    "#x1의 t = 1 시점에서 h를 구합니다. 즉 x1의 입장에서 you가 먼저 들어가는거죠\n",
    "h1_a = np.dot(W_xh, x1[0])\n",
    "h1_b = np.dot(h0, W_hh)\n",
    "h1 = np.tanh(h1_a + h1_b)"
   ]
  },
  {
   "cell_type": "code",
   "execution_count": null,
   "metadata": {
    "collapsed": false
   },
   "outputs": [],
   "source": [
    "#h를 이용하여 y를 구합니다.\n",
    "y1 = softmax(np.dot(h1, W_hy))"
   ]
  },
  {
   "cell_type": "code",
   "execution_count": null,
   "metadata": {
    "collapsed": false
   },
   "outputs": [],
   "source": [
    "y1"
   ]
  },
  {
   "cell_type": "markdown",
   "metadata": {},
   "source": [
    "t = 1 시점에서 x1의 첫번째 sequential data인 you를 넣었을 때, prob1의 0번째 index의 확률이 가장 높습니다. 즉 you 다음에 can이 나온다는 말이겠죠? (하지만 우리는 마지막 단어가 들어갔을 때, 어떤 문자가 나오는지에만 관심이 있습니다. 즉 t=1시점에서 y를 구하는건 원래 없는 부분인데 그냥 한번 넣어본거에요. h만 구하고 마지막 부분에만 이렇게 y를 구해주시면 됩니다.)"
   ]
  },
  {
   "cell_type": "markdown",
   "metadata": {},
   "source": [
    "그럼 t=1때 loss를 cross-entropy loss로 구해봅니다."
   ]
  },
  {
   "cell_type": "code",
   "execution_count": null,
   "metadata": {
    "collapsed": false
   },
   "outputs": [],
   "source": [
    "loss1 = -np.log(y1[0][0])\n",
    "print(loss1)"
   ]
  },
  {
   "cell_type": "markdown",
   "metadata": {},
   "source": [
    "#### 짝짝짝 !! t=1시점에서 y를 계산하셨습니다. "
   ]
  },
  {
   "cell_type": "code",
   "execution_count": null,
   "metadata": {
    "collapsed": true
   },
   "outputs": [],
   "source": [
    "#x1의 t = 2 시점에서 h를 계산합니다.\n",
    "h2_a = np.dot(W_xh, x1[1])\n",
    "h2_b = np.dot(h1, W_hh)\n",
    "h2 = np.tanh(h2_a + h2_b)"
   ]
  },
  {
   "cell_type": "code",
   "execution_count": null,
   "metadata": {
    "collapsed": true
   },
   "outputs": [],
   "source": [
    "#x1의 t = 3 시점에서 h를 계산합니다.\n",
    "h3_a = np.dot(W_xh, x1[2])\n",
    "h3_b = np.dot(h2, W_hh)\n",
    "h3 = np.tanh(h3_a + h3_b)"
   ]
  },
  {
   "cell_type": "code",
   "execution_count": null,
   "metadata": {
    "collapsed": true
   },
   "outputs": [],
   "source": [
    "#x1의 t = 4 시점에서 h를 계산합니다.\n",
    "h4_a = np.dot(W_xh, x1[3])\n",
    "h4_b = np.dot(h3, W_hh)\n",
    "h4 = np.tanh(h4_a + h4_b)"
   ]
  },
  {
   "cell_type": "markdown",
   "metadata": {},
   "source": [
    "마지막 시점인 t=4까지 왔습니다. h4를 이용하여 y를 뽑아야겠죠? 헷갈리시면 그림을 한번 더 보세요!"
   ]
  },
  {
   "cell_type": "code",
   "execution_count": null,
   "metadata": {
    "collapsed": true
   },
   "outputs": [],
   "source": [
    "y = softmax(np.dot(h4, W_hy))"
   ]
  },
  {
   "cell_type": "code",
   "execution_count": null,
   "metadata": {
    "collapsed": false
   },
   "outputs": [],
   "source": [
    "y"
   ]
  },
  {
   "cell_type": "markdown",
   "metadata": {},
   "source": [
    "그럼 이때 제일 확률값이 큰 0번째 index인 'can'이 최종 output으로 나온다는 것을 알 수 있습니다."
   ]
  },
  {
   "cell_type": "markdown",
   "metadata": {},
   "source": [
    "#### Q1. 최종 output인 y를 이용하여 cross-entropy loss를 구해보세요"
   ]
  },
  {
   "cell_type": "code",
   "execution_count": null,
   "metadata": {
    "collapsed": true
   },
   "outputs": [],
   "source": []
  },
  {
   "cell_type": "markdown",
   "metadata": {},
   "source": [
    "### Q2. 위의 과정은 x1에 대해서 rnn 연산을 한번 수행한 것입니다. 그럼 위의 과정을 똑같이 x2에도 직접 적용해 보세요. output은 마지막 데이터가 들어왔을 때 한번만 나오면 됩니다."
   ]
  },
  {
   "cell_type": "code",
   "execution_count": null,
   "metadata": {
    "collapsed": true
   },
   "outputs": [],
   "source": [
    "#h1 계산\n"
   ]
  },
  {
   "cell_type": "code",
   "execution_count": null,
   "metadata": {
    "collapsed": true
   },
   "outputs": [],
   "source": [
    "#h2 계산\n"
   ]
  },
  {
   "cell_type": "code",
   "execution_count": null,
   "metadata": {
    "collapsed": true
   },
   "outputs": [],
   "source": [
    "#h3 계산\n"
   ]
  },
  {
   "cell_type": "code",
   "execution_count": null,
   "metadata": {
    "collapsed": true
   },
   "outputs": [],
   "source": [
    "#h4 계산\n"
   ]
  },
  {
   "cell_type": "code",
   "execution_count": null,
   "metadata": {
    "collapsed": true
   },
   "outputs": [],
   "source": [
    "#y 구하기\n"
   ]
  },
  {
   "cell_type": "code",
   "execution_count": null,
   "metadata": {
    "collapsed": true
   },
   "outputs": [],
   "source": [
    "#loss 구하기\n"
   ]
  }
 ],
 "metadata": {
  "anaconda-cloud": {},
  "kernelspec": {
   "display_name": "Python [conda root]",
   "language": "python",
   "name": "conda-root-py"
  },
  "language_info": {
   "codemirror_mode": {
    "name": "ipython",
    "version": 3
   },
   "file_extension": ".py",
   "mimetype": "text/x-python",
   "name": "python",
   "nbconvert_exporter": "python",
   "pygments_lexer": "ipython3",
   "version": "3.5.4"
  }
 },
 "nbformat": 4,
 "nbformat_minor": 1
}
